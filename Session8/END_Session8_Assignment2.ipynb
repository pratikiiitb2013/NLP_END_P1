{
  "nbformat": 4,
  "nbformat_minor": 0,
  "metadata": {
    "colab": {
      "name": "END_Session8_Assignment2.ipynb",
      "provenance": [],
      "collapsed_sections": [],
      "authorship_tag": "ABX9TyOdL5PEGWlXk4rsXan3h9Z4",
      "include_colab_link": true
    },
    "kernelspec": {
      "name": "python3",
      "display_name": "Python 3"
    }
  },
  "cells": [
    {
      "cell_type": "markdown",
      "metadata": {
        "id": "view-in-github",
        "colab_type": "text"
      },
      "source": [
        "<a href=\"https://colab.research.google.com/github/pratikiiitb2013/NLP_END_P1/blob/main/Session8/END_Session8_Assignment2.ipynb\" target=\"_parent\"><img src=\"https://colab.research.google.com/assets/colab-badge.svg\" alt=\"Open In Colab\"/></a>"
      ]
    },
    {
      "cell_type": "code",
      "metadata": {
        "id": "DZsqz7SEUWsG"
      },
      "source": [
        "# Write a python function which takes variable no of arguments and print them\r\n",
        "\r\n",
        "def print_arguments(*args):\r\n",
        "    for i in args:\r\n",
        "        print(i)\r\n"
      ],
      "execution_count": 1,
      "outputs": []
    },
    {
      "cell_type": "code",
      "metadata": {
        "id": "wt-LFwD6UekR",
        "colab": {
          "base_uri": "https://localhost:8080/"
        },
        "outputId": "c7d49e84-faf1-496e-a454-deac33c78ee7"
      },
      "source": [
        "# Write a python function that takes a list and returns a list with unique elements\r\n",
        "def unique(ll):\r\n",
        "  return list(set(ll))\r\n",
        "\r\n",
        "print(unique([1,2,3,3,10,3,3,4,5])) "
      ],
      "execution_count": 2,
      "outputs": [
        {
          "output_type": "stream",
          "text": [
            "[1, 2, 3, 4, 5, 10]\n"
          ],
          "name": "stdout"
        }
      ]
    },
    {
      "cell_type": "code",
      "metadata": {
        "id": "EgNSL51IWH5w"
      },
      "source": [
        "# Write a python function which takes variable no of arguments and returns a list containing the arguments\r\n",
        "def append_into_list(*args):\r\n",
        "    l = []\r\n",
        "    for i in args:\r\n",
        "        l.append(i)\r\n",
        "    return l\r\n"
      ],
      "execution_count": 3,
      "outputs": []
    },
    {
      "cell_type": "code",
      "metadata": {
        "id": "VcG4p5wSWt3H"
      },
      "source": [
        "# write a python function to find whether all elements in a list are different.\r\n",
        "\r\n",
        "def if_unique(ll):\r\n",
        "  return len(ll) == len(set(ll))"
      ],
      "execution_count": 4,
      "outputs": []
    },
    {
      "cell_type": "code",
      "metadata": {
        "id": "4pWnSupWmi4h",
        "colab": {
          "base_uri": "https://localhost:8080/"
        },
        "outputId": "2331d358-9282-4a09-f9e1-4a4cb8cf5fac"
      },
      "source": [
        "# Write a python program to filter the numbers in a list which are divisible by a given number\r\n",
        "\r\n",
        "l1 = [11, 45, 33, 73, 89, 131, 239, 721, 21]\r\n",
        "n = 3\r\n",
        "result = list(filter(lambda x: (x % n == 0), l1))\r\n",
        "print(f\"Numbers divisible by {n} are {result}\")"
      ],
      "execution_count": 5,
      "outputs": [
        {
          "output_type": "stream",
          "text": [
            "Numbers divisible by 3 are [45, 33, 21]\n"
          ],
          "name": "stdout"
        }
      ]
    },
    {
      "cell_type": "code",
      "metadata": {
        "id": "Ko5n0TFUYagc"
      },
      "source": [
        "# write a python function to find whether all elements in a list are same.\r\n",
        "\r\n",
        "def if_same(ll):\r\n",
        "  return len(set(ll)) == 1"
      ],
      "execution_count": 6,
      "outputs": []
    },
    {
      "cell_type": "code",
      "metadata": {
        "id": "ED6NGGnIYqh5"
      },
      "source": [
        "# write a python function to check whether the input argument is palindrome\r\n",
        "\r\n",
        "def is_palindrome(s):\r\n",
        "    return s == s[::-1]"
      ],
      "execution_count": 7,
      "outputs": []
    },
    {
      "cell_type": "code",
      "metadata": {
        "id": "rsxkhB6PbMHQ"
      },
      "source": [
        "# write a function to check if a lower case letter exists in the input argument\r\n",
        "def if_lower(s):\r\n",
        "    for c in s: \r\n",
        "        k = c.islower()   \r\n",
        "        if k == True: \r\n",
        "            return True \r\n",
        "    if(k != 1): \r\n",
        "        return False"
      ],
      "execution_count": 8,
      "outputs": []
    },
    {
      "cell_type": "code",
      "metadata": {
        "id": "nb6xlR5ym7Ds",
        "colab": {
          "base_uri": "https://localhost:8080/"
        },
        "outputId": "81f80f52-e184-42f2-8da7-9645ced14256"
      },
      "source": [
        "# Write a program to swap first and last elements in a list\r\n",
        "l1 = [1, 2, 3, 4, 5, 6]\r\n",
        "print(l1)\r\n",
        "l1[0], l1[-1] = l1[-1], l1[0]\r\n",
        "print(l1)"
      ],
      "execution_count": 9,
      "outputs": [
        {
          "output_type": "stream",
          "text": [
            "[1, 2, 3, 4, 5, 6]\n",
            "[6, 2, 3, 4, 5, 1]\n"
          ],
          "name": "stdout"
        }
      ]
    },
    {
      "cell_type": "code",
      "metadata": {
        "id": "VEBJaEDKcJRt"
      },
      "source": [
        "# write a function to check if a upper case letter exists in the input argument\r\n",
        "\r\n",
        "def check_upper(s):\r\n",
        "    \r\n",
        "    for c in s: \r\n",
        "        k = c.isupper()   \r\n",
        "        if k == True: \r\n",
        "            return True\r\n",
        "    if(k != 1): \r\n",
        "        return False"
      ],
      "execution_count": 10,
      "outputs": []
    },
    {
      "cell_type": "code",
      "metadata": {
        "id": "ZQ2F9iCHcen9"
      },
      "source": [
        "# Write a python function to return sum all the numbers in a list\r\n",
        "def sum(numbers):\r\n",
        "    total = 0\r\n",
        "    for x in numbers:\r\n",
        "        total += x\r\n",
        "    return total"
      ],
      "execution_count": 11,
      "outputs": []
    },
    {
      "cell_type": "code",
      "metadata": {
        "id": "EK6_xJnndk1E"
      },
      "source": [
        "# Write a python function to multiply all the numbers in a list\r\n",
        "def multiply(numbers):  \r\n",
        "    total = 1\r\n",
        "    for x in numbers:\r\n",
        "        total *= x  \r\n",
        "    return total  "
      ],
      "execution_count": 12,
      "outputs": []
    },
    {
      "cell_type": "code",
      "metadata": {
        "id": "vDDM45ozdu8t"
      },
      "source": [
        "# Write a python function to calculate the factorial of a number through recursion\r\n",
        "def fact(n):\r\n",
        "    if n == 0:\r\n",
        "        return 1\r\n",
        "    else:\r\n",
        "        return n * fact(n-1)"
      ],
      "execution_count": 13,
      "outputs": []
    },
    {
      "cell_type": "code",
      "metadata": {
        "id": "2AkT7d6Ad8K2"
      },
      "source": [
        "# Write a python function to print the number of upper case letters and lower case letters\r\n",
        "def string_test(s):\r\n",
        "    d={\"u_c\":0, \"l_c\":0}\r\n",
        "    for c in s:\r\n",
        "        if c.isupper():\r\n",
        "           d[\"u_c\"]+=1\r\n",
        "        elif c.islower():\r\n",
        "           d[\"l_c\"]+=1\r\n",
        "        else:\r\n",
        "           pass\r\n",
        "    print (\"No. of Upper case letters : \", d[\"u_c\"])\r\n",
        "    print (\"No. of Lower case letters : \", d[\"l_c\"])"
      ],
      "execution_count": 14,
      "outputs": []
    },
    {
      "cell_type": "code",
      "metadata": {
        "id": "MPJZz78_eRlz"
      },
      "source": [
        "# Write a python function to return the even numbers from list\r\n",
        "\r\n",
        "def is_even_num(l):\r\n",
        "    ll = []\r\n",
        "    for n in l:\r\n",
        "        if n % 2 == 0:\r\n",
        "            ll.append(n)\r\n",
        "    return ll"
      ],
      "execution_count": 15,
      "outputs": []
    },
    {
      "cell_type": "code",
      "metadata": {
        "id": "-Lbffmn2ewsC"
      },
      "source": [
        "# Write a python function to return the odd numbers from list\r\n",
        "\r\n",
        "def is_odd_num(l):\r\n",
        "    ll = []\r\n",
        "    for n in l:\r\n",
        "        if n % 2 != 0:\r\n",
        "            ll.append(n)\r\n",
        "    return ll"
      ],
      "execution_count": 16,
      "outputs": []
    },
    {
      "cell_type": "code",
      "metadata": {
        "id": "FKjD0sH65VuI"
      },
      "source": [
        "# Write a python function to remove element at an index from a list \r\n",
        "\r\n",
        "def remove_ele(sample_list, pos):\r\n",
        "  sample_list.pop(pos)\r\n",
        "  return sample_list\r\n"
      ],
      "execution_count": 17,
      "outputs": []
    },
    {
      "cell_type": "code",
      "metadata": {
        "id": "H3qJa7Tx6Ui4"
      },
      "source": [
        "# Write a python function to insert element at an index in a list \r\n",
        "def insert_ele(sample_list, pos, ele):\r\n",
        "  sample_list.insert(pos, ele)\r\n",
        "  return sample_list\r\n"
      ],
      "execution_count": 18,
      "outputs": []
    },
    {
      "cell_type": "code",
      "metadata": {
        "id": "okzvcjLNnKCR"
      },
      "source": [
        "# Write a python function to return sum of squares of first n natural numbers\r\n",
        "def sum_of_squares(n):\r\n",
        "  s = 0\r\n",
        "  for i in range(1, n+1):\r\n",
        "    s += i**2\r\n",
        "  return s\r\n"
      ],
      "execution_count": 19,
      "outputs": []
    },
    {
      "cell_type": "code",
      "metadata": {
        "id": "W7lSZ56jqAKu"
      },
      "source": [
        "# Write a python function to return the area of sqaure given side length\r\n",
        "\r\n",
        "def area_sq(a):\r\n",
        "    return a*a"
      ],
      "execution_count": 20,
      "outputs": []
    },
    {
      "cell_type": "code",
      "metadata": {
        "id": "HCGrq2UHqItL"
      },
      "source": [
        "# Write a python function to return the perimeter of sqaure given side length\r\n",
        "\r\n",
        "def perimeter_sq(a):\r\n",
        "    return a * 4"
      ],
      "execution_count": 21,
      "outputs": []
    },
    {
      "cell_type": "code",
      "metadata": {
        "id": "iXR8NgERqRzk"
      },
      "source": [
        "# Write a python function to return the perimeter of rectangle given length and breadth\r\n",
        "\r\n",
        "def perimeter_rec(l,b):\r\n",
        "    return 2*(l + b)"
      ],
      "execution_count": 22,
      "outputs": []
    },
    {
      "cell_type": "code",
      "metadata": {
        "id": "jWqLFq7Dqdcf"
      },
      "source": [
        "# Write a python function to return the area of rectangle given length and breadth\r\n",
        "\r\n",
        "def area_rec(l,b):\r\n",
        "    return l*b"
      ],
      "execution_count": 23,
      "outputs": []
    },
    {
      "cell_type": "code",
      "metadata": {
        "id": "kOt2GN-a6zMB"
      },
      "source": [
        "# Write a python function to return index of a given elemement in list\r\n",
        "\r\n",
        "def return_index_in_list(sample_list, ele):\r\n",
        "  return sample_list.index(ele)\r\n"
      ],
      "execution_count": 24,
      "outputs": []
    },
    {
      "cell_type": "code",
      "metadata": {
        "id": "kn9Jf5PJ9Pjd"
      },
      "source": [
        "# Write a python function to return the list reversed\r\n",
        "def list_reversed(ll):\r\n",
        "  ll.reverse()\r\n",
        "  return ll\r\n"
      ],
      "execution_count": 25,
      "outputs": []
    },
    {
      "cell_type": "code",
      "metadata": {
        "id": "8Bw_8mox9wYb"
      },
      "source": [
        "# Write a python function to swap two tuples\r\n",
        "def swap_tuples(t1,t2):\r\n",
        "  t1,t2 = t2,t1\r\n",
        "  return t1,t2\r\n"
      ],
      "execution_count": 26,
      "outputs": []
    },
    {
      "cell_type": "code",
      "metadata": {
        "id": "YM6BRq7v-Z1X"
      },
      "source": [
        "# Write a python function to sort a list of tuples by 2nd item\r\n",
        "\r\n",
        "def sort_tuple_list(ll):\r\n",
        "  return sorted(ll, key=lambda x: x[1])\r\n"
      ],
      "execution_count": 27,
      "outputs": []
    },
    {
      "cell_type": "code",
      "metadata": {
        "id": "jMwlNPZgFV-n",
        "colab": {
          "base_uri": "https://localhost:8080/"
        },
        "outputId": "e6d4ff5c-08c6-47dc-98ce-f7e9b4a4bb80"
      },
      "source": [
        "# Write a python program to print multiplication table of a number\r\n",
        "\r\n",
        "n = 2\r\n",
        "for i in range(1, 11, 1):\r\n",
        "    mult = n*i\r\n",
        "    print(n, 'X', i , '=', mult)"
      ],
      "execution_count": 28,
      "outputs": [
        {
          "output_type": "stream",
          "text": [
            "2 X 1 = 2\n",
            "2 X 2 = 4\n",
            "2 X 3 = 6\n",
            "2 X 4 = 8\n",
            "2 X 5 = 10\n",
            "2 X 6 = 12\n",
            "2 X 7 = 14\n",
            "2 X 8 = 16\n",
            "2 X 9 = 18\n",
            "2 X 10 = 20\n"
          ],
          "name": "stdout"
        }
      ]
    },
    {
      "cell_type": "code",
      "metadata": {
        "id": "8-yQ9XtfHd61",
        "colab": {
          "base_uri": "https://localhost:8080/"
        },
        "outputId": "4b1e07f5-cfe4-4014-91fb-79dfae98a098"
      },
      "source": [
        "# Write a python program to print fibonacci series upto n terms\r\n",
        "\r\n",
        "n = 10\r\n",
        "num1, num2 = 0, 1\r\n",
        "count = 0\r\n",
        "\r\n",
        "print(\"Fibonacci sequence:\")\r\n",
        "while count < n:\r\n",
        "    print(num1, end=\"  \")\r\n",
        "    temp = num1 + num2\r\n",
        "    # update values\r\n",
        "    num1 = num2\r\n",
        "    num2 = temp\r\n",
        "    count += 1"
      ],
      "execution_count": 29,
      "outputs": [
        {
          "output_type": "stream",
          "text": [
            "Fibonacci sequence:\n",
            "0  1  1  2  3  5  8  13  21  34  "
          ],
          "name": "stdout"
        }
      ]
    },
    {
      "cell_type": "code",
      "metadata": {
        "id": "y_-m5lN5IXZG",
        "colab": {
          "base_uri": "https://localhost:8080/"
        },
        "outputId": "eb3ff216-6e9d-41ac-cb65-b80001381d71"
      },
      "source": [
        "# Write a python program to find factorial of a number through loop\r\n",
        "num = 7\r\n",
        "fct = 1\r\n",
        "if num < 0:\r\n",
        "    print(\"Factorial does not exist for negative numbers\")\r\n",
        "elif num == 0:\r\n",
        "    print(\"The factorial of 0 is 1\")\r\n",
        "else:\r\n",
        "    for i in range(1, num + 1):\r\n",
        "        fct = fct * i\r\n",
        "    print(\"The factorial of\", num, \"is\", fct)"
      ],
      "execution_count": 30,
      "outputs": [
        {
          "output_type": "stream",
          "text": [
            "The factorial of 7 is 5040\n"
          ],
          "name": "stdout"
        }
      ]
    },
    {
      "cell_type": "code",
      "metadata": {
        "id": "-D3SVFK4IoDy",
        "colab": {
          "base_uri": "https://localhost:8080/"
        },
        "outputId": "1bae0be6-21ac-4343-8e38-f841d589ebb9"
      },
      "source": [
        "# Write a python program to print an integer in reverse order\r\n",
        "\r\n",
        "num = 76542\r\n",
        "reverse_number = 0\r\n",
        "print(\"Given Number \", num)\r\n",
        "while num > 0:\r\n",
        "    reminder = num % 10\r\n",
        "    reverse_number = (reverse_number * 10) + reminder\r\n",
        "    num = num // 10\r\n",
        "print(\"Revered Number \", reverse_number)"
      ],
      "execution_count": 31,
      "outputs": [
        {
          "output_type": "stream",
          "text": [
            "Given Number  76542\n",
            "Revered Number  24567\n"
          ],
          "name": "stdout"
        }
      ]
    },
    {
      "cell_type": "code",
      "metadata": {
        "id": "75oy1nSQSw66",
        "colab": {
          "base_uri": "https://localhost:8080/"
        },
        "outputId": "c50918ff-202a-42d3-ae02-68f86cd54fc3"
      },
      "source": [
        "# Write a python program to print area of a triangle given 3 sides length\r\n",
        "\r\n",
        "a = 10\r\n",
        "b = 20\r\n",
        "c = 20\r\n",
        "\r\n",
        "s = (a + b + c) / 2\r\n",
        "area = (s*(s-a)*(s-b)*(s-c)) ** 0.5\r\n",
        "print('Area is ', area)\r\n"
      ],
      "execution_count": 32,
      "outputs": [
        {
          "output_type": "stream",
          "text": [
            "Area is  96.82458365518542\n"
          ],
          "name": "stdout"
        }
      ]
    },
    {
      "cell_type": "code",
      "metadata": {
        "colab": {
          "base_uri": "https://localhost:8080/"
        },
        "id": "HuCThvBPDeDt",
        "outputId": "818aacce-b861-4e3a-b2cf-dbfca70f13f8"
      },
      "source": [
        "# Write a python program to print area of a triangle given height and width\r\n",
        "\r\n",
        "h = 10\r\n",
        "w = 20\r\n",
        "area = 1/2*(h*w)*1.0\r\n",
        "print('Area is ', area)\r\n"
      ],
      "execution_count": 33,
      "outputs": [
        {
          "output_type": "stream",
          "text": [
            "Area is  100.0\n"
          ],
          "name": "stdout"
        }
      ]
    },
    {
      "cell_type": "code",
      "metadata": {
        "id": "uA2OA9UHJA4G",
        "colab": {
          "base_uri": "https://localhost:8080/"
        },
        "outputId": "818703c3-420d-44a2-88aa-180b8e8701fe"
      },
      "source": [
        "# Write a python program to print cube of number upto a given integer\r\n",
        "\r\n",
        "n = 10\r\n",
        "for i in range(1, n + 1):\r\n",
        "    print(\"Current Number is :\", i, \" and the cube is\", (i * i * i))"
      ],
      "execution_count": 34,
      "outputs": [
        {
          "output_type": "stream",
          "text": [
            "Current Number is : 1  and the cube is 1\n",
            "Current Number is : 2  and the cube is 8\n",
            "Current Number is : 3  and the cube is 27\n",
            "Current Number is : 4  and the cube is 64\n",
            "Current Number is : 5  and the cube is 125\n",
            "Current Number is : 6  and the cube is 216\n",
            "Current Number is : 7  and the cube is 343\n",
            "Current Number is : 8  and the cube is 512\n",
            "Current Number is : 9  and the cube is 729\n",
            "Current Number is : 10  and the cube is 1000\n"
          ],
          "name": "stdout"
        }
      ]
    },
    {
      "cell_type": "code",
      "metadata": {
        "id": "gAYLO5ItJUOM",
        "colab": {
          "base_uri": "https://localhost:8080/"
        },
        "outputId": "a046bd95-e997-4e71-dca5-8ae8aaab0345"
      },
      "source": [
        "# Write a python program to add an element to a dictionary\r\n",
        "\r\n",
        "d = {0:10, 1:20}\r\n",
        "print(d)\r\n",
        "d.update({2:30})\r\n",
        "print(d)"
      ],
      "execution_count": 35,
      "outputs": [
        {
          "output_type": "stream",
          "text": [
            "{0: 10, 1: 20}\n",
            "{0: 10, 1: 20, 2: 30}\n"
          ],
          "name": "stdout"
        }
      ]
    },
    {
      "cell_type": "code",
      "metadata": {
        "id": "Q7wFBeRqKiRg"
      },
      "source": [
        "# Write a python function to return power of a number raised to another number\r\n",
        "\r\n",
        "def power(a,b):\r\n",
        "  if b == 1:\r\n",
        "    return a\r\n",
        "  else:\r\n",
        "    return a*power(a, b-1)\r\n"
      ],
      "execution_count": 36,
      "outputs": []
    },
    {
      "cell_type": "code",
      "metadata": {
        "id": "6sgJaRd-Luob"
      },
      "source": [
        "# Write a python function to get length and breadth of a rectangle and check if it is a square\r\n",
        "\r\n",
        "def check_if_square(length,breadth):\r\n",
        "  if length == breadth:\r\n",
        "    return True\r\n",
        "  else:\r\n",
        "    return False\r\n"
      ],
      "execution_count": 37,
      "outputs": []
    },
    {
      "cell_type": "code",
      "metadata": {
        "id": "sYxHpRpEMrzF"
      },
      "source": [
        "# Write a python function to convert minutes into seconds\r\n",
        "\r\n",
        "def minutes_to_seconds(mins):\r\n",
        "  secs = mins * 60\r\n",
        "  return secs\r\n"
      ],
      "execution_count": 38,
      "outputs": []
    },
    {
      "cell_type": "code",
      "metadata": {
        "id": "4Na_TZSi7naQ"
      },
      "source": [
        "# Write a python function to convert kilometers into miles\r\n",
        "\r\n",
        "def kms_to_miles(kms):\r\n",
        "  miles = kms * 0.621371\r\n",
        "  return miles\r\n"
      ],
      "execution_count": 39,
      "outputs": []
    },
    {
      "cell_type": "code",
      "metadata": {
        "id": "GgrFvmRZOaJg"
      },
      "source": [
        "# Write a python function to convert hours into minutes\r\n",
        "\r\n",
        "def hours_to_minutes(hrs):\r\n",
        "  mins = hrs * 60\r\n",
        "  return mins\r\n"
      ],
      "execution_count": 40,
      "outputs": []
    },
    {
      "cell_type": "code",
      "metadata": {
        "id": "_tuu1xqZQRtW"
      },
      "source": [
        "# Write a python function to convert hours into seconds\r\n",
        "\r\n",
        "def hours_to_seconds(hrs):\r\n",
        "  secs = hrs * 60 * 60\r\n",
        "  return secs\r\n"
      ],
      "execution_count": 41,
      "outputs": []
    },
    {
      "cell_type": "code",
      "metadata": {
        "id": "LC6vearVurd6"
      },
      "source": [
        "# Write a python function to convert celcius into Fahrenheit\r\n",
        "\r\n",
        "def celcius_to_fahrenheit(c):\r\n",
        "  f = ((c * 1.8) + 32)\r\n",
        "  return f\r\n"
      ],
      "execution_count": 42,
      "outputs": []
    },
    {
      "cell_type": "code",
      "metadata": {
        "id": "UHyBp9gTQgBp"
      },
      "source": [
        "# Write a python function to return area of a triangle given 3 sides length\r\n",
        "\r\n",
        "def area_triangle(a,b,c):\r\n",
        "  s = (a + b + c) / 2\r\n",
        "  area = (s*(s-a)*(s-b)*(s-c)) ** 0.5\r\n",
        "  return area\r\n"
      ],
      "execution_count": 43,
      "outputs": []
    },
    {
      "cell_type": "code",
      "metadata": {
        "id": "DP6dRF0-R4r5"
      },
      "source": [
        "# Write a python function to return the last element in a list\r\n",
        "\r\n",
        "def last_element(ll):\r\n",
        "  lastEle = ll[len(ll) - 1]\r\n",
        "  return lastEle\r\n"
      ],
      "execution_count": 44,
      "outputs": []
    },
    {
      "cell_type": "code",
      "metadata": {
        "id": "SPv241RgUVAM"
      },
      "source": [
        "# write a python function to print type of each parameter passed\r\n",
        "\r\n",
        "def parameter_types(*args):\r\n",
        "    for i in args:\r\n",
        "        print(type(i))\r\n"
      ],
      "execution_count": 45,
      "outputs": []
    },
    {
      "cell_type": "code",
      "metadata": {
        "id": "I-oc_c5vWe1g"
      },
      "source": [
        "# write a python function to return number of vowels in input\r\n",
        "def vowelCount(txt):\r\n",
        "   c = 0\r\n",
        "   for t in txt:\r\n",
        "      if t in \"aeiouAEIOU\":\r\n",
        "         c += 1\r\n",
        "   return c\r\n"
      ],
      "execution_count": 46,
      "outputs": []
    },
    {
      "cell_type": "code",
      "metadata": {
        "id": "3B7b87SEYU3b",
        "colab": {
          "base_uri": "https://localhost:8080/"
        },
        "outputId": "0033a6e0-5452-4aa9-e9ca-ce6568d211f4"
      },
      "source": [
        "# write a python program to print a given string n number of times\r\n",
        "\r\n",
        "txt = 'Hello there ! '\r\n",
        "n = 10\r\n",
        "\r\n",
        "print(txt*n)"
      ],
      "execution_count": 47,
      "outputs": [
        {
          "output_type": "stream",
          "text": [
            "Hello there ! Hello there ! Hello there ! Hello there ! Hello there ! Hello there ! Hello there ! Hello there ! Hello there ! Hello there ! \n"
          ],
          "name": "stdout"
        }
      ]
    },
    {
      "cell_type": "code",
      "metadata": {
        "id": "G9GDKGOWYqny",
        "colab": {
          "base_uri": "https://localhost:8080/"
        },
        "outputId": "b02a9162-38bd-43b3-e0f6-9cefcd75ae8d"
      },
      "source": [
        "# Write a python program to convert string into camel case\r\n",
        "\r\n",
        "txt = 'hello, are you there?'\r\n",
        "camel_case = txt.title()\r\n",
        "\r\n",
        "print(camel_case)"
      ],
      "execution_count": 48,
      "outputs": [
        {
          "output_type": "stream",
          "text": [
            "Hello, Are You There?\n"
          ],
          "name": "stdout"
        }
      ]
    },
    {
      "cell_type": "code",
      "metadata": {
        "id": "7sbx4wbyaVrH"
      },
      "source": [
        "# write a python function that interchanges the keys and values in a dictionary and returns it\r\n",
        "def invert_dict(d):\r\n",
        "   inverted_dict = {v: k for k, v in d.items()}\r\n",
        "   return inverted_dict"
      ],
      "execution_count": 49,
      "outputs": []
    },
    {
      "cell_type": "code",
      "metadata": {
        "id": "GnWtflKVF4Ps"
      },
      "source": [
        "# Write a program to to check if a triangle is valid or not, given length of 3 sides\r\n",
        "\r\n",
        "def if_triangle_valid(s1, s2, s3):\r\n",
        "    if s1>0 and s2>0 and s3>0:\r\n",
        "        if s1+s2 > s3 and s1+s3 > s2 and s2+s3 > s1:\r\n",
        "            return True\r\n",
        "    return False"
      ],
      "execution_count": 50,
      "outputs": []
    },
    {
      "cell_type": "code",
      "metadata": {
        "id": "gJT9sk-ZfCx9"
      },
      "source": [
        "# Write a python function to sort a list of strings by length\r\n",
        "\r\n",
        "def sort_tuple_list(ll):\r\n",
        "  return sorted(ll, key=lambda x: len(x))\r\n"
      ],
      "execution_count": 51,
      "outputs": []
    },
    {
      "cell_type": "code",
      "metadata": {
        "id": "aDe7nBFjrsUD"
      },
      "source": [
        "# Write a function to return the average of input arguments\r\n",
        "\r\n",
        "def arg_avg(*args):\r\n",
        "  return sum(args)/len(args)\r\n",
        "\r\n"
      ],
      "execution_count": 52,
      "outputs": []
    },
    {
      "cell_type": "code",
      "metadata": {
        "id": "x0gY073AfjaW"
      },
      "source": [
        "# write a python function to return a sentence without punctuation\r\n",
        "def withput_punctuations(txt):\r\n",
        "   punctuations = '''!()-[]{};:'\"\\,<>./?@#$%^&*_~'''\r\n",
        "   s = ''\r\n",
        "   for char in txt:\r\n",
        "      if char not in punctuations:\r\n",
        "         s = s + char\r\n",
        "   return s"
      ],
      "execution_count": 53,
      "outputs": []
    },
    {
      "cell_type": "code",
      "metadata": {
        "id": "bRcxPVwFfzJ7"
      },
      "source": [
        "# write a python function to print the binary representation of a  number\r\n",
        "def binary_representation(n):\r\n",
        "   print(bin(n))\r\n"
      ],
      "execution_count": 54,
      "outputs": []
    },
    {
      "cell_type": "code",
      "metadata": {
        "id": "Qi27TRBqgKVG"
      },
      "source": [
        "# write a python function to print the octal representation of a  number\r\n",
        "def octal_representation(n):\r\n",
        "   print(oct(n))\r\n"
      ],
      "execution_count": 55,
      "outputs": []
    },
    {
      "cell_type": "code",
      "metadata": {
        "id": "HUSAf9qMgSFv"
      },
      "source": [
        "# write a python function to print the hexadecimal representation of a  number\r\n",
        "def hex_representation(n):\r\n",
        "   print(hex(n))\r\n"
      ],
      "execution_count": 56,
      "outputs": []
    },
    {
      "cell_type": "code",
      "metadata": {
        "id": "3k6nTuOYiJGi",
        "colab": {
          "base_uri": "https://localhost:8080/"
        },
        "outputId": "41f75df5-d123-409b-ae74-2b35dc7dccb8"
      },
      "source": [
        "# write a python program to print the count of letters and digits in sentence\r\n",
        "\r\n",
        "sentence = 'Hello 1234 are you there 345'\r\n",
        "d = 0\r\n",
        "l = 0\r\n",
        "for s in sentence:\r\n",
        "   if s.isdigit():\r\n",
        "      d += 1\r\n",
        "   elif s.isalpha():\r\n",
        "      l += 1\r\n",
        "   else:\r\n",
        "      pass\r\n",
        "print(f'Digits: {d}, Letters: {l}')"
      ],
      "execution_count": 57,
      "outputs": [
        {
          "output_type": "stream",
          "text": [
            "Digits: 7, Letters: 16\n"
          ],
          "name": "stdout"
        }
      ]
    },
    {
      "cell_type": "code",
      "metadata": {
        "id": "ckDm9NE3sHfS"
      },
      "source": [
        "# Write a function to calculate simple interest, given p, r, t\r\n",
        "def simple_interest(p, r, t):\r\n",
        "    interest = (p*r*t)/100\r\n",
        "    return interest"
      ],
      "execution_count": 58,
      "outputs": []
    },
    {
      "cell_type": "code",
      "metadata": {
        "id": "1M6PJ9cXCjxG"
      },
      "source": [
        "# Write a function to calculate compound interest, given p, r, t\r\n",
        "def compound_interest(p, r, t):\r\n",
        "    amount = p * (1 + (r/100))**t\r\n",
        "    interest = amount - p\r\n",
        "    return interest\r\n"
      ],
      "execution_count": 59,
      "outputs": []
    },
    {
      "cell_type": "code",
      "metadata": {
        "id": "60zdXYBLiTo5",
        "colab": {
          "base_uri": "https://localhost:8080/"
        },
        "outputId": "10796b6f-642f-4634-f65d-9c7548897a2e"
      },
      "source": [
        "# write a python program to remove odd numbers from a list using list comprehensions\r\n",
        "\r\n",
        "nums = [1, 2, 3, 4, 5, 6, 7, 8]\r\n",
        "no_odd_nums = [i for i in nums if i % 2 == 0]\r\n",
        "\r\n",
        "print(no_odd_nums)"
      ],
      "execution_count": 60,
      "outputs": [
        {
          "output_type": "stream",
          "text": [
            "[2, 4, 6, 8]\n"
          ],
          "name": "stdout"
        }
      ]
    },
    {
      "cell_type": "code",
      "metadata": {
        "id": "m3UpdbrVit5T",
        "colab": {
          "base_uri": "https://localhost:8080/"
        },
        "outputId": "fc9a436c-55be-4bf3-9b74-a60a7c7769ad"
      },
      "source": [
        "# write a python program to remove even numbers from a list using list comprehensions\r\n",
        "\r\n",
        "nums = [1, 2, 3, 4, 5, 6, 7, 8]\r\n",
        "no_even_nums = [i for i in nums if i % 2 == 1]\r\n",
        "\r\n",
        "print(no_even_nums)"
      ],
      "execution_count": 61,
      "outputs": [
        {
          "output_type": "stream",
          "text": [
            "[1, 3, 5, 7]\n"
          ],
          "name": "stdout"
        }
      ]
    },
    {
      "cell_type": "code",
      "metadata": {
        "id": "fZ6W2BHJi2sC",
        "colab": {
          "base_uri": "https://localhost:8080/"
        },
        "outputId": "f45e1efd-8731-49ff-de79-f9e1dab7c0e0"
      },
      "source": [
        "# Write a python program to randomly select n elements from a list\r\n",
        "\r\n",
        "import random\r\n",
        "l1 = [2, 2, 4, 10, 3, 1, 6, 6, 8] \r\n",
        "n = 2\r\n",
        "l2 = random.sample(l1, n)\r\n",
        "\r\n",
        "print(l2) "
      ],
      "execution_count": 62,
      "outputs": [
        {
          "output_type": "stream",
          "text": [
            "[10, 6]\n"
          ],
          "name": "stdout"
        }
      ]
    },
    {
      "cell_type": "code",
      "metadata": {
        "id": "qX3wWhhUjg9m"
      },
      "source": [
        "# Write a python function to randomly return n elements from input list\r\n",
        "\r\n",
        "def random_subset(l, n):\r\n",
        "  import random\r\n",
        "  return random.sample(l,n)\r\n"
      ],
      "execution_count": 63,
      "outputs": []
    },
    {
      "cell_type": "code",
      "metadata": {
        "id": "qFqd9oD8j90h"
      },
      "source": [
        "# Write a python function to print whether a number is negative or positive\r\n",
        "def if_positive(n):\r\n",
        "    if n >= 0:\r\n",
        "       print(\"Positive\")\r\n",
        "    else:\r\n",
        "       print(\"Negative\")"
      ],
      "execution_count": 64,
      "outputs": []
    },
    {
      "cell_type": "code",
      "metadata": {
        "id": "R7yfLP1dkX_Y"
      },
      "source": [
        "# Write a python function to return area of a circle given radius\r\n",
        "\r\n",
        "def area_circle(r): \r\n",
        "    return 3.142 * (r*r)"
      ],
      "execution_count": 65,
      "outputs": []
    },
    {
      "cell_type": "code",
      "metadata": {
        "id": "ZLPjZ6c2rFvo"
      },
      "source": [
        "# Write a python function to return perimeter of a circle given radius\r\n",
        "\r\n",
        "def perimeter_circle(r): \r\n",
        "    return 2 * 3.142 * r"
      ],
      "execution_count": 66,
      "outputs": []
    },
    {
      "cell_type": "code",
      "metadata": {
        "id": "R6b_ts0RrQCU"
      },
      "source": [
        "# Write a function to return the nth day of week\r\n",
        "def day_name(n):\r\n",
        "  if n <= 7:\r\n",
        "    dct = {1: 'Sunday', 2: 'Monday', 3: 'Tuesday', 4: 'Wednesday', 5: 'Thursday', 6: 'Friday', 7: 'Saturday'}\r\n",
        "    return dct[n]\r\n",
        "  else:\r\n",
        "    print('A week has only 7 days')"
      ],
      "execution_count": 67,
      "outputs": []
    },
    {
      "cell_type": "code",
      "metadata": {
        "id": "CR0U6IUsIJgl"
      },
      "source": [
        "# write a python function that sorts the input list through bubble sort algorithm\r\n",
        "\r\n",
        "def bubble_sort(A):\r\n",
        "  for i in range(len(A)):\r\n",
        "    for k in range(len(A)-1, i, -1):\r\n",
        "      if A[k] < A[k-1]:\r\n",
        "        A[k],A[k-1] = A[k-1],A[k]"
      ],
      "execution_count": 68,
      "outputs": []
    },
    {
      "cell_type": "code",
      "metadata": {
        "id": "iBAKSQE_IUOd"
      },
      "source": [
        "# write a python function that sorts the input list through insersion sort algorithm\r\n",
        "\r\n",
        "def insertion_sort(A):\r\n",
        "    for i in range(1,len(A)):\r\n",
        "        temp = A[i]\r\n",
        "        k = i\r\n",
        "        while k >0 and temp < A[k-1]:\r\n",
        "            A[k] = A[k-1]\r\n",
        "            k -= 1\r\n",
        "        A[k] = temp"
      ],
      "execution_count": 69,
      "outputs": []
    },
    {
      "cell_type": "code",
      "metadata": {
        "id": "MylR50vdrWnk"
      },
      "source": [
        "# write a python function that returns the input list sorted in ascending order\r\n",
        "\r\n",
        "def sort_list_asc(l):\r\n",
        "    return sorted(l)\r\n"
      ],
      "execution_count": 70,
      "outputs": []
    },
    {
      "cell_type": "code",
      "metadata": {
        "id": "fROFDNMFsqxz"
      },
      "source": [
        "# write a python function that returns the input list sorted in descending order\r\n",
        "\r\n",
        "def sort_list_desc(l):\r\n",
        "    return sorted(l, reverse=True)"
      ],
      "execution_count": 71,
      "outputs": []
    },
    {
      "cell_type": "code",
      "metadata": {
        "id": "8iB2P9h7szwm"
      },
      "source": [
        "# Write a python function for z - normalization given mean and standard deviation\r\n",
        "\r\n",
        "def z_normalize(l, m, sd):\r\n",
        "  return [((x-m)/sd*1.0) for x in l]\r\n"
      ],
      "execution_count": 72,
      "outputs": []
    },
    {
      "cell_type": "code",
      "metadata": {
        "id": "TDboBsrjttSn"
      },
      "source": [
        "# write a python function to convert elements of a list to percentage of total\r\n",
        "\r\n",
        "def convert_perc(l):\r\n",
        "  return[round((i*100.0/sum(l)),2) for i in l]\r\n",
        "\r\n"
      ],
      "execution_count": 73,
      "outputs": []
    },
    {
      "cell_type": "code",
      "metadata": {
        "id": "DPqTsZdEv4A-"
      },
      "source": [
        "# write a python function to find what percentage of maximum value is each element\r\n",
        "\r\n",
        "def perc_of_max(l):\r\n",
        "  return[round((i*100.0/max(l)),2) for i in l]\r\n"
      ],
      "execution_count": 74,
      "outputs": []
    },
    {
      "cell_type": "code",
      "metadata": {
        "id": "1Up2mJU8wQhM"
      },
      "source": [
        "# Write a python function to return pairwise combinations from a list\r\n",
        "\r\n",
        "def create_pairs(l):\r\n",
        "  return [(l[i],l[i+1]) for i in range(len(l)-1)]\r\n"
      ],
      "execution_count": 75,
      "outputs": []
    },
    {
      "cell_type": "code",
      "metadata": {
        "colab": {
          "base_uri": "https://localhost:8080/"
        },
        "id": "JyyrQAMenzMj",
        "outputId": "074e5575-cc8a-4e46-8c94-6e1a172b3192"
      },
      "source": [
        "# Write a python program to combine 2 lists as keys and values of a dictionary\r\n",
        "l1 = [1,2,3]\r\n",
        "l2 = ['a','b','c']\r\n",
        "\r\n",
        "dic = dict(zip(l1,l2))\r\n",
        "print(dic)"
      ],
      "execution_count": 76,
      "outputs": [
        {
          "output_type": "stream",
          "text": [
            "{1: 'a', 2: 'b', 3: 'c'}\n"
          ],
          "name": "stdout"
        }
      ]
    },
    {
      "cell_type": "code",
      "metadata": {
        "colab": {
          "base_uri": "https://localhost:8080/"
        },
        "id": "6I-N71HYpvAW",
        "outputId": "0fb96fd8-9b8f-473c-c17f-7833e54a0023"
      },
      "source": [
        "# write a python program to combine 2 lists as a list of tuples\r\n",
        "\r\n",
        "l1 = [1,2,3]\r\n",
        "l2 = ['a','b','c']\r\n",
        "\r\n",
        "tp = list(zip(l1,l2))\r\n",
        "print(dic)"
      ],
      "execution_count": 77,
      "outputs": [
        {
          "output_type": "stream",
          "text": [
            "{1: 'a', 2: 'b', 3: 'c'}\n"
          ],
          "name": "stdout"
        }
      ]
    },
    {
      "cell_type": "code",
      "metadata": {
        "colab": {
          "base_uri": "https://localhost:8080/"
        },
        "id": "BQ-71hA9qA3C",
        "outputId": "3e67544e-c9ea-4036-ebb8-55be3aa293ab"
      },
      "source": [
        "# write a python program to print weighted average given list of numbers and weights\r\n",
        "\r\n",
        "nos = [1,2,3,4]\r\n",
        "wts = [1,0.4,0.2,0.4]\r\n",
        "\r\n",
        "mult = [x*y for x,y in zip(nos, wts)]\r\n",
        "sm = sum(mult)\r\n",
        "weighted_average = sm/sum(wts)\r\n",
        "print(weighted_average)"
      ],
      "execution_count": 78,
      "outputs": [
        {
          "output_type": "stream",
          "text": [
            "2.0\n"
          ],
          "name": "stdout"
        }
      ]
    },
    {
      "cell_type": "code",
      "metadata": {
        "colab": {
          "base_uri": "https://localhost:8080/"
        },
        "id": "nGMunbARrDXC",
        "outputId": "821b294a-56f5-45d8-8817-63ec2035a23e"
      },
      "source": [
        "# write a python program to count the number of each vowel is a sentence\r\n",
        "\r\n",
        "txt = 'Hello, are you there or not and if not then why not?'\r\n",
        "txt = txt.lower()\r\n",
        "dic = {x:sum([1 for c in txt if c == x]) for x in 'aeiou'}\r\n",
        "\r\n",
        "print(dic)"
      ],
      "execution_count": 79,
      "outputs": [
        {
          "output_type": "stream",
          "text": [
            "{'a': 2, 'e': 5, 'i': 1, 'o': 6, 'u': 1}\n"
          ],
          "name": "stdout"
        }
      ]
    },
    {
      "cell_type": "code",
      "metadata": {
        "colab": {
          "base_uri": "https://localhost:8080/"
        },
        "id": "gkU86XOYtqe_",
        "outputId": "ec4b46af-7595-426e-fe21-8991baffdaba"
      },
      "source": [
        "# write a python program to find the square root of a number\r\n",
        "\r\n",
        "n = 8\r\n",
        "sq_rt = n**0.5\r\n",
        "\r\n",
        "print(sq_rt)"
      ],
      "execution_count": 80,
      "outputs": [
        {
          "output_type": "stream",
          "text": [
            "2.8284271247461903\n"
          ],
          "name": "stdout"
        }
      ]
    },
    {
      "cell_type": "code",
      "metadata": {
        "colab": {
          "base_uri": "https://localhost:8080/"
        },
        "id": "0LvRuedVGtWe",
        "outputId": "2e1e0d2a-80f9-465b-a825-92336915693e"
      },
      "source": [
        "# write a python program that prints out natural numbers given an input in reverse order\r\n",
        "input_num = 32\r\n",
        "while input_num:\r\n",
        "    print(input_num)\r\n",
        "    input_num -= 1"
      ],
      "execution_count": 81,
      "outputs": [
        {
          "output_type": "stream",
          "text": [
            "32\n",
            "31\n",
            "30\n",
            "29\n",
            "28\n",
            "27\n",
            "26\n",
            "25\n",
            "24\n",
            "23\n",
            "22\n",
            "21\n",
            "20\n",
            "19\n",
            "18\n",
            "17\n",
            "16\n",
            "15\n",
            "14\n",
            "13\n",
            "12\n",
            "11\n",
            "10\n",
            "9\n",
            "8\n",
            "7\n",
            "6\n",
            "5\n",
            "4\n",
            "3\n",
            "2\n",
            "1\n"
          ],
          "name": "stdout"
        }
      ]
    },
    {
      "cell_type": "code",
      "metadata": {
        "id": "PH0-Ireyunul"
      },
      "source": [
        "# write a python function to return if a number is an armstrong number\r\n",
        "\r\n",
        "def is_armstrong(n):\r\n",
        "  sum = 0\r\n",
        "  temp = n\r\n",
        "  while temp > 0:\r\n",
        "   digit = temp % 10\r\n",
        "   sum += digit ** 3\r\n",
        "   temp //= 10\r\n",
        "   if n == sum:\r\n",
        "     return True\r\n",
        "  else:\r\n",
        "    return False\r\n",
        "\r\n"
      ],
      "execution_count": 82,
      "outputs": []
    },
    {
      "cell_type": "code",
      "metadata": {
        "id": "wnmg2SHPzco9"
      },
      "source": [
        "# write a python function to return factors of a given number\r\n",
        "\r\n",
        "def factors(n):\r\n",
        "  l = []\r\n",
        "  for i in range(1, n + 1):\r\n",
        "    if n % i == 0:\r\n",
        "      l.append(i)\r\n",
        "  return l\r\n"
      ],
      "execution_count": 83,
      "outputs": []
    },
    {
      "cell_type": "code",
      "metadata": {
        "id": "OZeUst2__Ygd"
      },
      "source": [
        "# write a python function that takes a list as an input and converts all numbers to positive numbers and returns the new list\r\n",
        "\r\n",
        "def make_all_positive(nums):\r\n",
        "   return [num if num > 0 else -num for num in nums]\r\n"
      ],
      "execution_count": 84,
      "outputs": []
    },
    {
      "cell_type": "code",
      "metadata": {
        "id": "7BEoG0lL_Z29"
      },
      "source": [
        "\r\n",
        "# write a python function that takes a list as an input and converts all numbers to negative numbers and returns the new list\r\n",
        "\r\n",
        "def make_all_negative(nums):\r\n",
        "   return [num if num < 0 else -num for num in nums]"
      ],
      "execution_count": 85,
      "outputs": []
    },
    {
      "cell_type": "code",
      "metadata": {
        "id": "ENPSdrrH2nqd"
      },
      "source": [
        "# write a program to return sum of n natural numbers dtarting from 1 given n\r\n",
        "\r\n",
        "def sum_natural_nos(n):\r\n",
        "  return n*(n+1)/2\r\n"
      ],
      "execution_count": 86,
      "outputs": []
    },
    {
      "cell_type": "code",
      "metadata": {
        "id": "TIsRA8p6BPiK"
      },
      "source": [
        "# write a python function to add 2 lists element wise\r\n",
        "def add_two_lists(list1, list2):\r\n",
        "   sum_list = []\r\n",
        "   for (item1, item2) in zip(list1, list2):\r\n",
        "      sum_list.append(item1+item2)\r\n",
        "   return sum_list\r\n"
      ],
      "execution_count": 87,
      "outputs": []
    },
    {
      "cell_type": "code",
      "metadata": {
        "id": "V2rjr09d3Ntc"
      },
      "source": [
        "# write python function to find ASCII value of a character\r\n",
        "\r\n",
        "def ascii_val(c):\r\n",
        "  ascii_v = ord(c)\r\n",
        "  return ascii_v\r\n"
      ],
      "execution_count": 88,
      "outputs": []
    },
    {
      "cell_type": "code",
      "metadata": {
        "id": "Nt194hig4qMx"
      },
      "source": [
        "# write python function to find next character of input character\r\n",
        "\r\n",
        "def next_char(c):\r\n",
        "  ascii_v = ord(c)\r\n",
        "  next_ascii = ascii_v + 1\r\n",
        "  next_c = chr(next_ascii)\r\n",
        "  return next_c\r\n"
      ],
      "execution_count": 89,
      "outputs": []
    },
    {
      "cell_type": "code",
      "metadata": {
        "id": "SJthaGhl5IDo"
      },
      "source": [
        "# write python function to find character from ascii value\r\n",
        "\r\n",
        "def find_char(n):\r\n",
        "  chr_v = chr(n)\r\n",
        "  return chr_v\r\n"
      ],
      "execution_count": 90,
      "outputs": []
    },
    {
      "cell_type": "code",
      "metadata": {
        "colab": {
          "base_uri": "https://localhost:8080/"
        },
        "id": "t-Chuhgk6Fab",
        "outputId": "7c8b3a38-dd87-4945-ed53-a734bfb04c40"
      },
      "source": [
        "# write a python program to shuffle a deck\r\n",
        "\r\n",
        "import itertools, random\r\n",
        "deck = list(itertools.product(range(1,14),['Spade','Heart','Diamond','Club']))\r\n",
        "random.shuffle(deck)\r\n",
        "\r\n",
        "print(deck)"
      ],
      "execution_count": 91,
      "outputs": [
        {
          "output_type": "stream",
          "text": [
            "[(1, 'Club'), (11, 'Diamond'), (8, 'Diamond'), (4, 'Club'), (12, 'Spade'), (9, 'Club'), (2, 'Club'), (12, 'Diamond'), (10, 'Club'), (3, 'Club'), (13, 'Heart'), (6, 'Club'), (8, 'Spade'), (4, 'Heart'), (2, 'Heart'), (12, 'Heart'), (8, 'Heart'), (10, 'Spade'), (7, 'Spade'), (7, 'Heart'), (3, 'Diamond'), (13, 'Spade'), (1, 'Spade'), (11, 'Heart'), (10, 'Diamond'), (6, 'Diamond'), (4, 'Spade'), (6, 'Heart'), (1, 'Heart'), (4, 'Diamond'), (7, 'Club'), (10, 'Heart'), (9, 'Heart'), (12, 'Club'), (2, 'Diamond'), (7, 'Diamond'), (5, 'Club'), (3, 'Heart'), (1, 'Diamond'), (13, 'Club'), (2, 'Spade'), (11, 'Spade'), (5, 'Heart'), (6, 'Spade'), (9, 'Diamond'), (5, 'Diamond'), (13, 'Diamond'), (3, 'Spade'), (8, 'Club'), (5, 'Spade'), (9, 'Spade'), (11, 'Club')]\n"
          ],
          "name": "stdout"
        }
      ]
    },
    {
      "cell_type": "code",
      "metadata": {
        "id": "fKTe24fK7J2j"
      },
      "source": [
        "# write a python function to return mean of a list\r\n",
        "def list_mean(l):\r\n",
        "  s = sum(l)\r\n",
        "  ln = len(l)\r\n",
        "  return s/ln\r\n",
        "\r\n"
      ],
      "execution_count": 92,
      "outputs": []
    },
    {
      "cell_type": "code",
      "metadata": {
        "id": "sHClhsWw8v70"
      },
      "source": [
        "# write a python function to return mean of a list\r\n",
        "def list_median(l):\r\n",
        "  ln = len(l)\r\n",
        "  idx = ln // 2\r\n",
        "  if ln % 2:\r\n",
        "    return sorted(l)[idx]\r\n",
        "  return sum(sorted(l)[idx - 1:idx + 1]) / 2\r\n",
        "\r\n"
      ],
      "execution_count": 93,
      "outputs": []
    },
    {
      "cell_type": "code",
      "metadata": {
        "id": "5UcTjHWl9PRt"
      },
      "source": [
        "# write a python function to return common elements from 2 lists\r\n",
        "\r\n",
        "def common_from_lists(l1,l2):\r\n",
        "  comm_ele = list(set(l1).intersection(set(l2)))\r\n",
        "  return comm_ele\r\n"
      ],
      "execution_count": 94,
      "outputs": []
    },
    {
      "cell_type": "code",
      "metadata": {
        "id": "JozSZ7z7-Mol"
      },
      "source": [
        "# write a python program to convert a list to a dictionary where the key is the index and the value is the item in the list\r\n",
        "my_list = [1, 8, 1, 2, 2, 9]\r\n",
        "my_dict = {key: value for key, value in enumerate(my_list)}"
      ],
      "execution_count": 95,
      "outputs": []
    },
    {
      "cell_type": "code",
      "metadata": {
        "id": "O3cq_o1N-7QI"
      },
      "source": [
        "# write a python function to reverse the sign of elements of a list\r\n",
        "\r\n",
        "def reverse_sign(l):\r\n",
        "  l2 = [-x for x in l]\r\n",
        "  return l2\r\n"
      ],
      "execution_count": 96,
      "outputs": []
    },
    {
      "cell_type": "code",
      "metadata": {
        "id": "iSxVWBy0DDj4"
      },
      "source": [
        "# Write a python function that seperate positive and negative numbers into seperate lists\r\n",
        "def pos_neg(l):\r\n",
        "    pl = []\r\n",
        "    nl = []\r\n",
        "    for n in l:\r\n",
        "        if n<0:\r\n",
        "            nl.append(n)\r\n",
        "        else:\r\n",
        "            pl.append(n)\r\n",
        "    return pl,nl"
      ],
      "execution_count": 97,
      "outputs": []
    },
    {
      "cell_type": "code",
      "metadata": {
        "id": "aAcjmZly_RPI"
      },
      "source": [
        "# write a python function to check if a string is substring of another\r\n",
        "\r\n",
        "def is_subString(s1,s2):\r\n",
        "  if (s1.find(s2) == -1): \r\n",
        "      return False\r\n",
        "  else: \r\n",
        "      return True"
      ],
      "execution_count": 98,
      "outputs": []
    },
    {
      "cell_type": "code",
      "metadata": {
        "id": "Ka7qq7OsAEc1"
      },
      "source": [
        "# write a python function that return number of spaces in given text\r\n",
        " \r\n",
        "def count_spaces(txt): \r\n",
        "    count = 0\r\n",
        "    for i in range(0, len(txt)): \r\n",
        "        if txt[i] == \" \": \r\n",
        "            count += 1\r\n",
        "    return count"
      ],
      "execution_count": 99,
      "outputs": []
    },
    {
      "cell_type": "code",
      "metadata": {
        "id": "X_bMutBPA35p"
      },
      "source": [
        "# Write a function that returns the sum of digits of a given number\r\n",
        "def digit_sum(n):\r\n",
        "    sm=0\r\n",
        "    while n > 0:\r\n",
        "        d = n % 10\r\n",
        "        sm+=d\r\n",
        "        n//=10\r\n",
        "    return sm"
      ],
      "execution_count": 100,
      "outputs": []
    }
  ]
}