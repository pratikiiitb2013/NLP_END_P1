{
  "nbformat": 4,
  "nbformat_minor": 0,
  "metadata": {
    "colab": {
      "name": "Assignment3_submission.ipynb",
      "provenance": [],
      "collapsed_sections": [],
      "authorship_tag": "ABX9TyOtBRNfWIN3lS8INXtmc6gK",
      "include_colab_link": true
    },
    "kernelspec": {
      "name": "python3",
      "display_name": "Python 3"
    }
  },
  "cells": [
    {
      "cell_type": "markdown",
      "metadata": {
        "id": "view-in-github",
        "colab_type": "text"
      },
      "source": [
        "<a href=\"https://colab.research.google.com/github/pratikiiitb2013/NLP_END_P1/blob/main/Session3/Assignment3_submission.ipynb\" target=\"_parent\"><img src=\"https://colab.research.google.com/assets/colab-badge.svg\" alt=\"Open In Colab\"/></a>"
      ]
    },
    {
      "cell_type": "markdown",
      "metadata": {
        "id": "J3rJxCrbHNes"
      },
      "source": [
        "## Question 1"
      ]
    },
    {
      "cell_type": "code",
      "metadata": {
        "id": "I8_HELXeGd24"
      },
      "source": [
        "def Fibonacci(n):\n",
        "    if n<=0:\n",
        "        print(\"Incorrect input\")\n",
        "    # First Fibonacci number is 0\n",
        "    elif n==1:\n",
        "        return 0\n",
        "    # Second Fibonacci number is 1\n",
        "    elif n==2:\n",
        "        return 1\n",
        "    else:\n",
        "        return Fibonacci(n-1)+Fibonacci(n-2)"
      ],
      "execution_count": 1,
      "outputs": []
    },
    {
      "cell_type": "code",
      "metadata": {
        "colab": {
          "base_uri": "https://localhost:8080/"
        },
        "id": "VDFxuQFzGmax",
        "outputId": "d38c4a4a-283e-4e87-fec6-b0b084cc9933"
      },
      "source": [
        "fibo_list = [Fibonacci(x) for x in range(1, 10)]\n",
        "\n",
        "fibo_list"
      ],
      "execution_count": 2,
      "outputs": [
        {
          "output_type": "execute_result",
          "data": {
            "text/plain": [
              "[0, 1, 1, 2, 3, 5, 8, 13, 21]"
            ]
          },
          "metadata": {
            "tags": []
          },
          "execution_count": 2
        }
      ]
    },
    {
      "cell_type": "code",
      "metadata": {
        "colab": {
          "base_uri": "https://localhost:8080/"
        },
        "id": "UVpkwwaNGpM4",
        "outputId": "5c0e3be4-0f82-423f-905a-ac6e8f0e0af3"
      },
      "source": [
        "input_nums = [1, 2, 4, 5]\n",
        "\n",
        "\n",
        "list(filter(lambda x: x in fibo_list, input_nums))"
      ],
      "execution_count": 3,
      "outputs": [
        {
          "output_type": "execute_result",
          "data": {
            "text/plain": [
              "[1, 2, 5]"
            ]
          },
          "metadata": {
            "tags": []
          },
          "execution_count": 3
        }
      ]
    },
    {
      "cell_type": "markdown",
      "metadata": {
        "id": "aIEaHlXLHVjb"
      },
      "source": [
        "## Question 2"
      ]
    },
    {
      "cell_type": "code",
      "metadata": {
        "colab": {
          "base_uri": "https://localhost:8080/"
        },
        "id": "RORpgm1vGtiK",
        "outputId": "9dfbfd88-0735-4932-c68e-3320c7373558"
      },
      "source": [
        "a = range(1,10)\n",
        "\n",
        "b = range(20,29)\n",
        "\n",
        "it_sum = [it1+it2 for it1, it2 in zip(filter(lambda x: x%2==0, a), filter(lambda x: x%2==1, b))]\n",
        "\n",
        "it_sum"
      ],
      "execution_count": 4,
      "outputs": [
        {
          "output_type": "execute_result",
          "data": {
            "text/plain": [
              "[23, 27, 31, 35]"
            ]
          },
          "metadata": {
            "tags": []
          },
          "execution_count": 4
        }
      ]
    },
    {
      "cell_type": "code",
      "metadata": {
        "colab": {
          "base_uri": "https://localhost:8080/"
        },
        "id": "-Kxy4B3CHcKx",
        "outputId": "767bdcf7-569b-4304-e373-d95a7fee56de"
      },
      "source": [
        "sum(it_sum)"
      ],
      "execution_count": 5,
      "outputs": [
        {
          "output_type": "execute_result",
          "data": {
            "text/plain": [
              "116"
            ]
          },
          "metadata": {
            "tags": []
          },
          "execution_count": 5
        }
      ]
    },
    {
      "cell_type": "markdown",
      "metadata": {
        "id": "l-A0l4_uHf4b"
      },
      "source": [
        "## Question 3"
      ]
    },
    {
      "cell_type": "code",
      "metadata": {
        "id": "5AoyRA9oHdyw"
      },
      "source": [
        "import urllib.request as urllib2\n",
        "\n",
        "prof_words_url = urllib2.urlopen(\"https://raw.githubusercontent.com/RobertJGabriel/Google-profanity-words/master/list.txt\")\n",
        "    \n",
        "prof_words = [x.decode(\"utf-8\").strip() for x in prof_words_url]\n",
        "\n",
        "youreallyaskedforprofanityman = \"\"\"LEARNING Nlp to clean world's sh!t is somewhat similar to daily garbage clearner infront of our house.\n",
        "But if we were in UK/US we could have still earned some shyt. But fuckin doing this in India, am not seeing any difference to our lives at all.\n",
        "So screw you mod*. screw u gand*i. all u gaandus are loafers worthy of dick sucking. Hahah, identify the indian gali if you can bitch!\"\"\""
      ],
      "execution_count": 6,
      "outputs": []
    },
    {
      "cell_type": "code",
      "metadata": {
        "colab": {
          "base_uri": "https://localhost:8080/"
        },
        "id": "DnKe4CxwHplQ",
        "outputId": "a0edff82-df79-471f-9eb9-dd337c065495"
      },
      "source": [
        "[x for x in youreallyaskedforprofanityman.lower().split() if x in prof_words]"
      ],
      "execution_count": 7,
      "outputs": [
        {
          "output_type": "execute_result",
          "data": {
            "text/plain": [
              "['sh!t', 'fuckin', 'dick']"
            ]
          },
          "metadata": {
            "tags": []
          },
          "execution_count": 7
        }
      ]
    },
    {
      "cell_type": "markdown",
      "metadata": {
        "id": "zFASBYb1H0uF"
      },
      "source": [
        "## Question 4"
      ]
    },
    {
      "cell_type": "code",
      "metadata": {
        "colab": {
          "base_uri": "https://localhost:8080/"
        },
        "id": "EQwDOOroHr6o",
        "outputId": "2a3a04c8-f1e2-47aa-8fab-24d852b1e196"
      },
      "source": [
        "from functools import reduce\n",
        "\n",
        "## add only even numbers in a list ##\n",
        "\n",
        "l = [1,2,3,4,5,6,3,2,1]\n",
        "reduce(lambda a,b : a+b,[x for x in l if x%2 == 0])"
      ],
      "execution_count": 8,
      "outputs": [
        {
          "output_type": "execute_result",
          "data": {
            "text/plain": [
              "14"
            ]
          },
          "metadata": {
            "tags": []
          },
          "execution_count": 8
        }
      ]
    },
    {
      "cell_type": "code",
      "metadata": {
        "colab": {
          "base_uri": "https://localhost:8080/",
          "height": 35
        },
        "id": "-tNa9IPAH4Q3",
        "outputId": "86487319-a580-4741-8c97-8935ff64c79e"
      },
      "source": [
        "from functools import reduce\n",
        "\n",
        "## find the biggest character in a string (printable ascii characters) ##\n",
        "\n",
        "name = 'asdefqA'\n",
        "reduce(lambda a,b : a if a > b else b, name)"
      ],
      "execution_count": 9,
      "outputs": [
        {
          "output_type": "execute_result",
          "data": {
            "application/vnd.google.colaboratory.intrinsic+json": {
              "type": "string"
            },
            "text/plain": [
              "'s'"
            ]
          },
          "metadata": {
            "tags": []
          },
          "execution_count": 9
        }
      ]
    },
    {
      "cell_type": "code",
      "metadata": {
        "colab": {
          "base_uri": "https://localhost:8080/"
        },
        "id": "9pLXNoYgH7V5",
        "outputId": "fb203a56-9bf1-4e7f-f437-c6fdba63d953"
      },
      "source": [
        "from functools import reduce\n",
        "\n",
        "## adds every 3rd number in a list ##\n",
        "\n",
        "l = [1,2,3,4,5,6,3,2,1]\n",
        "reduce(lambda a,b : a+b,[x for i,x in enumerate(l) if (i + 1)%3 == 0])"
      ],
      "execution_count": 10,
      "outputs": [
        {
          "output_type": "execute_result",
          "data": {
            "text/plain": [
              "10"
            ]
          },
          "metadata": {
            "tags": []
          },
          "execution_count": 10
        }
      ]
    },
    {
      "cell_type": "markdown",
      "metadata": {
        "id": "68qnFdoeIEeE"
      },
      "source": [
        "## Question 5"
      ]
    },
    {
      "cell_type": "code",
      "metadata": {
        "colab": {
          "base_uri": "https://localhost:8080/"
        },
        "id": "kCkNN2aSH_ew",
        "outputId": "7daf3fd0-4544-4df3-8c3d-1d1e93305576"
      },
      "source": [
        "import string, random\n",
        "def generate_number_plate():\n",
        "    return 'KA' + str(random.randint(10,99)) + \\\n",
        "                random.choice(string.ascii_uppercase) + \\\n",
        "                random.choice(string.ascii_uppercase) + \\\n",
        "                str(random.randint(1000,9999))\n",
        "            \n",
        "result = [generate_number_plate() for n in range(15)]\n",
        "result"
      ],
      "execution_count": 11,
      "outputs": [
        {
          "output_type": "execute_result",
          "data": {
            "text/plain": [
              "['KA72MP7239',\n",
              " 'KA77XV3920',\n",
              " 'KA11AL6733',\n",
              " 'KA52VD3301',\n",
              " 'KA38PW5438',\n",
              " 'KA66IB4204',\n",
              " 'KA30MP8886',\n",
              " 'KA67FI4107',\n",
              " 'KA24AK1624',\n",
              " 'KA56YI3110',\n",
              " 'KA41TU4083',\n",
              " 'KA35YR1284',\n",
              " 'KA89KX5694',\n",
              " 'KA70BE1926',\n",
              " 'KA60MF5207']"
            ]
          },
          "metadata": {
            "tags": []
          },
          "execution_count": 11
        }
      ]
    },
    {
      "cell_type": "markdown",
      "metadata": {
        "id": "aar9lWq6ILS7"
      },
      "source": [
        "## Question 6"
      ]
    },
    {
      "cell_type": "code",
      "metadata": {
        "colab": {
          "base_uri": "https://localhost:8080/"
        },
        "id": "U2xgjx0aIHyh",
        "outputId": "8e7f637e-fac8-47df-df3a-b87e9dc1c501"
      },
      "source": [
        "import string, random\n",
        "def generate_number_plate(x,y,z):\n",
        "    print('you have input : ', (x,y,z))\n",
        "    return x + str(random.randint(10,99)) + \\\n",
        "                random.choice(string.ascii_uppercase) + \\\n",
        "                random.choice(string.ascii_uppercase) + \\\n",
        "                str(random.randint(y,z))\n",
        "\n",
        "## please provide input like -> 'DL', 2000, 5000\n",
        "## I am generating 2 licence plated rather than 15 just to input less no of times\n",
        "for n in range(2):\n",
        "  bb = input(\"Enter DL/KA, starting range and ending range: \")\n",
        "  cc = bb.split(',')\n",
        "  cc = [x.strip() for x in cc]\n",
        "  print(generate_number_plate(cc[0], int(cc[1]), int(cc[2])))\n"
      ],
      "execution_count": 31,
      "outputs": [
        {
          "output_type": "stream",
          "text": [
            "Enter DL/KA, starting range and ending range: DL, 2000,3000\n",
            "you have input :  ('DL', 2000, 3000)\n",
            "DL41FQ2620\n",
            "Enter DL/KA, starting range and ending range: KA, 1000,1500\n",
            "you have input :  ('KA', 1000, 1500)\n",
            "KA11EC1435\n"
          ],
          "name": "stdout"
        }
      ]
    }
  ]
}