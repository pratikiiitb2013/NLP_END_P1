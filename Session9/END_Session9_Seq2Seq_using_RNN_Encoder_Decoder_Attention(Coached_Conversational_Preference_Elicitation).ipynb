{
  "nbformat": 4,
  "nbformat_minor": 0,
  "metadata": {
    "accelerator": "GPU",
    "colab": {
      "name": "END_Session9_Seq2Seq_using_RNN_Encoder_Decoder_Attention(Coached_Conversational_Preference_Elicitation).ipynb",
      "provenance": [],
      "collapsed_sections": [],
      "authorship_tag": "ABX9TyOsB4orCm+tVcCG7++abGiy",
      "include_colab_link": true
    },
    "kernelspec": {
      "display_name": "Python 3",
      "name": "python3"
    }
  },
  "cells": [
    {
      "cell_type": "markdown",
      "metadata": {
        "id": "view-in-github",
        "colab_type": "text"
      },
      "source": [
        "<a href=\"https://colab.research.google.com/github/pratikiiitb2013/NLP_END_P1/blob/main/Session9/END_Session9_Seq2Seq_using_RNN_Encoder_Decoder_Attention(Coached_Conversational_Preference_Elicitation).ipynb\" target=\"_parent\"><img src=\"https://colab.research.google.com/assets/colab-badge.svg\" alt=\"Open In Colab\"/></a>"
      ]
    },
    {
      "cell_type": "code",
      "metadata": {
        "id": "IkK5JQD7HyZA",
        "colab": {
          "base_uri": "https://localhost:8080/"
        },
        "outputId": "a09e7718-21f8-4886-9898-4c28cdb772a1"
      },
      "source": [
        "import pandas as pd\r\n",
        "import numpy as np\r\n",
        "from requests import request\r\n",
        "import json\r\n",
        "pd.set_option('display.max_colwidth', -1)\r\n",
        "\r\n",
        "import ast\r\n",
        "\r\n",
        "import torch\r\n",
        "import torch.nn as nn\r\n",
        "import torch.optim as optim\r\n",
        "import torch.nn.functional as F\r\n",
        "\r\n",
        "from torchtext.datasets import Multi30k\r\n",
        "from torchtext import data\r\n",
        "from torchtext.data import Field, BucketIterator\r\n",
        "\r\n",
        "import spacy\r\n",
        "\r\n",
        "import random\r\n",
        "import math\r\n",
        "import time\r\n",
        "\r\n",
        "SEED = 1234\r\n",
        "\r\n",
        "random.seed(SEED)\r\n",
        "np.random.seed(SEED)\r\n",
        "torch.manual_seed(SEED)\r\n",
        "torch.cuda.manual_seed(SEED)\r\n",
        "torch.backends.cudnn.deterministic = True"
      ],
      "execution_count": 1,
      "outputs": [
        {
          "output_type": "stream",
          "text": [
            "/usr/local/lib/python3.6/dist-packages/ipykernel_launcher.py:5: FutureWarning: Passing a negative integer is deprecated in version 1.0 and will not be supported in future version. Instead, use None to not limit the column width.\n",
            "  \"\"\"\n"
          ],
          "name": "stderr"
        }
      ]
    },
    {
      "cell_type": "markdown",
      "metadata": {
        "id": "TM71x8CaCi59"
      },
      "source": [
        "# Coached Conversational Preference Elicitation"
      ]
    },
    {
      "cell_type": "markdown",
      "metadata": {
        "id": "yavQyDlsDegZ"
      },
      "source": [
        "## About the dataset - \r\n",
        "\r\n",
        "A data set of 502 dialogues with 12,000 annotated statements between a user and a wizard discussing natural language movie preferences. The data were collected using the Oz Assistant method between two paid workers, one of whom acts as an “assistant” and the other as a “user”.\r\n",
        "\r\n",
        "The dialogue corpus is provided in JSON format in the file data.json.\r\n",
        "\r\n",
        "Each conversation has the following fields:\r\n",
        "  conversationId: A unique random ID for the conversation. The ID has no meaning.\r\n",
        "  utterances: An array of utterances by the workers."
      ]
    },
    {
      "cell_type": "markdown",
      "metadata": {
        "id": "sQmopN3ZD6FV"
      },
      "source": [
        "## Downloading and extracting the dataset"
      ]
    },
    {
      "cell_type": "code",
      "metadata": {
        "id": "VDFAgV6cDeFE"
      },
      "source": [
        "response=request(url='https://storage.googleapis.com/dialog-data-corpus/CCPE-M-2019/data.json', method='get')\r\n",
        "elevations = response.json()\r\n",
        "elevations\r\n",
        "s1 = json.dumps(elevations)\r\n",
        "dt = json.loads(s1)\r\n",
        "df = pd.json_normalize(dt)"
      ],
      "execution_count": 2,
      "outputs": []
    },
    {
      "cell_type": "code",
      "metadata": {
        "colab": {
          "base_uri": "https://localhost:8080/",
          "height": 1000
        },
        "id": "-bCWw4CpkU97",
        "outputId": "9eb86ef5-31b0-4612-c394-6ab031b505ff"
      },
      "source": [
        "print(df.shape)\r\n",
        "df.head()"
      ],
      "execution_count": 3,
      "outputs": [
        {
          "output_type": "stream",
          "text": [
            "(502, 2)\n"
          ],
          "name": "stdout"
        },
        {
          "output_type": "execute_result",
          "data": {
            "text/html": [
              "<div>\n",
              "<style scoped>\n",
              "    .dataframe tbody tr th:only-of-type {\n",
              "        vertical-align: middle;\n",
              "    }\n",
              "\n",
              "    .dataframe tbody tr th {\n",
              "        vertical-align: top;\n",
              "    }\n",
              "\n",
              "    .dataframe thead th {\n",
              "        text-align: right;\n",
              "    }\n",
              "</style>\n",
              "<table border=\"1\" class=\"dataframe\">\n",
              "  <thead>\n",
              "    <tr style=\"text-align: right;\">\n",
              "      <th></th>\n",
              "      <th>conversationId</th>\n",
              "      <th>utterances</th>\n",
              "    </tr>\n",
              "  </thead>\n",
              "  <tbody>\n",
              "    <tr>\n",
              "      <th>0</th>\n",
              "      <td>CCPE-8e113</td>\n",
              "      <td>[{'index': 0, 'speaker': 'ASSISTANT', 'text': 'generally speaking what type of movies do you watch'}, {'index': 1, 'speaker': 'USER', 'text': 'I like thrillers a lot.', 'segments': [{'startIndex': 7, 'endIndex': 16, 'text': 'thrillers', 'annotations': [{'annotationType': 'ENTITY_NAME', 'entityType': 'MOVIE_GENRE_OR_CATEGORY'}]}, {'startIndex': 0, 'endIndex': 22, 'text': 'I like thrillers a lot', 'annotations': [{'annotationType': 'ENTITY_PREFERENCE', 'entityType': 'MOVIE_GENRE_OR_CATEGORY'}]}]}, {'index': 2, 'speaker': 'ASSISTANT', 'text': 'thrillers? for example?', 'segments': [{'startIndex': 0, 'endIndex': 9, 'text': 'thrillers', 'annotations': [{'annotationType': 'ENTITY_NAME', 'entityType': 'MOVIE_GENRE_OR_CATEGORY'}]}]}, {'index': 3, 'speaker': 'USER', 'text': 'Zodiac's one of my favorite movies.', 'segments': [{'startIndex': 0, 'endIndex': 6, 'text': 'Zodiac', 'annotations': [{'annotationType': 'ENTITY_NAME', 'entityType': 'MOVIE_OR_SERIES'}]}, {'startIndex': 0, 'endIndex': 34, 'text': \"Zodiac's one of my favorite movies\", 'annotations': [{'annotationType': 'ENTITY_PREFERENCE', 'entityType': 'MOVIE_GENRE_OR_CATEGORY'}]}]}, {'index': 4, 'speaker': 'USER', 'text': 'Zodiac the movie about a serial killer from the '60s or '70s, around there.', 'segments': [{'startIndex': 0, 'endIndex': 6, 'text': 'Zodiac', 'annotations': [{'annotationType': 'ENTITY_NAME', 'entityType': 'MOVIE_OR_SERIES'}]}, {'startIndex': 0, 'endIndex': 74, 'text': \"Zodiac the movie about a serial killer from the '60s or '70s, around there\", 'annotations': [{'annotationType': 'ENTITY_DESCRIPTION', 'entityType': 'MOVIE_OR_SERIES'}]}]}, {'index': 5, 'speaker': 'ASSISTANT', 'text': 'Zodiac? oh wow ok, what do you like about that movie', 'segments': [{'startIndex': 0, 'endIndex': 6, 'text': 'Zodiac', 'annotations': [{'annotationType': 'ENTITY_NAME', 'entityType': 'MOVIE_OR_SERIES'}]}]}, {'index': 6, 'speaker': 'USER', 'text': 'And I just think serial killers, in general, are interesting, so the movie was really good. And it was just neat to see that world. Like it went really in-depth. It was like almost 3 hours long, so you got to really feel like you were a part of that world and time period. And see what the detectives and the police did and the investigators.', 'segments': [{'startIndex': 4, 'endIndex': 90, 'text': 'I just think serial killers, in general, are interesting, so the movie was really good', 'annotations': [{'annotationType': 'ENTITY_PREFERENCE', 'entityType': 'MOVIE_OR_SERIES'}]}, {'startIndex': 96, 'endIndex': 130, 'text': 'it was just neat to see that world', 'annotations': [{'annotationType': 'ENTITY_PREFERENCE', 'entityType': 'MOVIE_OR_SERIES'}]}, {'startIndex': 137, 'endIndex': 160, 'text': 'it went really in-depth', 'annotations': [{'annotationType': 'ENTITY_PREFERENCE', 'entityType': 'MOVIE_OR_SERIES'}]}, {'startIndex': 162, 'endIndex': 271, 'text': 'It was like almost 3 hours long, so you got to really feel like you were a part of that world and time period', 'annotations': [{'annotationType': 'ENTITY_PREFERENCE', 'entityType': 'MOVIE_OR_SERIES'}]}, {'startIndex': 273, 'endIndex': 341, 'text': 'And see what the detectives and the police did and the investigators', 'annotations': [{'annotationType': 'ENTITY_PREFERENCE', 'entityType': 'MOVIE_OR_SERIES'}]}]}, {'index': 7, 'speaker': 'ASSISTANT', 'text': 'so you feel like you were part of that world ?'}, {'index': 8, 'speaker': 'USER', 'text': 'Yeah. It was really an immersive movie.', 'segments': [{'startIndex': 6, 'endIndex': 38, 'text': 'It was really an immersive movie', 'annotations': [{'annotationType': 'ENTITY_PREFERENCE', 'entityType': 'MOVIE_OR_SERIES'}]}]}, {'index': 9, 'speaker': 'ASSISTANT', 'text': 'if you were in the movie what character do you feel most relatable'}, {'index': 10, 'speaker': 'USER', 'text': 'Probably the main character, Robert Graysmith, just cuz he's awkward and bumbly. So, I guess that's the one I would be the closest to.', 'segments': [{'startIndex': 0, 'endIndex': 79, 'text': \"Probably the main character, Robert Graysmith, just cuz he's awkward and bumbly\", 'annotations': [{'annotationType': 'ENTITY_PREFERENCE', 'entityType': 'MOVIE_OR_SERIES'}]}]}, {'index': 11, 'speaker': 'ASSISTANT', 'text': 'what scene do you like the best'}, {'index': 12, 'speaker': 'USER', 'text': 'Probably the most memorable one is the murder at the lake. Just cuz it's really vivid and horrific to watch. But it's very memorable.', 'segments': [{'startIndex': 68, 'endIndex': 132, 'text': \"it's really vivid and horrific to watch. But it's very memorable\", 'annotations': [{'annotationType': 'ENTITY_PREFERENCE', 'entityType': 'MOVIE_OR_SERIES'}]}]}, {'index': 13, 'speaker': 'ASSISTANT', 'text': 'ok nice, any other similiar movies you have seen recently?'}, {'index': 14, 'speaker': 'USER', 'text': 'Not that I can think of.'}, {'index': 15, 'speaker': 'ASSISTANT', 'text': 'how about different type of movies like Once Upon a Deadpool', 'segments': [{'startIndex': 40, 'endIndex': 60, 'text': 'Once Upon a Deadpool', 'annotations': [{'annotationType': 'ENTITY_NAME', 'entityType': 'MOVIE_OR_SERIES'}]}]}, {'index': 16, 'speaker': 'USER', 'text': 'I haven't seen that.', 'segments': [{'startIndex': 0, 'endIndex': 19, 'text': \"I haven't seen that\", 'annotations': [{'annotationType': 'ENTITY_OTHER', 'entityType': 'MOVIE_OR_SERIES'}]}]}, {'index': 17, 'speaker': 'ASSISTANT', 'text': 'have you heard of that movie'}, {'index': 18, 'speaker': 'USER', 'text': 'I've heard of it, but I haven't seen it.', 'segments': [{'startIndex': 0, 'endIndex': 39, 'text': \"I've heard of it, but I haven't seen it\", 'annotations': [{'annotationType': 'ENTITY_OTHER', 'entityType': 'MOVIE_OR_SERIES'}]}]}, {'index': 19, 'speaker': 'ASSISTANT', 'text': 'would you be interested to watch it'}, {'index': 20, 'speaker': 'USER', 'text': 'Not particularly. I don't really like comic book movies that much. But I really wanted to see Deadpool, so I'd probably be more willing to watch that than most comic book movies.', 'segments': [{'startIndex': 94, 'endIndex': 102, 'text': 'Deadpool', 'annotations': [{'annotationType': 'ENTITY_NAME', 'entityType': 'MOVIE_OR_SERIES'}]}, {'startIndex': 18, 'endIndex': 65, 'text': \"I don't really like comic book movies that much\", 'annotations': [{'annotationType': 'ENTITY_PREFERENCE', 'entityType': 'MOVIE_GENRE_OR_CATEGORY'}]}, {'startIndex': 107, 'endIndex': 177, 'text': \"I'd probably be more willing to watch that than most comic book movies\", 'annotations': [{'annotationType': 'ENTITY_PREFERENCE', 'entityType': 'MOVIE_GENRE_OR_CATEGORY'}]}, {'startIndex': 71, 'endIndex': 102, 'text': 'I really wanted to see Deadpool', 'annotations': [{'annotationType': 'ENTITY_PREFERENCE', 'entityType': 'MOVIE_OR_SERIES'}]}]}, {'index': 21, 'speaker': 'ASSISTANT', 'text': 'oh what makes deadpool different than the others?'}, {'index': 22, 'speaker': 'USER', 'text': 'I don't know. It just seems a unique concept and different, not just the standard superhero movie.', 'segments': [{'startIndex': 14, 'endIndex': 58, 'text': 'It just seems a unique concept and different', 'annotations': [{'annotationType': 'ENTITY_PREFERENCE', 'entityType': 'MOVIE_OR_SERIES'}]}, {'startIndex': 60, 'endIndex': 97, 'text': 'not just the standard superhero movie', 'annotations': [{'annotationType': 'ENTITY_PREFERENCE', 'entityType': 'MOVIE_OR_SERIES'}]}]}, {'index': 23, 'speaker': 'USER', 'text': 'And it's more of a comedy, so that's unique.', 'segments': [{'startIndex': 4, 'endIndex': 43, 'text': \"it's more of a comedy, so that's unique\", 'annotations': [{'annotationType': 'ENTITY_PREFERENCE', 'entityType': 'MOVIE_OR_SERIES'}]}]}, {'index': 24, 'speaker': 'ASSISTANT', 'text': 'ok so you enjoy comedy as well, correct?'}, {'index': 25, 'speaker': 'USER', 'text': 'Yep, I think most people do.', 'segments': [{'startIndex': 5, 'endIndex': 27, 'text': 'I think most people do', 'annotations': [{'annotationType': 'ENTITY_PREFERENCE', 'entityType': 'MOVIE_GENRE_OR_CATEGORY'}]}]}, {'index': 26, 'speaker': 'ASSISTANT', 'text': 'what type of movie you don't enjoy?'}, {'index': 27, 'speaker': 'USER', 'text': 'I'm not a big action movie fan like Die Hard or like Rambo movies. I don't hate them, I just think they're boring. Like I can't watch a lot of them, or else I get sick of them.', 'segments': [{'startIndex': 14, 'endIndex': 26, 'text': 'action movie', 'annotations': [{'annotationType': 'ENTITY_NAME', 'entityType': 'MOVIE_GENRE_OR_CATEGORY'}]}, {'startIndex': 36, 'endIndex': 44, 'text': 'Die Hard', 'annotations': [{'annotationType': 'ENTITY_NAME', 'entityType': 'MOVIE_OR_SERIES'}]}, {'startIndex': 53, 'endIndex': 58, 'text': 'Rambo', 'annotations': [{'annotationType': 'ENTITY_NAME', 'entityType': 'MOVIE_OR_SERIES'}]}, {'startIndex': 0, 'endIndex': 65, 'text': \"I'm not a big action movie fan like Die Hard or like Rambo movies\", 'annotations': [{'annotationType': 'ENTITY_PREFERENCE', 'entityType': 'MOVIE_GENRE_OR_CATEGORY'}]}, {'startIndex': 67, 'endIndex': 113, 'text': \"I don't hate them, I just think they're boring\", 'annotations': [{'annotationType': 'ENTITY_PREFERENCE', 'entityType': 'MOVIE_GENRE_OR_CATEGORY'}]}, {'startIndex': 120, 'endIndex': 175, 'text': \"I can't watch a lot of them, or else I get sick of them\", 'annotations': [{'annotationType': 'ENTITY_PREFERENCE', 'entityType': 'MOVIE_GENRE_OR_CATEGORY'}]}]}, {'index': 28, 'speaker': 'ASSISTANT', 'text': 'what about mission impossible?', 'segments': [{'startIndex': 11, 'endIndex': 29, 'text': 'mission impossible', 'annotations': [{'annotationType': 'ENTITY_NAME', 'entityType': 'MOVIE_OR_SERIES'}]}]}, {'index': 29, 'speaker': 'USER', 'text': 'Never seen it. I know what it is, but I haven't seen it.', 'segments': [{'startIndex': 0, 'endIndex': 13, 'text': 'Never seen it', 'annotations': [{'annotationType': 'ENTITY_OTHER', 'entityType': 'MOVIE_OR_SERIES'}]}, {'startIndex': 15, 'endIndex': 55, 'text': \"I know what it is, but I haven't seen it\", 'annotations': [{'annotationType': 'ENTITY_OTHER', 'entityType': 'MOVIE_OR_SERIES'}]}]}, {'index': 30, 'speaker': 'ASSISTANT', 'text': 'do you care who acts in the movie?'}, {'index': 31, 'speaker': 'USER', 'text': 'Just in general? I'm not I'm not picky about actors. Like I won't see a movie just cuz I don't like the actor in it.'}, {'index': 32, 'speaker': 'ASSISTANT', 'text': 'oh ok so you dont have a favorite actor is that right'}, {'index': 33, 'speaker': 'USER', 'text': 'I mean I like certain actors more than others, but I wouldn't say I have a favorite actor.'}, {'index': 34, 'speaker': 'ASSISTANT', 'text': 'ok who came to your mind when it comes to actors you like to see in the movie'}, {'index': 35, 'speaker': 'ASSISTANT', 'text': 'what is your favorite Tom Hanks movie?', 'segments': [{'startIndex': 22, 'endIndex': 31, 'text': 'Tom Hanks', 'annotations': [{'annotationType': 'ENTITY_NAME', 'entityType': 'PERSON'}]}]}, {'index': 36, 'speaker': 'USER', 'text': 'Catch Me If You Can', 'segments': [{'startIndex': 0, 'endIndex': 19, 'text': 'Catch Me If You Can', 'annotations': [{'annotationType': 'ENTITY_NAME', 'entityType': 'MOVIE_OR_SERIES'}, {'annotationType': 'ENTITY_PREFERENCE', 'entityType': 'MOVIE_OR_SERIES'}]}]}, {'index': 37, 'speaker': 'ASSISTANT', 'text': 'what so great about that movie'}, {'index': 38, 'speaker': 'USER', 'text': 'It's just an interesting story and it's based on a true story and it's got Leonardo Dicaprio in it, another good actor.', 'segments': [{'startIndex': 75, 'endIndex': 92, 'text': 'Leonardo Dicaprio', 'annotations': [{'annotationType': 'ENTITY_NAME', 'entityType': 'PERSON'}]}, {'startIndex': 0, 'endIndex': 30, 'text': \"It's just an interesting story\", 'annotations': [{'annotationType': 'ENTITY_PREFERENCE', 'entityType': 'MOVIE_OR_SERIES'}]}, {'startIndex': 35, 'endIndex': 61, 'text': \"it's based on a true story\", 'annotations': [{'annotationType': 'ENTITY_PREFERENCE', 'entityType': 'MOVIE_OR_SERIES'}]}, {'startIndex': 66, 'endIndex': 118, 'text': \"it's got Leonardo Dicaprio in it, another good actor\", 'annotations': [{'annotationType': 'ENTITY_PREFERENCE', 'entityType': 'MOVIE_OR_SERIES'}]}]}, {'index': 39, 'speaker': 'ASSISTANT', 'text': 'do you think that movie is exciting?'}, {'index': 40, 'speaker': 'USER', 'text': 'Yep.', 'segments': [{'startIndex': 0, 'endIndex': 3, 'text': 'Yep', 'annotations': [{'annotationType': 'ENTITY_PREFERENCE', 'entityType': 'MOVIE_OR_SERIES'}]}]}, {'index': 41, 'speaker': 'ASSISTANT', 'text': 'which scene you find most memorable?'}, {'index': 42, 'speaker': 'USER', 'text': 'It's been a long time since I've seen that movie. I can't think of any specific scene.', 'segments': [{'startIndex': 0, 'endIndex': 48, 'text': \"It's been a long time since I've seen that movie\", 'annotations': [{'annotationType': 'ENTITY_OTHER', 'entityType': 'MOVIE_OR_SERIES'}]}]}]</td>\n",
              "    </tr>\n",
              "    <tr>\n",
              "      <th>1</th>\n",
              "      <td>CCPE-75731</td>\n",
              "      <td>[{'index': 0, 'speaker': 'ASSISTANT', 'text': 'what kind of movies do you generally like?'}, {'index': 1, 'speaker': 'USER', 'text': 'Yeah, I mostly like comedy movies.', 'segments': [{'startIndex': 20, 'endIndex': 26, 'text': 'comedy', 'annotations': [{'annotationType': 'ENTITY_NAME', 'entityType': 'MOVIE_GENRE_OR_CATEGORY'}]}, {'startIndex': 6, 'endIndex': 33, 'text': 'I mostly like comedy movies', 'annotations': [{'annotationType': 'ENTITY_PREFERENCE', 'entityType': 'MOVIE_GENRE_OR_CATEGORY'}]}]}, {'index': 2, 'speaker': 'ASSISTANT', 'text': 'I see. Why do you like that kind of movie?'}, {'index': 3, 'speaker': 'USER', 'text': 'Well I like that kind of movie because you know, it'll make me laugh, and I often watch movies with my girlfriend, and I want to make sure whatever we watch, it's something we can both enjoy and and relax while watching.', 'segments': [{'startIndex': 49, 'endIndex': 68, 'text': \"it'll make me laugh\", 'annotations': [{'annotationType': 'ENTITY_PREFERENCE', 'entityType': 'MOVIE_GENRE_OR_CATEGORY'}]}, {'startIndex': 74, 'endIndex': 219, 'text': \"I often watch movies with my girlfriend, and I want to make sure whatever we watch, it's something we can both enjoy and and relax while watching\", 'annotations': [{'annotationType': 'ENTITY_PREFERENCE', 'entityType': 'MOVIE_GENRE_OR_CATEGORY'}]}]}, {'index': 4, 'speaker': 'ASSISTANT', 'text': 'That seems really nice. Can you think of a movie you really enjoyed recently?'}, {'index': 5, 'speaker': 'USER', 'text': 'Yeah, I really enjoyed The Longest Yard with Adam Sandler.', 'segments': [{'startIndex': 23, 'endIndex': 39, 'text': 'The Longest Yard', 'annotations': [{'annotationType': 'ENTITY_NAME', 'entityType': 'MOVIE_OR_SERIES'}]}, {'startIndex': 45, 'endIndex': 57, 'text': 'Adam Sandler', 'annotations': [{'annotationType': 'ENTITY_NAME', 'entityType': 'PERSON'}]}, {'startIndex': 23, 'endIndex': 57, 'text': 'The Longest Yard with Adam Sandler', 'annotations': [{'annotationType': 'ENTITY_DESCRIPTION', 'entityType': 'MOVIE_OR_SERIES'}]}, {'startIndex': 6, 'endIndex': 39, 'text': 'I really enjoyed The Longest Yard', 'annotations': [{'annotationType': 'ENTITY_PREFERENCE', 'entityType': 'MOVIE_OR_SERIES'}]}]}, {'index': 6, 'speaker': 'ASSISTANT', 'text': 'What did you like about that movie?'}, {'index': 7, 'speaker': 'USER', 'text': 'I liked the acting. It's a lot of humor and gags in the movie. It had a good pace, good pacing. The story made sense.', 'segments': [{'startIndex': 0, 'endIndex': 18, 'text': 'I liked the acting', 'annotations': [{'annotationType': 'ENTITY_PREFERENCE', 'entityType': 'MOVIE_OR_SERIES'}]}, {'startIndex': 20, 'endIndex': 61, 'text': \"It's a lot of humor and gags in the movie\", 'annotations': [{'annotationType': 'ENTITY_PREFERENCE', 'entityType': 'MOVIE_OR_SERIES'}]}, {'startIndex': 63, 'endIndex': 94, 'text': 'It had a good pace, good pacing', 'annotations': [{'annotationType': 'ENTITY_PREFERENCE', 'entityType': 'MOVIE_OR_SERIES'}]}, {'startIndex': 96, 'endIndex': 116, 'text': 'The story made sense', 'annotations': [{'annotationType': 'ENTITY_PREFERENCE', 'entityType': 'MOVIE_OR_SERIES'}]}]}, {'index': 8, 'speaker': 'USER', 'text': 'Yeah, very funny movie.', 'segments': [{'startIndex': 6, 'endIndex': 22, 'text': 'very funny movie', 'annotations': [{'annotationType': 'ENTITY_PREFERENCE', 'entityType': 'MOVIE_OR_SERIES'}]}]}, {'index': 9, 'speaker': 'ASSISTANT', 'text': 'I see. That's really helpful.'}, {'index': 10, 'speaker': 'USER', 'text': 'Oh great.'}, {'index': 11, 'speaker': 'ASSISTANT', 'text': 'Now I'd like to know what kinds of movies you dislike if that's okay?'}, {'index': 12, 'speaker': 'USER', 'text': 'Yeah, sure.'}, {'index': 13, 'speaker': 'USER', 'text': 'Good question. Not really a fan of Hallmark movies, that kind of romantic comedy. Mostly because they typically have pretty bad acting. Yeah, not for me.', 'segments': [{'startIndex': 35, 'endIndex': 43, 'text': 'Hallmark', 'annotations': [{'annotationType': 'ENTITY_NAME', 'entityType': 'MOVIE_GENRE_OR_CATEGORY'}]}, {'startIndex': 65, 'endIndex': 80, 'text': 'romantic comedy', 'annotations': [{'annotationType': 'ENTITY_NAME', 'entityType': 'MOVIE_GENRE_OR_CATEGORY'}]}, {'startIndex': 15, 'endIndex': 50, 'text': 'Not really a fan of Hallmark movies', 'annotations': [{'annotationType': 'ENTITY_PREFERENCE', 'entityType': 'MOVIE_GENRE_OR_CATEGORY'}]}, {'startIndex': 97, 'endIndex': 134, 'text': 'they typically have pretty bad acting', 'annotations': [{'annotationType': 'ENTITY_PREFERENCE', 'entityType': 'MOVIE_GENRE_OR_CATEGORY'}]}, {'startIndex': 142, 'endIndex': 152, 'text': 'not for me', 'annotations': [{'annotationType': 'ENTITY_PREFERENCE', 'entityType': 'MOVIE_GENRE_OR_CATEGORY'}]}]}, {'index': 14, 'speaker': 'ASSISTANT', 'text': 'Why else don't you like those?'}, {'index': 15, 'speaker': 'USER', 'text': 'Well, I guess another reason would be that the stories are all typically same or very similar. There's no', 'segments': [{'startIndex': 43, 'endIndex': 93, 'text': 'the stories are all typically same or very similar', 'annotations': [{'annotationType': 'ENTITY_PREFERENCE', 'entityType': 'MOVIE_GENRE_OR_CATEGORY'}]}]}, {'index': 16, 'speaker': 'USER', 'text': 'It's just it's just very boiler plate. There's nothing There's not much new about each new Hallmark movie.', 'segments': [{'startIndex': 91, 'endIndex': 99, 'text': 'Hallmark', 'annotations': [{'annotationType': 'ENTITY_NAME', 'entityType': 'MOVIE_GENRE_OR_CATEGORY'}]}, {'startIndex': 10, 'endIndex': 37, 'text': \"it's just very boiler plate\", 'annotations': [{'annotationType': 'ENTITY_PREFERENCE', 'entityType': 'MOVIE_GENRE_OR_CATEGORY'}]}, {'startIndex': 55, 'endIndex': 105, 'text': \"There's not much new about each new Hallmark movie\", 'annotations': [{'annotationType': 'ENTITY_PREFERENCE', 'entityType': 'MOVIE_GENRE_OR_CATEGORY'}]}]}, {'index': 17, 'speaker': 'ASSISTANT', 'text': 'I see. They're pretty cookie-cutter it sounds like'}, {'index': 18, 'speaker': 'USER', 'text': 'That's exactly right.', 'segments': [{'startIndex': 0, 'endIndex': 20, 'text': \"That's exactly right\", 'annotations': [{'annotationType': 'ENTITY_PREFERENCE', 'entityType': 'MOVIE_GENRE_OR_CATEGORY'}]}]}, {'index': 19, 'speaker': 'ASSISTANT', 'text': 'So based on what you told me, I'm curious, did you see Jurassic World?', 'segments': [{'startIndex': 55, 'endIndex': 69, 'text': 'Jurassic World', 'annotations': [{'annotationType': 'ENTITY_NAME', 'entityType': 'MOVIE_OR_SERIES'}]}]}, {'index': 20, 'speaker': 'USER', 'text': 'I have not seen Jurassic World, no.', 'segments': [{'startIndex': 16, 'endIndex': 30, 'text': 'Jurassic World', 'annotations': [{'annotationType': 'ENTITY_NAME', 'entityType': 'MOVIE_OR_SERIES'}]}, {'startIndex': 0, 'endIndex': 34, 'text': 'I have not seen Jurassic World, no', 'annotations': [{'annotationType': 'ENTITY_OTHER', 'entityType': 'MOVIE_OR_SERIES'}]}]}, {'index': 21, 'speaker': 'USER', 'text': 'But I saw the original Jurassic Park', 'segments': [{'startIndex': 23, 'endIndex': 36, 'text': 'Jurassic Park', 'annotations': [{'annotationType': 'ENTITY_NAME', 'entityType': 'MOVIE_OR_SERIES'}]}, {'startIndex': 4, 'endIndex': 36, 'text': 'I saw the original Jurassic Park', 'annotations': [{'annotationType': 'ENTITY_OTHER', 'entityType': 'MOVIE_OR_SERIES'}]}]}, {'index': 22, 'speaker': 'ASSISTANT', 'text': 'What did you think of the original?'}, {'index': 23, 'speaker': 'USER', 'text': 'I liked the original a lot. Very creative movie. Very ahead of it's time with the computer generated imagery CGI.', 'segments': [{'startIndex': 0, 'endIndex': 26, 'text': 'I liked the original a lot', 'annotations': [{'annotationType': 'ENTITY_PREFERENCE', 'entityType': 'MOVIE_OR_SERIES'}]}, {'startIndex': 28, 'endIndex': 47, 'text': 'Very creative movie', 'annotations': [{'annotationType': 'ENTITY_PREFERENCE', 'entityType': 'MOVIE_OR_SERIES'}]}, {'startIndex': 49, 'endIndex': 112, 'text': \"Very ahead of it's time with the computer generated imagery CGI\", 'annotations': [{'annotationType': 'ENTITY_PREFERENCE', 'entityType': 'MOVIE_OR_SERIES'}]}]}, {'index': 24, 'speaker': 'USER', 'text': 'Yeah, it is it still holds up. It's still is a great movie even compared to anything that that's coming out today.', 'segments': [{'startIndex': 12, 'endIndex': 29, 'text': 'it still holds up', 'annotations': [{'annotationType': 'ENTITY_PREFERENCE', 'entityType': 'MOVIE_OR_SERIES'}]}, {'startIndex': 31, 'endIndex': 113, 'text': \"It's still is a great movie even compared to anything that that's coming out today\", 'annotations': [{'annotationType': 'ENTITY_PREFERENCE', 'entityType': 'MOVIE_OR_SERIES'}]}]}, {'index': 25, 'speaker': 'ASSISTANT', 'text': 'That's great. So if you liked the original would you consider seeing Jurassic World given the option to?', 'segments': [{'startIndex': 69, 'endIndex': 83, 'text': 'Jurassic World', 'annotations': [{'annotationType': 'ENTITY_NAME', 'entityType': 'MOVIE_OR_SERIES'}]}]}, {'index': 26, 'speaker': 'USER', 'text': 'Yeah, I would I would certainly consider it, yes.', 'segments': [{'startIndex': 0, 'endIndex': 48, 'text': 'Yeah, I would I would certainly consider it, yes', 'annotations': [{'annotationType': 'ENTITY_OTHER', 'entityType': 'MOVIE_OR_SERIES'}]}]}, {'index': 27, 'speaker': 'USER', 'text': 'I don't know too much about it, but I I think I saw the commercial for it.', 'segments': [{'startIndex': 0, 'endIndex': 30, 'text': \"I don't know too much about it\", 'annotations': [{'annotationType': 'ENTITY_OTHER', 'entityType': 'MOVIE_OR_SERIES'}]}]}]</td>\n",
              "    </tr>\n",
              "    <tr>\n",
              "      <th>2</th>\n",
              "      <td>CCPE-6faee</td>\n",
              "      <td>[{'index': 0, 'speaker': 'ASSISTANT', 'text': 'What kinds of movies do you like?'}, {'index': 1, 'speaker': 'USER', 'text': 'I really like comedy movies.', 'segments': [{'startIndex': 14, 'endIndex': 20, 'text': 'comedy', 'annotations': [{'annotationType': 'ENTITY_NAME', 'entityType': 'MOVIE_GENRE_OR_CATEGORY'}]}, {'startIndex': 0, 'endIndex': 27, 'text': 'I really like comedy movies', 'annotations': [{'annotationType': 'ENTITY_PREFERENCE', 'entityType': 'MOVIE_GENRE_OR_CATEGORY'}]}]}, {'index': 2, 'speaker': 'ASSISTANT', 'text': 'Why do you like comedies?', 'segments': [{'startIndex': 16, 'endIndex': 24, 'text': 'comedies', 'annotations': [{'annotationType': 'ENTITY_NAME', 'entityType': 'MOVIE_GENRE_OR_CATEGORY'}]}]}, {'index': 3, 'speaker': 'USER', 'text': 'I love to laugh and comedy movies, that's their whole purpose. Make you laugh.', 'segments': [{'startIndex': 0, 'endIndex': 15, 'text': 'I love to laugh', 'annotations': [{'annotationType': 'ENTITY_PREFERENCE', 'entityType': 'MOVIE_GENRE_OR_CATEGORY'}]}]}, {'index': 4, 'speaker': 'ASSISTANT', 'text': 'Alright, how about a movie you liked?'}, {'index': 5, 'speaker': 'USER', 'text': 'I liked Step Brothers.', 'segments': [{'startIndex': 8, 'endIndex': 21, 'text': 'Step Brothers', 'annotations': [{'annotationType': 'ENTITY_NAME', 'entityType': 'MOVIE_OR_SERIES'}]}, {'startIndex': 0, 'endIndex': 21, 'text': 'I liked Step Brothers', 'annotations': [{'annotationType': 'ENTITY_PREFERENCE', 'entityType': 'MOVIE_OR_SERIES'}]}]}, {'index': 6, 'speaker': 'ASSISTANT', 'text': 'Why did you like that movie?'}, {'index': 7, 'speaker': 'USER', 'text': 'Had some amazing one-liners that still get used today even though the movie was made awhile ago.', 'segments': [{'startIndex': 0, 'endIndex': 32, 'text': 'Had some amazing one-liners that', 'annotations': [{'annotationType': 'ENTITY_PREFERENCE', 'entityType': 'MOVIE_OR_SERIES'}]}]}, {'index': 8, 'speaker': 'ASSISTANT', 'text': 'Well, is there a movie you did not like?'}, {'index': 9, 'speaker': 'USER', 'text': 'I don't like RV.', 'segments': [{'startIndex': 13, 'endIndex': 15, 'text': 'RV', 'annotations': [{'annotationType': 'ENTITY_NAME', 'entityType': 'MOVIE_OR_SERIES'}]}, {'startIndex': 0, 'endIndex': 15, 'text': \"I don't like RV\", 'annotations': [{'annotationType': 'ENTITY_PREFERENCE', 'entityType': 'MOVIE_OR_SERIES'}]}]}, {'index': 10, 'speaker': 'ASSISTANT', 'text': 'Why not?'}, {'index': 11, 'speaker': 'USER', 'text': 'And I just didn't It was just so slow and boring. I didn't like it.', 'segments': [{'startIndex': 18, 'endIndex': 48, 'text': 'It was just so slow and boring', 'annotations': [{'annotationType': 'ENTITY_PREFERENCE', 'entityType': 'MOVIE_OR_SERIES'}]}, {'startIndex': 50, 'endIndex': 66, 'text': \"I didn't like it\", 'annotations': [{'annotationType': 'ENTITY_PREFERENCE', 'entityType': 'MOVIE_OR_SERIES'}]}]}, {'index': 12, 'speaker': 'ASSISTANT', 'text': 'Ok, then have you seen the movie Jurassic World: Fallen Kingdom', 'segments': [{'startIndex': 33, 'endIndex': 63, 'text': 'Jurassic World: Fallen Kingdom', 'annotations': [{'annotationType': 'ENTITY_NAME', 'entityType': 'MOVIE_OR_SERIES'}]}]}, {'index': 13, 'speaker': 'USER', 'text': 'I have seen the movie Jurassic World: Fallen Kingdom.', 'segments': [{'startIndex': 22, 'endIndex': 52, 'text': 'Jurassic World: Fallen Kingdom', 'annotations': [{'annotationType': 'ENTITY_NAME', 'entityType': 'MOVIE_OR_SERIES'}]}, {'startIndex': 0, 'endIndex': 52, 'text': 'I have seen the movie Jurassic World: Fallen Kingdom', 'annotations': [{'annotationType': 'ENTITY_OTHER', 'entityType': 'MOVIE_OR_SERIES'}]}]}, {'index': 14, 'speaker': 'ASSISTANT', 'text': 'What is it about these kinds of movies that you like or dislike?'}, {'index': 15, 'speaker': 'USER', 'text': 'I really like the actors. I feel like they were doing their best to make the movie better. And I just really like the scenery, and the the dinosaurs were awesome.', 'segments': [{'startIndex': 0, 'endIndex': 24, 'text': 'I really like the actors', 'annotations': [{'annotationType': 'ENTITY_PREFERENCE', 'entityType': 'MOVIE_OR_SERIES'}]}, {'startIndex': 95, 'endIndex': 125, 'text': 'I just really like the scenery', 'annotations': [{'annotationType': 'ENTITY_PREFERENCE', 'entityType': 'MOVIE_OR_SERIES'}]}, {'startIndex': 135, 'endIndex': 161, 'text': 'the dinosaurs were awesome', 'annotations': [{'annotationType': 'ENTITY_PREFERENCE', 'entityType': 'MOVIE_OR_SERIES'}]}]}]</td>\n",
              "    </tr>\n",
              "    <tr>\n",
              "      <th>3</th>\n",
              "      <td>CCPE-7b5bd</td>\n",
              "      <td>[{'index': 0, 'speaker': 'ASSISTANT', 'text': 'Hello. What kind of movies do you like?'}, {'index': 1, 'speaker': 'USER', 'text': 'Hello. I like horror movies.', 'segments': [{'startIndex': 14, 'endIndex': 20, 'text': 'horror', 'annotations': [{'annotationType': 'ENTITY_NAME', 'entityType': 'MOVIE_GENRE_OR_CATEGORY'}]}, {'startIndex': 7, 'endIndex': 27, 'text': 'I like horror movies', 'annotations': [{'annotationType': 'ENTITY_PREFERENCE', 'entityType': 'MOVIE_GENRE_OR_CATEGORY'}]}]}, {'index': 2, 'speaker': 'ASSISTANT', 'text': 'can you give two reasons why you like horror movies'}, {'index': 3, 'speaker': 'USER', 'text': 'I like to feel that inside of you that scares you to death, but you still want to continue watching the movie. I like when I feel goosies all over my arms, you know? That's the reason why I like it.', 'segments': [{'startIndex': 0, 'endIndex': 58, 'text': 'I like to feel that inside of you that scares you to death', 'annotations': [{'annotationType': 'ENTITY_PREFERENCE', 'entityType': 'MOVIE_GENRE_OR_CATEGORY'}]}, {'startIndex': 64, 'endIndex': 109, 'text': 'you still want to continue watching the movie', 'annotations': [{'annotationType': 'ENTITY_PREFERENCE', 'entityType': 'MOVIE_GENRE_OR_CATEGORY'}]}, {'startIndex': 111, 'endIndex': 154, 'text': 'I like when I feel goosies all over my arms', 'annotations': [{'annotationType': 'ENTITY_PREFERENCE', 'entityType': 'MOVIE_GENRE_OR_CATEGORY'}]}]}, {'index': 4, 'speaker': 'ASSISTANT', 'text': 'Can you name a particular movie that you like?'}, {'index': 5, 'speaker': 'USER', 'text': 'Saw', 'segments': [{'startIndex': 0, 'endIndex': 3, 'text': 'Saw', 'annotations': [{'annotationType': 'ENTITY_NAME', 'entityType': 'MOVIE_OR_SERIES'}, {'annotationType': 'ENTITY_PREFERENCE', 'entityType': 'MOVIE_OR_SERIES'}]}]}, {'index': 6, 'speaker': 'ASSISTANT', 'text': 'What are the 2 reasons you like Saw?'}, {'index': 7, 'speaker': 'USER', 'text': 'Because it was sad, it was a horror movie and it was like playing a game, you want to play a game with me and they will catch people and put them in a home let's say in a house and they will lock them and they need to find the way to leave. But in order to leave a place they will have to end up dead.', 'segments': [{'startIndex': 46, 'endIndex': 300, 'text': \"it was like playing a game, you want to play a game with me and they will catch people and put them in a home let's say in a house and they will lock them and they need to find the way to leave. But in order to leave a place they will have to end up dead\", 'annotations': [{'annotationType': 'ENTITY_DESCRIPTION', 'entityType': 'MOVIE_OR_SERIES'}]}, {'startIndex': 20, 'endIndex': 41, 'text': 'it was a horror movie', 'annotations': [{'annotationType': 'ENTITY_PREFERENCE', 'entityType': 'MOVIE_OR_SERIES'}]}]}, {'index': 8, 'speaker': 'ASSISTANT', 'text': 'Can you name a movie that you do not like?'}, {'index': 9, 'speaker': 'USER', 'text': 'But I do like all the movies.'}, {'index': 10, 'speaker': 'ASSISTANT', 'text': 'Surely, there must be one movie you can't stand or thought was poorly done'}, {'index': 11, 'speaker': 'USER', 'text': 'Let me think.'}, {'index': 12, 'speaker': 'USER', 'text': 'Well, I don't know. Emily Rose, maybe. Emily Rose.', 'segments': [{'startIndex': 20, 'endIndex': 30, 'text': 'Emily Rose', 'annotations': [{'annotationType': 'ENTITY_NAME', 'entityType': 'MOVIE_OR_SERIES'}]}, {'startIndex': 20, 'endIndex': 37, 'text': 'Emily Rose, maybe', 'annotations': [{'annotationType': 'ENTITY_PREFERENCE', 'entityType': 'MOVIE_OR_SERIES'}]}]}, {'index': 13, 'speaker': 'ASSISTANT', 'text': 'What are the 2 things that you dislike about this movie?'}, {'index': 14, 'speaker': 'USER', 'text': 'It was fake. You could tell that it was poorly made, and I didn't get scared at all.', 'segments': [{'startIndex': 0, 'endIndex': 11, 'text': 'It was fake', 'annotations': [{'annotationType': 'ENTITY_PREFERENCE', 'entityType': 'MOVIE_OR_SERIES'}]}, {'startIndex': 33, 'endIndex': 51, 'text': 'it was poorly made', 'annotations': [{'annotationType': 'ENTITY_PREFERENCE', 'entityType': 'MOVIE_OR_SERIES'}]}, {'startIndex': 57, 'endIndex': 83, 'text': \"I didn't get scared at all\", 'annotations': [{'annotationType': 'ENTITY_PREFERENCE', 'entityType': 'MOVIE_OR_SERIES'}]}]}, {'index': 15, 'speaker': 'ASSISTANT', 'text': 'Do you like the movie Aliens?', 'segments': [{'startIndex': 22, 'endIndex': 28, 'text': 'Aliens', 'annotations': [{'annotationType': 'ENTITY_NAME', 'entityType': 'MOVIE_OR_SERIES'}]}]}, {'index': 16, 'speaker': 'USER', 'text': 'I have not watched that movie.', 'segments': [{'startIndex': 0, 'endIndex': 29, 'text': 'I have not watched that movie', 'annotations': [{'annotationType': 'ENTITY_OTHER', 'entityType': 'MOVIE_OR_SERIES'}]}]}, {'index': 17, 'speaker': 'ASSISTANT', 'text': 'What about Hunger Games?', 'segments': [{'startIndex': 11, 'endIndex': 23, 'text': 'Hunger Games', 'annotations': [{'annotationType': 'ENTITY_NAME', 'entityType': 'MOVIE_OR_SERIES'}]}]}, {'index': 18, 'speaker': 'USER', 'text': 'I have not watched that movie, either.', 'segments': [{'startIndex': 0, 'endIndex': 29, 'text': 'I have not watched that movie', 'annotations': [{'annotationType': 'ENTITY_OTHER', 'entityType': 'MOVIE_OR_SERIES'}]}]}, {'index': 19, 'speaker': 'ASSISTANT', 'text': 'How about the Matrix?', 'segments': [{'startIndex': 10, 'endIndex': 20, 'text': 'the Matrix', 'annotations': [{'annotationType': 'ENTITY_NAME', 'entityType': 'MOVIE_OR_SERIES'}]}]}, {'index': 20, 'speaker': 'USER', 'text': 'I did watch it.', 'segments': [{'startIndex': 0, 'endIndex': 14, 'text': 'I did watch it', 'annotations': [{'annotationType': 'ENTITY_OTHER', 'entityType': 'MOVIE_OR_SERIES'}]}]}, {'index': 21, 'speaker': 'ASSISTANT', 'text': 'How did you feel about it?'}, {'index': 22, 'speaker': 'USER', 'text': 'kind of cool, but not my cup of tea.', 'segments': [{'startIndex': 0, 'endIndex': 12, 'text': 'kind of cool', 'annotations': [{'annotationType': 'ENTITY_PREFERENCE', 'entityType': 'MOVIE_OR_SERIES'}]}, {'startIndex': 18, 'endIndex': 35, 'text': 'not my cup of tea', 'annotations': [{'annotationType': 'ENTITY_PREFERENCE', 'entityType': 'MOVIE_OR_SERIES'}]}]}, {'index': 23, 'speaker': 'ASSISTANT', 'text': 'What 2 things were kinda cool about it?'}, {'index': 24, 'speaker': 'ASSISTANT', 'text': 'Do you like the movie Dunkirk?', 'segments': [{'startIndex': 22, 'endIndex': 29, 'text': 'Dunkirk', 'annotations': [{'annotationType': 'ENTITY_NAME', 'entityType': 'MOVIE_OR_SERIES'}]}]}, {'index': 25, 'speaker': 'USER', 'text': 'I have not watched that movie.', 'segments': [{'startIndex': 0, 'endIndex': 29, 'text': 'I have not watched that movie', 'annotations': [{'annotationType': 'ENTITY_OTHER', 'entityType': 'MOVIE_OR_SERIES'}]}]}, {'index': 26, 'speaker': 'ASSISTANT', 'text': 'How about Wonder Woman?', 'segments': [{'startIndex': 10, 'endIndex': 22, 'text': 'Wonder Woman', 'annotations': [{'annotationType': 'ENTITY_NAME', 'entityType': 'MOVIE_OR_SERIES'}]}]}, {'index': 27, 'speaker': 'USER', 'text': 'Oh yeah. I watched that movie.', 'segments': [{'startIndex': 9, 'endIndex': 29, 'text': 'I watched that movie', 'annotations': [{'annotationType': 'ENTITY_OTHER', 'entityType': 'MOVIE_OR_SERIES'}]}]}, {'index': 28, 'speaker': 'ASSISTANT', 'text': 'How did you feel about it?'}, {'index': 29, 'speaker': 'USER', 'text': 'I loved it because it was a woman, the powerful one in the movie, finally. And it's always just the guy doing everything, you know what I'm saying?', 'segments': [{'startIndex': 0, 'endIndex': 10, 'text': 'I loved it', 'annotations': [{'annotationType': 'ENTITY_PREFERENCE', 'entityType': 'MOVIE_OR_SERIES'}]}, {'startIndex': 19, 'endIndex': 64, 'text': 'it was a woman, the powerful one in the movie', 'annotations': [{'annotationType': 'ENTITY_PREFERENCE', 'entityType': 'MOVIE_OR_SERIES'}]}]}, {'index': 30, 'speaker': 'ASSISTANT', 'text': 'One last question.... what 2 other things do you like about the movie in particular?'}, {'index': 31, 'speaker': 'USER', 'text': 'She was very beautiful, her hair was amazing.', 'segments': [{'startIndex': 0, 'endIndex': 22, 'text': 'She was very beautiful', 'annotations': [{'annotationType': 'ENTITY_PREFERENCE', 'entityType': 'MOVIE_OR_SERIES'}]}, {'startIndex': 24, 'endIndex': 44, 'text': 'her hair was amazing', 'annotations': [{'annotationType': 'ENTITY_PREFERENCE', 'entityType': 'MOVIE_OR_SERIES'}]}]}, {'index': 32, 'speaker': 'ASSISTANT', 'text': 'anything about the plot that you like?'}, {'index': 33, 'speaker': 'USER', 'text': 'The way she will fight it was interesting.', 'segments': [{'startIndex': 0, 'endIndex': 41, 'text': 'The way she will fight it was interesting', 'annotations': [{'annotationType': 'ENTITY_PREFERENCE', 'entityType': 'MOVIE_OR_SERIES'}]}]}]</td>\n",
              "    </tr>\n",
              "    <tr>\n",
              "      <th>4</th>\n",
              "      <td>CCPE-fc882</td>\n",
              "      <td>[{'index': 0, 'speaker': 'ASSISTANT', 'text': 'What kind of movies are you drawn to?'}, {'index': 1, 'speaker': 'USER', 'text': 'I am drawn to romances.', 'segments': [{'startIndex': 14, 'endIndex': 22, 'text': 'romances', 'annotations': [{'annotationType': 'ENTITY_NAME', 'entityType': 'MOVIE_GENRE_OR_CATEGORY'}]}, {'startIndex': 0, 'endIndex': 22, 'text': 'I am drawn to romances', 'annotations': [{'annotationType': 'ENTITY_PREFERENCE', 'entityType': 'MOVIE_GENRE_OR_CATEGORY'}]}]}, {'index': 2, 'speaker': 'ASSISTANT', 'text': 'Have you seen Fifty Shade of Grey?', 'segments': [{'startIndex': 14, 'endIndex': 33, 'text': 'Fifty Shade of Grey', 'annotations': [{'annotationType': 'ENTITY_NAME', 'entityType': 'MOVIE_OR_SERIES'}]}]}, {'index': 3, 'speaker': 'USER', 'text': 'I have not.'}, {'index': 4, 'speaker': 'USER', 'text': 'I know of it very well, but I have not seen it.', 'segments': [{'startIndex': 0, 'endIndex': 46, 'text': 'I know of it very well, but I have not seen it', 'annotations': [{'annotationType': 'ENTITY_OTHER', 'entityType': 'MOVIE_OR_SERIES'}]}]}, {'index': 5, 'speaker': 'ASSISTANT', 'text': 'What was a movie that you last watched that surprised you?'}, {'index': 6, 'speaker': 'USER', 'text': 'Maybe White House Down was surprising for me.', 'segments': [{'startIndex': 6, 'endIndex': 22, 'text': 'White House Down', 'annotations': [{'annotationType': 'ENTITY_NAME', 'entityType': 'MOVIE_OR_SERIES'}]}, {'startIndex': 6, 'endIndex': 44, 'text': 'White House Down was surprising for me', 'annotations': [{'annotationType': 'ENTITY_OTHER', 'entityType': 'MOVIE_OR_SERIES'}]}]}, {'index': 7, 'speaker': 'ASSISTANT', 'text': 'What made you like the movie?'}, {'index': 8, 'speaker': 'USER', 'text': 'I didn't go into it with high expectations at all. I thought it was just going to be I don't know, a lot of blowing up, pretty dumb, but was it It was I think when I watched it, it was summer day or summer night where almost nothing seemed to be on cable, and I was just looking for something to watch, and I thought, oh, okay, it stars Channing Tatum. I'll watch that. Or I'll turn to that. I probably won't be there for too long. It ended up being a ton of fun.', 'segments': [{'startIndex': 337, 'endIndex': 351, 'text': 'Channing Tatum', 'annotations': [{'annotationType': 'ENTITY_NAME', 'entityType': 'PERSON'}]}, {'startIndex': 0, 'endIndex': 49, 'text': \"I didn't go into it with high expectations at all\", 'annotations': [{'annotationType': 'ENTITY_OTHER', 'entityType': 'MOVIE_OR_SERIES'}]}, {'startIndex': 51, 'endIndex': 131, 'text': \"I thought it was just going to be I don't know, a lot of blowing up, pretty dumb\", 'annotations': [{'annotationType': 'ENTITY_OTHER', 'entityType': 'MOVIE_OR_SERIES'}]}, {'startIndex': 432, 'endIndex': 462, 'text': 'It ended up being a ton of fun', 'annotations': [{'annotationType': 'ENTITY_PREFERENCE', 'entityType': 'MOVIE_OR_SERIES'}]}]}, {'index': 9, 'speaker': 'USER', 'text': 'It was like a new version of Die Hard. They had a lot of fun with the movie. And despite it being like unrealistic and they're blowing things up, it was great. It was just a really fun hour and a half.', 'segments': [{'startIndex': 29, 'endIndex': 37, 'text': 'Die Hard', 'annotations': [{'annotationType': 'ENTITY_NAME', 'entityType': 'MOVIE_OR_SERIES'}]}, {'startIndex': 39, 'endIndex': 75, 'text': 'They had a lot of fun with the movie', 'annotations': [{'annotationType': 'ENTITY_PREFERENCE', 'entityType': 'MOVIE_OR_SERIES'}]}, {'startIndex': 81, 'endIndex': 158, 'text': \"despite it being like unrealistic and they're blowing things up, it was great\", 'annotations': [{'annotationType': 'ENTITY_PREFERENCE', 'entityType': 'MOVIE_OR_SERIES'}]}, {'startIndex': 160, 'endIndex': 200, 'text': 'It was just a really fun hour and a half', 'annotations': [{'annotationType': 'ENTITY_PREFERENCE', 'entityType': 'MOVIE_OR_SERIES'}]}]}, {'index': 10, 'speaker': 'ASSISTANT', 'text': 'Have you seen Dawn of the Planet of the Apes?', 'segments': [{'startIndex': 14, 'endIndex': 44, 'text': 'Dawn of the Planet of the Apes', 'annotations': [{'annotationType': 'ENTITY_NAME', 'entityType': 'MOVIE_OR_SERIES'}]}]}, {'index': 11, 'speaker': 'USER', 'text': 'No.'}, {'index': 12, 'speaker': 'ASSISTANT', 'text': 'Have you seen Avatar?', 'segments': [{'startIndex': 14, 'endIndex': 20, 'text': 'Avatar', 'annotations': [{'annotationType': 'ENTITY_NAME', 'entityType': 'MOVIE_OR_SERIES'}]}]}, {'index': 13, 'speaker': 'USER', 'text': 'Yeah.'}, {'index': 14, 'speaker': 'ASSISTANT', 'text': 'What didnt you like about that movie?'}, {'index': 15, 'speaker': 'USER', 'text': 'You know, epics like that are a hard sell for me. It's very long. I wasn't nearly as charmed by the blue people that they were that most other people were. I don't know. It seemed to be lacking in finesse and It just seemed very over the top. It really did seem like an event movie, and maybe if I had seen it in the theater, I would have sort of fallen in love with it like other people did, but', 'segments': [{'startIndex': 10, 'endIndex': 48, 'text': 'epics like that are a hard sell for me', 'annotations': [{'annotationType': 'ENTITY_PREFERENCE', 'entityType': 'MOVIE_OR_SERIES'}]}, {'startIndex': 50, 'endIndex': 64, 'text': \"It's very long\", 'annotations': [{'annotationType': 'ENTITY_PREFERENCE', 'entityType': 'MOVIE_OR_SERIES'}]}, {'startIndex': 66, 'endIndex': 154, 'text': \"I wasn't nearly as charmed by the blue people that they were that most other people were\", 'annotations': [{'annotationType': 'ENTITY_PREFERENCE', 'entityType': 'MOVIE_OR_SERIES'}]}, {'startIndex': 170, 'endIndex': 204, 'text': 'It seemed to be lacking in finesse', 'annotations': [{'annotationType': 'ENTITY_PREFERENCE', 'entityType': 'MOVIE_OR_SERIES'}]}, {'startIndex': 209, 'endIndex': 241, 'text': 'It just seemed very over the top', 'annotations': [{'annotationType': 'ENTITY_PREFERENCE', 'entityType': 'MOVIE_OR_SERIES'}]}, {'startIndex': 257, 'endIndex': 281, 'text': 'seem like an event movie', 'annotations': [{'annotationType': 'ENTITY_PREFERENCE', 'entityType': 'MOVIE_OR_SERIES'}]}]}, {'index': 16, 'speaker': 'USER', 'text': 'It just It was underwhelming. The direction wasn't nearly as good as I thought it was going to be and I just thought it was going to be something more exciting and more appealing that it ended up being for me.', 'segments': [{'startIndex': 8, 'endIndex': 28, 'text': 'It was underwhelming', 'annotations': [{'annotationType': 'ENTITY_PREFERENCE', 'entityType': 'MOVIE_OR_SERIES'}]}, {'startIndex': 30, 'endIndex': 97, 'text': \"The direction wasn't nearly as good as I thought it was going to be\", 'annotations': [{'annotationType': 'ENTITY_PREFERENCE', 'entityType': 'MOVIE_OR_SERIES'}]}, {'startIndex': 102, 'endIndex': 208, 'text': 'I just thought it was going to be something more exciting and more appealing that it ended up being for me', 'annotations': [{'annotationType': 'ENTITY_PREFERENCE', 'entityType': 'MOVIE_OR_SERIES'}]}]}, {'index': 17, 'speaker': 'ASSISTANT', 'text': 'Have you seen John Wick?', 'segments': [{'startIndex': 14, 'endIndex': 23, 'text': 'John Wick', 'annotations': [{'annotationType': 'ENTITY_NAME', 'entityType': 'MOVIE_OR_SERIES'}]}]}, {'index': 18, 'speaker': 'USER', 'text': 'No, but I know I know what that movie is, yeah.', 'segments': [{'startIndex': 15, 'endIndex': 37, 'text': 'I know what that movie', 'annotations': [{'annotationType': 'ENTITY_OTHER', 'entityType': 'MOVIE_OR_SERIES'}]}]}, {'index': 19, 'speaker': 'ASSISTANT', 'text': 'Have you seen Halloween?', 'segments': [{'startIndex': 14, 'endIndex': 23, 'text': 'Halloween', 'annotations': [{'annotationType': 'ENTITY_NAME', 'entityType': 'MOVIE_OR_SERIES'}]}]}, {'index': 20, 'speaker': 'USER', 'text': 'I mean, sure.'}, {'index': 21, 'speaker': 'ASSISTANT', 'text': 'What do you like about the Halloween movies?', 'segments': [{'startIndex': 23, 'endIndex': 36, 'text': 'the Halloween', 'annotations': [{'annotationType': 'ENTITY_NAME', 'entityType': 'MOVIE_OR_SERIES'}]}]}, {'index': 22, 'speaker': 'USER', 'text': 'I don't like the Halloween movies. I don't like scary movies. So, when I watched that that was just like at a party with friends. And that's what they wanted to watch. I just don't enjoy scaring myself like that. So, the first Halloween the one that originally has Jamie Curtis from back in the day, that is a much better movie than the other Halloweens were. But, I still They are still not my favorite. Too scary.', 'segments': [{'startIndex': 48, 'endIndex': 53, 'text': 'scary', 'annotations': [{'annotationType': 'ENTITY_NAME', 'entityType': 'MOVIE_GENRE_OR_CATEGORY'}]}, {'startIndex': 13, 'endIndex': 33, 'text': 'the Halloween movies', 'annotations': [{'annotationType': 'ENTITY_NAME', 'entityType': 'MOVIE_OR_SERIES'}]}, {'startIndex': 217, 'endIndex': 236, 'text': 'the first Halloween', 'annotations': [{'annotationType': 'ENTITY_NAME', 'entityType': 'MOVIE_OR_SERIES'}]}, {'startIndex': 333, 'endIndex': 353, 'text': 'the other Halloweens', 'annotations': [{'annotationType': 'ENTITY_NAME', 'entityType': 'MOVIE_OR_SERIES'}]}, {'startIndex': 265, 'endIndex': 277, 'text': 'Jamie Curtis', 'annotations': [{'annotationType': 'ENTITY_NAME', 'entityType': 'PERSON'}]}, {'startIndex': 35, 'endIndex': 60, 'text': \"I don't like scary movies\", 'annotations': [{'annotationType': 'ENTITY_PREFERENCE', 'entityType': 'MOVIE_GENRE_OR_CATEGORY'}]}, {'startIndex': 168, 'endIndex': 211, 'text': \"I just don't enjoy scaring myself like that\", 'annotations': [{'annotationType': 'ENTITY_PREFERENCE', 'entityType': 'MOVIE_GENRE_OR_CATEGORY'}]}, {'startIndex': 0, 'endIndex': 33, 'text': \"I don't like the Halloween movies\", 'annotations': [{'annotationType': 'ENTITY_PREFERENCE', 'entityType': 'MOVIE_OR_SERIES'}]}, {'startIndex': 217, 'endIndex': 358, 'text': 'the first Halloween the one that originally has Jamie Curtis from back in the day, that is a much better movie than the other Halloweens were', 'annotations': [{'annotationType': 'ENTITY_PREFERENCE', 'entityType': 'MOVIE_OR_SERIES'}]}, {'startIndex': 373, 'endIndex': 403, 'text': 'They are still not my favorite', 'annotations': [{'annotationType': 'ENTITY_PREFERENCE', 'entityType': 'MOVIE_OR_SERIES'}]}, {'startIndex': 405, 'endIndex': 414, 'text': 'Too scary', 'annotations': [{'annotationType': 'ENTITY_PREFERENCE', 'entityType': 'MOVIE_OR_SERIES'}]}]}, {'index': 23, 'speaker': 'USER', 'text': 'and outside of the first one. And apparently I ha I haven't seen up the most recent one that is sort of a direct sequel to the first one. Those That is a lot of gore, a lot of blood, a lot of trying to scare and not a lot of story line in movie.', 'segments': [{'startIndex': 50, 'endIndex': 136, 'text': \"I haven't seen up the most recent one that is sort of a direct sequel to the first one\", 'annotations': [{'annotationType': 'ENTITY_OTHER', 'entityType': 'MOVIE_OR_SERIES'}]}, {'startIndex': 144, 'endIndex': 165, 'text': 'That is a lot of gore', 'annotations': [{'annotationType': 'ENTITY_PREFERENCE', 'entityType': 'MOVIE_OR_SERIES'}]}, {'startIndex': 167, 'endIndex': 181, 'text': 'a lot of blood', 'annotations': [{'annotationType': 'ENTITY_PREFERENCE', 'entityType': 'MOVIE_OR_SERIES'}]}, {'startIndex': 183, 'endIndex': 207, 'text': 'a lot of trying to scare', 'annotations': [{'annotationType': 'ENTITY_PREFERENCE', 'entityType': 'MOVIE_OR_SERIES'}]}, {'startIndex': 212, 'endIndex': 235, 'text': 'not a lot of story line', 'annotations': [{'annotationType': 'ENTITY_PREFERENCE', 'entityType': 'MOVIE_OR_SERIES'}]}]}, {'index': 24, 'speaker': 'ASSISTANT', 'text': 'Thank you for your input, have a great day!'}, {'index': 25, 'speaker': 'USER', 'text': 'Thank you, too.'}]</td>\n",
              "    </tr>\n",
              "  </tbody>\n",
              "</table>\n",
              "</div>"
            ],
            "text/plain": [
              "  conversationId                                                                                                                                                                                                                                                                                                                                                                                                                                                                                                                                                                                                                                                                                                                                                                                                                                                                                                                                                                                                                                                                                                                                                                                                                                                                                                                                                                                                                                                                                                                                                                                                                                                                                                                                                                                                                                                                                                                                                                                                                                                                                                                                                                                                                                                                                                                                                                                                                                                                                                                                                                                                                                                                                                                                                                                                                                                                                                                                                                                                                                                                                                                                                                                                                                                                                                                                                                                                                                                                                                                                                                                                                                                                                                                                                                                                                                                                                                                                                                                                                                                                                                                                                                                                                                                                                                                                                                                                                                                                                                                                                                                                                                                                                                                                                                                                                                                                                                                                                                                                                                                                                                                                                                                                                                                                                                                                                                                                                                                                                                                                                                                                                                                                                                                                                                                                                                                                                                                                                                                                                                                                                                                                                                                                                                                                                                                                                                                                                                                                                                                                                                                                                                                                                                                                                                                                                                                                                                                                                                                                                                                                                                                                                                                                                                                                                                                                                                                                                                                                                                                                                                                                                                                                                                                                                                                                                                                                                                                                                                                                                                                                                                                                                                                                                                                                                                                                                                                                                                                                                                                                                                                                                                                                                                                                                                                                                                                                                                                                                                                                                                                                                                                                                                                                                                                                                                                                                                                                                                                                                                                                                                                                                                                                                                                                                                                                                                                                                                                                                                                                                                                                                                                                                                                                                                                                                                                                                                                                                                                                                                                                                                                                                                                                                                                                                                                                                                                                                                                                                                                                                                                                                                                                                                                                                                                                                                                                                                                                                                                                                                                                                                                                                                                                                                                                                                                                                                                                                                                                                                                                                                                                                                                                                                                                                                                                                                                                                                                                                                                                                                                                                                                                                                                                                                                                                                                                                                                                                                                                                                                                                                                                                                                                                                                                                                                                                                                                                                 utterances\n",
              "0  CCPE-8e113     [{'index': 0, 'speaker': 'ASSISTANT', 'text': 'generally speaking what type of movies do you watch'}, {'index': 1, 'speaker': 'USER', 'text': 'I like thrillers a lot.', 'segments': [{'startIndex': 7, 'endIndex': 16, 'text': 'thrillers', 'annotations': [{'annotationType': 'ENTITY_NAME', 'entityType': 'MOVIE_GENRE_OR_CATEGORY'}]}, {'startIndex': 0, 'endIndex': 22, 'text': 'I like thrillers a lot', 'annotations': [{'annotationType': 'ENTITY_PREFERENCE', 'entityType': 'MOVIE_GENRE_OR_CATEGORY'}]}]}, {'index': 2, 'speaker': 'ASSISTANT', 'text': 'thrillers? for example?', 'segments': [{'startIndex': 0, 'endIndex': 9, 'text': 'thrillers', 'annotations': [{'annotationType': 'ENTITY_NAME', 'entityType': 'MOVIE_GENRE_OR_CATEGORY'}]}]}, {'index': 3, 'speaker': 'USER', 'text': 'Zodiac's one of my favorite movies.', 'segments': [{'startIndex': 0, 'endIndex': 6, 'text': 'Zodiac', 'annotations': [{'annotationType': 'ENTITY_NAME', 'entityType': 'MOVIE_OR_SERIES'}]}, {'startIndex': 0, 'endIndex': 34, 'text': \"Zodiac's one of my favorite movies\", 'annotations': [{'annotationType': 'ENTITY_PREFERENCE', 'entityType': 'MOVIE_GENRE_OR_CATEGORY'}]}]}, {'index': 4, 'speaker': 'USER', 'text': 'Zodiac the movie about a serial killer from the '60s or '70s, around there.', 'segments': [{'startIndex': 0, 'endIndex': 6, 'text': 'Zodiac', 'annotations': [{'annotationType': 'ENTITY_NAME', 'entityType': 'MOVIE_OR_SERIES'}]}, {'startIndex': 0, 'endIndex': 74, 'text': \"Zodiac the movie about a serial killer from the '60s or '70s, around there\", 'annotations': [{'annotationType': 'ENTITY_DESCRIPTION', 'entityType': 'MOVIE_OR_SERIES'}]}]}, {'index': 5, 'speaker': 'ASSISTANT', 'text': 'Zodiac? oh wow ok, what do you like about that movie', 'segments': [{'startIndex': 0, 'endIndex': 6, 'text': 'Zodiac', 'annotations': [{'annotationType': 'ENTITY_NAME', 'entityType': 'MOVIE_OR_SERIES'}]}]}, {'index': 6, 'speaker': 'USER', 'text': 'And I just think serial killers, in general, are interesting, so the movie was really good. And it was just neat to see that world. Like it went really in-depth. It was like almost 3 hours long, so you got to really feel like you were a part of that world and time period. And see what the detectives and the police did and the investigators.', 'segments': [{'startIndex': 4, 'endIndex': 90, 'text': 'I just think serial killers, in general, are interesting, so the movie was really good', 'annotations': [{'annotationType': 'ENTITY_PREFERENCE', 'entityType': 'MOVIE_OR_SERIES'}]}, {'startIndex': 96, 'endIndex': 130, 'text': 'it was just neat to see that world', 'annotations': [{'annotationType': 'ENTITY_PREFERENCE', 'entityType': 'MOVIE_OR_SERIES'}]}, {'startIndex': 137, 'endIndex': 160, 'text': 'it went really in-depth', 'annotations': [{'annotationType': 'ENTITY_PREFERENCE', 'entityType': 'MOVIE_OR_SERIES'}]}, {'startIndex': 162, 'endIndex': 271, 'text': 'It was like almost 3 hours long, so you got to really feel like you were a part of that world and time period', 'annotations': [{'annotationType': 'ENTITY_PREFERENCE', 'entityType': 'MOVIE_OR_SERIES'}]}, {'startIndex': 273, 'endIndex': 341, 'text': 'And see what the detectives and the police did and the investigators', 'annotations': [{'annotationType': 'ENTITY_PREFERENCE', 'entityType': 'MOVIE_OR_SERIES'}]}]}, {'index': 7, 'speaker': 'ASSISTANT', 'text': 'so you feel like you were part of that world ?'}, {'index': 8, 'speaker': 'USER', 'text': 'Yeah. It was really an immersive movie.', 'segments': [{'startIndex': 6, 'endIndex': 38, 'text': 'It was really an immersive movie', 'annotations': [{'annotationType': 'ENTITY_PREFERENCE', 'entityType': 'MOVIE_OR_SERIES'}]}]}, {'index': 9, 'speaker': 'ASSISTANT', 'text': 'if you were in the movie what character do you feel most relatable'}, {'index': 10, 'speaker': 'USER', 'text': 'Probably the main character, Robert Graysmith, just cuz he's awkward and bumbly. So, I guess that's the one I would be the closest to.', 'segments': [{'startIndex': 0, 'endIndex': 79, 'text': \"Probably the main character, Robert Graysmith, just cuz he's awkward and bumbly\", 'annotations': [{'annotationType': 'ENTITY_PREFERENCE', 'entityType': 'MOVIE_OR_SERIES'}]}]}, {'index': 11, 'speaker': 'ASSISTANT', 'text': 'what scene do you like the best'}, {'index': 12, 'speaker': 'USER', 'text': 'Probably the most memorable one is the murder at the lake. Just cuz it's really vivid and horrific to watch. But it's very memorable.', 'segments': [{'startIndex': 68, 'endIndex': 132, 'text': \"it's really vivid and horrific to watch. But it's very memorable\", 'annotations': [{'annotationType': 'ENTITY_PREFERENCE', 'entityType': 'MOVIE_OR_SERIES'}]}]}, {'index': 13, 'speaker': 'ASSISTANT', 'text': 'ok nice, any other similiar movies you have seen recently?'}, {'index': 14, 'speaker': 'USER', 'text': 'Not that I can think of.'}, {'index': 15, 'speaker': 'ASSISTANT', 'text': 'how about different type of movies like Once Upon a Deadpool', 'segments': [{'startIndex': 40, 'endIndex': 60, 'text': 'Once Upon a Deadpool', 'annotations': [{'annotationType': 'ENTITY_NAME', 'entityType': 'MOVIE_OR_SERIES'}]}]}, {'index': 16, 'speaker': 'USER', 'text': 'I haven't seen that.', 'segments': [{'startIndex': 0, 'endIndex': 19, 'text': \"I haven't seen that\", 'annotations': [{'annotationType': 'ENTITY_OTHER', 'entityType': 'MOVIE_OR_SERIES'}]}]}, {'index': 17, 'speaker': 'ASSISTANT', 'text': 'have you heard of that movie'}, {'index': 18, 'speaker': 'USER', 'text': 'I've heard of it, but I haven't seen it.', 'segments': [{'startIndex': 0, 'endIndex': 39, 'text': \"I've heard of it, but I haven't seen it\", 'annotations': [{'annotationType': 'ENTITY_OTHER', 'entityType': 'MOVIE_OR_SERIES'}]}]}, {'index': 19, 'speaker': 'ASSISTANT', 'text': 'would you be interested to watch it'}, {'index': 20, 'speaker': 'USER', 'text': 'Not particularly. I don't really like comic book movies that much. But I really wanted to see Deadpool, so I'd probably be more willing to watch that than most comic book movies.', 'segments': [{'startIndex': 94, 'endIndex': 102, 'text': 'Deadpool', 'annotations': [{'annotationType': 'ENTITY_NAME', 'entityType': 'MOVIE_OR_SERIES'}]}, {'startIndex': 18, 'endIndex': 65, 'text': \"I don't really like comic book movies that much\", 'annotations': [{'annotationType': 'ENTITY_PREFERENCE', 'entityType': 'MOVIE_GENRE_OR_CATEGORY'}]}, {'startIndex': 107, 'endIndex': 177, 'text': \"I'd probably be more willing to watch that than most comic book movies\", 'annotations': [{'annotationType': 'ENTITY_PREFERENCE', 'entityType': 'MOVIE_GENRE_OR_CATEGORY'}]}, {'startIndex': 71, 'endIndex': 102, 'text': 'I really wanted to see Deadpool', 'annotations': [{'annotationType': 'ENTITY_PREFERENCE', 'entityType': 'MOVIE_OR_SERIES'}]}]}, {'index': 21, 'speaker': 'ASSISTANT', 'text': 'oh what makes deadpool different than the others?'}, {'index': 22, 'speaker': 'USER', 'text': 'I don't know. It just seems a unique concept and different, not just the standard superhero movie.', 'segments': [{'startIndex': 14, 'endIndex': 58, 'text': 'It just seems a unique concept and different', 'annotations': [{'annotationType': 'ENTITY_PREFERENCE', 'entityType': 'MOVIE_OR_SERIES'}]}, {'startIndex': 60, 'endIndex': 97, 'text': 'not just the standard superhero movie', 'annotations': [{'annotationType': 'ENTITY_PREFERENCE', 'entityType': 'MOVIE_OR_SERIES'}]}]}, {'index': 23, 'speaker': 'USER', 'text': 'And it's more of a comedy, so that's unique.', 'segments': [{'startIndex': 4, 'endIndex': 43, 'text': \"it's more of a comedy, so that's unique\", 'annotations': [{'annotationType': 'ENTITY_PREFERENCE', 'entityType': 'MOVIE_OR_SERIES'}]}]}, {'index': 24, 'speaker': 'ASSISTANT', 'text': 'ok so you enjoy comedy as well, correct?'}, {'index': 25, 'speaker': 'USER', 'text': 'Yep, I think most people do.', 'segments': [{'startIndex': 5, 'endIndex': 27, 'text': 'I think most people do', 'annotations': [{'annotationType': 'ENTITY_PREFERENCE', 'entityType': 'MOVIE_GENRE_OR_CATEGORY'}]}]}, {'index': 26, 'speaker': 'ASSISTANT', 'text': 'what type of movie you don't enjoy?'}, {'index': 27, 'speaker': 'USER', 'text': 'I'm not a big action movie fan like Die Hard or like Rambo movies. I don't hate them, I just think they're boring. Like I can't watch a lot of them, or else I get sick of them.', 'segments': [{'startIndex': 14, 'endIndex': 26, 'text': 'action movie', 'annotations': [{'annotationType': 'ENTITY_NAME', 'entityType': 'MOVIE_GENRE_OR_CATEGORY'}]}, {'startIndex': 36, 'endIndex': 44, 'text': 'Die Hard', 'annotations': [{'annotationType': 'ENTITY_NAME', 'entityType': 'MOVIE_OR_SERIES'}]}, {'startIndex': 53, 'endIndex': 58, 'text': 'Rambo', 'annotations': [{'annotationType': 'ENTITY_NAME', 'entityType': 'MOVIE_OR_SERIES'}]}, {'startIndex': 0, 'endIndex': 65, 'text': \"I'm not a big action movie fan like Die Hard or like Rambo movies\", 'annotations': [{'annotationType': 'ENTITY_PREFERENCE', 'entityType': 'MOVIE_GENRE_OR_CATEGORY'}]}, {'startIndex': 67, 'endIndex': 113, 'text': \"I don't hate them, I just think they're boring\", 'annotations': [{'annotationType': 'ENTITY_PREFERENCE', 'entityType': 'MOVIE_GENRE_OR_CATEGORY'}]}, {'startIndex': 120, 'endIndex': 175, 'text': \"I can't watch a lot of them, or else I get sick of them\", 'annotations': [{'annotationType': 'ENTITY_PREFERENCE', 'entityType': 'MOVIE_GENRE_OR_CATEGORY'}]}]}, {'index': 28, 'speaker': 'ASSISTANT', 'text': 'what about mission impossible?', 'segments': [{'startIndex': 11, 'endIndex': 29, 'text': 'mission impossible', 'annotations': [{'annotationType': 'ENTITY_NAME', 'entityType': 'MOVIE_OR_SERIES'}]}]}, {'index': 29, 'speaker': 'USER', 'text': 'Never seen it. I know what it is, but I haven't seen it.', 'segments': [{'startIndex': 0, 'endIndex': 13, 'text': 'Never seen it', 'annotations': [{'annotationType': 'ENTITY_OTHER', 'entityType': 'MOVIE_OR_SERIES'}]}, {'startIndex': 15, 'endIndex': 55, 'text': \"I know what it is, but I haven't seen it\", 'annotations': [{'annotationType': 'ENTITY_OTHER', 'entityType': 'MOVIE_OR_SERIES'}]}]}, {'index': 30, 'speaker': 'ASSISTANT', 'text': 'do you care who acts in the movie?'}, {'index': 31, 'speaker': 'USER', 'text': 'Just in general? I'm not I'm not picky about actors. Like I won't see a movie just cuz I don't like the actor in it.'}, {'index': 32, 'speaker': 'ASSISTANT', 'text': 'oh ok so you dont have a favorite actor is that right'}, {'index': 33, 'speaker': 'USER', 'text': 'I mean I like certain actors more than others, but I wouldn't say I have a favorite actor.'}, {'index': 34, 'speaker': 'ASSISTANT', 'text': 'ok who came to your mind when it comes to actors you like to see in the movie'}, {'index': 35, 'speaker': 'ASSISTANT', 'text': 'what is your favorite Tom Hanks movie?', 'segments': [{'startIndex': 22, 'endIndex': 31, 'text': 'Tom Hanks', 'annotations': [{'annotationType': 'ENTITY_NAME', 'entityType': 'PERSON'}]}]}, {'index': 36, 'speaker': 'USER', 'text': 'Catch Me If You Can', 'segments': [{'startIndex': 0, 'endIndex': 19, 'text': 'Catch Me If You Can', 'annotations': [{'annotationType': 'ENTITY_NAME', 'entityType': 'MOVIE_OR_SERIES'}, {'annotationType': 'ENTITY_PREFERENCE', 'entityType': 'MOVIE_OR_SERIES'}]}]}, {'index': 37, 'speaker': 'ASSISTANT', 'text': 'what so great about that movie'}, {'index': 38, 'speaker': 'USER', 'text': 'It's just an interesting story and it's based on a true story and it's got Leonardo Dicaprio in it, another good actor.', 'segments': [{'startIndex': 75, 'endIndex': 92, 'text': 'Leonardo Dicaprio', 'annotations': [{'annotationType': 'ENTITY_NAME', 'entityType': 'PERSON'}]}, {'startIndex': 0, 'endIndex': 30, 'text': \"It's just an interesting story\", 'annotations': [{'annotationType': 'ENTITY_PREFERENCE', 'entityType': 'MOVIE_OR_SERIES'}]}, {'startIndex': 35, 'endIndex': 61, 'text': \"it's based on a true story\", 'annotations': [{'annotationType': 'ENTITY_PREFERENCE', 'entityType': 'MOVIE_OR_SERIES'}]}, {'startIndex': 66, 'endIndex': 118, 'text': \"it's got Leonardo Dicaprio in it, another good actor\", 'annotations': [{'annotationType': 'ENTITY_PREFERENCE', 'entityType': 'MOVIE_OR_SERIES'}]}]}, {'index': 39, 'speaker': 'ASSISTANT', 'text': 'do you think that movie is exciting?'}, {'index': 40, 'speaker': 'USER', 'text': 'Yep.', 'segments': [{'startIndex': 0, 'endIndex': 3, 'text': 'Yep', 'annotations': [{'annotationType': 'ENTITY_PREFERENCE', 'entityType': 'MOVIE_OR_SERIES'}]}]}, {'index': 41, 'speaker': 'ASSISTANT', 'text': 'which scene you find most memorable?'}, {'index': 42, 'speaker': 'USER', 'text': 'It's been a long time since I've seen that movie. I can't think of any specific scene.', 'segments': [{'startIndex': 0, 'endIndex': 48, 'text': \"It's been a long time since I've seen that movie\", 'annotations': [{'annotationType': 'ENTITY_OTHER', 'entityType': 'MOVIE_OR_SERIES'}]}]}]\n",
              "1  CCPE-75731     [{'index': 0, 'speaker': 'ASSISTANT', 'text': 'what kind of movies do you generally like?'}, {'index': 1, 'speaker': 'USER', 'text': 'Yeah, I mostly like comedy movies.', 'segments': [{'startIndex': 20, 'endIndex': 26, 'text': 'comedy', 'annotations': [{'annotationType': 'ENTITY_NAME', 'entityType': 'MOVIE_GENRE_OR_CATEGORY'}]}, {'startIndex': 6, 'endIndex': 33, 'text': 'I mostly like comedy movies', 'annotations': [{'annotationType': 'ENTITY_PREFERENCE', 'entityType': 'MOVIE_GENRE_OR_CATEGORY'}]}]}, {'index': 2, 'speaker': 'ASSISTANT', 'text': 'I see. Why do you like that kind of movie?'}, {'index': 3, 'speaker': 'USER', 'text': 'Well I like that kind of movie because you know, it'll make me laugh, and I often watch movies with my girlfriend, and I want to make sure whatever we watch, it's something we can both enjoy and and relax while watching.', 'segments': [{'startIndex': 49, 'endIndex': 68, 'text': \"it'll make me laugh\", 'annotations': [{'annotationType': 'ENTITY_PREFERENCE', 'entityType': 'MOVIE_GENRE_OR_CATEGORY'}]}, {'startIndex': 74, 'endIndex': 219, 'text': \"I often watch movies with my girlfriend, and I want to make sure whatever we watch, it's something we can both enjoy and and relax while watching\", 'annotations': [{'annotationType': 'ENTITY_PREFERENCE', 'entityType': 'MOVIE_GENRE_OR_CATEGORY'}]}]}, {'index': 4, 'speaker': 'ASSISTANT', 'text': 'That seems really nice. Can you think of a movie you really enjoyed recently?'}, {'index': 5, 'speaker': 'USER', 'text': 'Yeah, I really enjoyed The Longest Yard with Adam Sandler.', 'segments': [{'startIndex': 23, 'endIndex': 39, 'text': 'The Longest Yard', 'annotations': [{'annotationType': 'ENTITY_NAME', 'entityType': 'MOVIE_OR_SERIES'}]}, {'startIndex': 45, 'endIndex': 57, 'text': 'Adam Sandler', 'annotations': [{'annotationType': 'ENTITY_NAME', 'entityType': 'PERSON'}]}, {'startIndex': 23, 'endIndex': 57, 'text': 'The Longest Yard with Adam Sandler', 'annotations': [{'annotationType': 'ENTITY_DESCRIPTION', 'entityType': 'MOVIE_OR_SERIES'}]}, {'startIndex': 6, 'endIndex': 39, 'text': 'I really enjoyed The Longest Yard', 'annotations': [{'annotationType': 'ENTITY_PREFERENCE', 'entityType': 'MOVIE_OR_SERIES'}]}]}, {'index': 6, 'speaker': 'ASSISTANT', 'text': 'What did you like about that movie?'}, {'index': 7, 'speaker': 'USER', 'text': 'I liked the acting. It's a lot of humor and gags in the movie. It had a good pace, good pacing. The story made sense.', 'segments': [{'startIndex': 0, 'endIndex': 18, 'text': 'I liked the acting', 'annotations': [{'annotationType': 'ENTITY_PREFERENCE', 'entityType': 'MOVIE_OR_SERIES'}]}, {'startIndex': 20, 'endIndex': 61, 'text': \"It's a lot of humor and gags in the movie\", 'annotations': [{'annotationType': 'ENTITY_PREFERENCE', 'entityType': 'MOVIE_OR_SERIES'}]}, {'startIndex': 63, 'endIndex': 94, 'text': 'It had a good pace, good pacing', 'annotations': [{'annotationType': 'ENTITY_PREFERENCE', 'entityType': 'MOVIE_OR_SERIES'}]}, {'startIndex': 96, 'endIndex': 116, 'text': 'The story made sense', 'annotations': [{'annotationType': 'ENTITY_PREFERENCE', 'entityType': 'MOVIE_OR_SERIES'}]}]}, {'index': 8, 'speaker': 'USER', 'text': 'Yeah, very funny movie.', 'segments': [{'startIndex': 6, 'endIndex': 22, 'text': 'very funny movie', 'annotations': [{'annotationType': 'ENTITY_PREFERENCE', 'entityType': 'MOVIE_OR_SERIES'}]}]}, {'index': 9, 'speaker': 'ASSISTANT', 'text': 'I see. That's really helpful.'}, {'index': 10, 'speaker': 'USER', 'text': 'Oh great.'}, {'index': 11, 'speaker': 'ASSISTANT', 'text': 'Now I'd like to know what kinds of movies you dislike if that's okay?'}, {'index': 12, 'speaker': 'USER', 'text': 'Yeah, sure.'}, {'index': 13, 'speaker': 'USER', 'text': 'Good question. Not really a fan of Hallmark movies, that kind of romantic comedy. Mostly because they typically have pretty bad acting. Yeah, not for me.', 'segments': [{'startIndex': 35, 'endIndex': 43, 'text': 'Hallmark', 'annotations': [{'annotationType': 'ENTITY_NAME', 'entityType': 'MOVIE_GENRE_OR_CATEGORY'}]}, {'startIndex': 65, 'endIndex': 80, 'text': 'romantic comedy', 'annotations': [{'annotationType': 'ENTITY_NAME', 'entityType': 'MOVIE_GENRE_OR_CATEGORY'}]}, {'startIndex': 15, 'endIndex': 50, 'text': 'Not really a fan of Hallmark movies', 'annotations': [{'annotationType': 'ENTITY_PREFERENCE', 'entityType': 'MOVIE_GENRE_OR_CATEGORY'}]}, {'startIndex': 97, 'endIndex': 134, 'text': 'they typically have pretty bad acting', 'annotations': [{'annotationType': 'ENTITY_PREFERENCE', 'entityType': 'MOVIE_GENRE_OR_CATEGORY'}]}, {'startIndex': 142, 'endIndex': 152, 'text': 'not for me', 'annotations': [{'annotationType': 'ENTITY_PREFERENCE', 'entityType': 'MOVIE_GENRE_OR_CATEGORY'}]}]}, {'index': 14, 'speaker': 'ASSISTANT', 'text': 'Why else don't you like those?'}, {'index': 15, 'speaker': 'USER', 'text': 'Well, I guess another reason would be that the stories are all typically same or very similar. There's no', 'segments': [{'startIndex': 43, 'endIndex': 93, 'text': 'the stories are all typically same or very similar', 'annotations': [{'annotationType': 'ENTITY_PREFERENCE', 'entityType': 'MOVIE_GENRE_OR_CATEGORY'}]}]}, {'index': 16, 'speaker': 'USER', 'text': 'It's just it's just very boiler plate. There's nothing There's not much new about each new Hallmark movie.', 'segments': [{'startIndex': 91, 'endIndex': 99, 'text': 'Hallmark', 'annotations': [{'annotationType': 'ENTITY_NAME', 'entityType': 'MOVIE_GENRE_OR_CATEGORY'}]}, {'startIndex': 10, 'endIndex': 37, 'text': \"it's just very boiler plate\", 'annotations': [{'annotationType': 'ENTITY_PREFERENCE', 'entityType': 'MOVIE_GENRE_OR_CATEGORY'}]}, {'startIndex': 55, 'endIndex': 105, 'text': \"There's not much new about each new Hallmark movie\", 'annotations': [{'annotationType': 'ENTITY_PREFERENCE', 'entityType': 'MOVIE_GENRE_OR_CATEGORY'}]}]}, {'index': 17, 'speaker': 'ASSISTANT', 'text': 'I see. They're pretty cookie-cutter it sounds like'}, {'index': 18, 'speaker': 'USER', 'text': 'That's exactly right.', 'segments': [{'startIndex': 0, 'endIndex': 20, 'text': \"That's exactly right\", 'annotations': [{'annotationType': 'ENTITY_PREFERENCE', 'entityType': 'MOVIE_GENRE_OR_CATEGORY'}]}]}, {'index': 19, 'speaker': 'ASSISTANT', 'text': 'So based on what you told me, I'm curious, did you see Jurassic World?', 'segments': [{'startIndex': 55, 'endIndex': 69, 'text': 'Jurassic World', 'annotations': [{'annotationType': 'ENTITY_NAME', 'entityType': 'MOVIE_OR_SERIES'}]}]}, {'index': 20, 'speaker': 'USER', 'text': 'I have not seen Jurassic World, no.', 'segments': [{'startIndex': 16, 'endIndex': 30, 'text': 'Jurassic World', 'annotations': [{'annotationType': 'ENTITY_NAME', 'entityType': 'MOVIE_OR_SERIES'}]}, {'startIndex': 0, 'endIndex': 34, 'text': 'I have not seen Jurassic World, no', 'annotations': [{'annotationType': 'ENTITY_OTHER', 'entityType': 'MOVIE_OR_SERIES'}]}]}, {'index': 21, 'speaker': 'USER', 'text': 'But I saw the original Jurassic Park', 'segments': [{'startIndex': 23, 'endIndex': 36, 'text': 'Jurassic Park', 'annotations': [{'annotationType': 'ENTITY_NAME', 'entityType': 'MOVIE_OR_SERIES'}]}, {'startIndex': 4, 'endIndex': 36, 'text': 'I saw the original Jurassic Park', 'annotations': [{'annotationType': 'ENTITY_OTHER', 'entityType': 'MOVIE_OR_SERIES'}]}]}, {'index': 22, 'speaker': 'ASSISTANT', 'text': 'What did you think of the original?'}, {'index': 23, 'speaker': 'USER', 'text': 'I liked the original a lot. Very creative movie. Very ahead of it's time with the computer generated imagery CGI.', 'segments': [{'startIndex': 0, 'endIndex': 26, 'text': 'I liked the original a lot', 'annotations': [{'annotationType': 'ENTITY_PREFERENCE', 'entityType': 'MOVIE_OR_SERIES'}]}, {'startIndex': 28, 'endIndex': 47, 'text': 'Very creative movie', 'annotations': [{'annotationType': 'ENTITY_PREFERENCE', 'entityType': 'MOVIE_OR_SERIES'}]}, {'startIndex': 49, 'endIndex': 112, 'text': \"Very ahead of it's time with the computer generated imagery CGI\", 'annotations': [{'annotationType': 'ENTITY_PREFERENCE', 'entityType': 'MOVIE_OR_SERIES'}]}]}, {'index': 24, 'speaker': 'USER', 'text': 'Yeah, it is it still holds up. It's still is a great movie even compared to anything that that's coming out today.', 'segments': [{'startIndex': 12, 'endIndex': 29, 'text': 'it still holds up', 'annotations': [{'annotationType': 'ENTITY_PREFERENCE', 'entityType': 'MOVIE_OR_SERIES'}]}, {'startIndex': 31, 'endIndex': 113, 'text': \"It's still is a great movie even compared to anything that that's coming out today\", 'annotations': [{'annotationType': 'ENTITY_PREFERENCE', 'entityType': 'MOVIE_OR_SERIES'}]}]}, {'index': 25, 'speaker': 'ASSISTANT', 'text': 'That's great. So if you liked the original would you consider seeing Jurassic World given the option to?', 'segments': [{'startIndex': 69, 'endIndex': 83, 'text': 'Jurassic World', 'annotations': [{'annotationType': 'ENTITY_NAME', 'entityType': 'MOVIE_OR_SERIES'}]}]}, {'index': 26, 'speaker': 'USER', 'text': 'Yeah, I would I would certainly consider it, yes.', 'segments': [{'startIndex': 0, 'endIndex': 48, 'text': 'Yeah, I would I would certainly consider it, yes', 'annotations': [{'annotationType': 'ENTITY_OTHER', 'entityType': 'MOVIE_OR_SERIES'}]}]}, {'index': 27, 'speaker': 'USER', 'text': 'I don't know too much about it, but I I think I saw the commercial for it.', 'segments': [{'startIndex': 0, 'endIndex': 30, 'text': \"I don't know too much about it\", 'annotations': [{'annotationType': 'ENTITY_OTHER', 'entityType': 'MOVIE_OR_SERIES'}]}]}]                                                                                                                                                                                                                                                                                                                                                                                                                                                                                                                                                                                                                                                                                                                                                                                                                                                                                                                                                                                                                                                                                                                                                                                                                                                                                                                                                                                                                                                                                                                                                                                                                                                                                                                                                                                                                                                                                                                                                                                                                                                                                                                                                                                                                                                                                                                                                                                                                                                                                                                                                                                                                                                                                                                                                                                                                                                                                                                                                                                                                                                                                                                                                                                                                                                                                                                                                                                                                                   \n",
              "2  CCPE-6faee     [{'index': 0, 'speaker': 'ASSISTANT', 'text': 'What kinds of movies do you like?'}, {'index': 1, 'speaker': 'USER', 'text': 'I really like comedy movies.', 'segments': [{'startIndex': 14, 'endIndex': 20, 'text': 'comedy', 'annotations': [{'annotationType': 'ENTITY_NAME', 'entityType': 'MOVIE_GENRE_OR_CATEGORY'}]}, {'startIndex': 0, 'endIndex': 27, 'text': 'I really like comedy movies', 'annotations': [{'annotationType': 'ENTITY_PREFERENCE', 'entityType': 'MOVIE_GENRE_OR_CATEGORY'}]}]}, {'index': 2, 'speaker': 'ASSISTANT', 'text': 'Why do you like comedies?', 'segments': [{'startIndex': 16, 'endIndex': 24, 'text': 'comedies', 'annotations': [{'annotationType': 'ENTITY_NAME', 'entityType': 'MOVIE_GENRE_OR_CATEGORY'}]}]}, {'index': 3, 'speaker': 'USER', 'text': 'I love to laugh and comedy movies, that's their whole purpose. Make you laugh.', 'segments': [{'startIndex': 0, 'endIndex': 15, 'text': 'I love to laugh', 'annotations': [{'annotationType': 'ENTITY_PREFERENCE', 'entityType': 'MOVIE_GENRE_OR_CATEGORY'}]}]}, {'index': 4, 'speaker': 'ASSISTANT', 'text': 'Alright, how about a movie you liked?'}, {'index': 5, 'speaker': 'USER', 'text': 'I liked Step Brothers.', 'segments': [{'startIndex': 8, 'endIndex': 21, 'text': 'Step Brothers', 'annotations': [{'annotationType': 'ENTITY_NAME', 'entityType': 'MOVIE_OR_SERIES'}]}, {'startIndex': 0, 'endIndex': 21, 'text': 'I liked Step Brothers', 'annotations': [{'annotationType': 'ENTITY_PREFERENCE', 'entityType': 'MOVIE_OR_SERIES'}]}]}, {'index': 6, 'speaker': 'ASSISTANT', 'text': 'Why did you like that movie?'}, {'index': 7, 'speaker': 'USER', 'text': 'Had some amazing one-liners that still get used today even though the movie was made awhile ago.', 'segments': [{'startIndex': 0, 'endIndex': 32, 'text': 'Had some amazing one-liners that', 'annotations': [{'annotationType': 'ENTITY_PREFERENCE', 'entityType': 'MOVIE_OR_SERIES'}]}]}, {'index': 8, 'speaker': 'ASSISTANT', 'text': 'Well, is there a movie you did not like?'}, {'index': 9, 'speaker': 'USER', 'text': 'I don't like RV.', 'segments': [{'startIndex': 13, 'endIndex': 15, 'text': 'RV', 'annotations': [{'annotationType': 'ENTITY_NAME', 'entityType': 'MOVIE_OR_SERIES'}]}, {'startIndex': 0, 'endIndex': 15, 'text': \"I don't like RV\", 'annotations': [{'annotationType': 'ENTITY_PREFERENCE', 'entityType': 'MOVIE_OR_SERIES'}]}]}, {'index': 10, 'speaker': 'ASSISTANT', 'text': 'Why not?'}, {'index': 11, 'speaker': 'USER', 'text': 'And I just didn't It was just so slow and boring. I didn't like it.', 'segments': [{'startIndex': 18, 'endIndex': 48, 'text': 'It was just so slow and boring', 'annotations': [{'annotationType': 'ENTITY_PREFERENCE', 'entityType': 'MOVIE_OR_SERIES'}]}, {'startIndex': 50, 'endIndex': 66, 'text': \"I didn't like it\", 'annotations': [{'annotationType': 'ENTITY_PREFERENCE', 'entityType': 'MOVIE_OR_SERIES'}]}]}, {'index': 12, 'speaker': 'ASSISTANT', 'text': 'Ok, then have you seen the movie Jurassic World: Fallen Kingdom', 'segments': [{'startIndex': 33, 'endIndex': 63, 'text': 'Jurassic World: Fallen Kingdom', 'annotations': [{'annotationType': 'ENTITY_NAME', 'entityType': 'MOVIE_OR_SERIES'}]}]}, {'index': 13, 'speaker': 'USER', 'text': 'I have seen the movie Jurassic World: Fallen Kingdom.', 'segments': [{'startIndex': 22, 'endIndex': 52, 'text': 'Jurassic World: Fallen Kingdom', 'annotations': [{'annotationType': 'ENTITY_NAME', 'entityType': 'MOVIE_OR_SERIES'}]}, {'startIndex': 0, 'endIndex': 52, 'text': 'I have seen the movie Jurassic World: Fallen Kingdom', 'annotations': [{'annotationType': 'ENTITY_OTHER', 'entityType': 'MOVIE_OR_SERIES'}]}]}, {'index': 14, 'speaker': 'ASSISTANT', 'text': 'What is it about these kinds of movies that you like or dislike?'}, {'index': 15, 'speaker': 'USER', 'text': 'I really like the actors. I feel like they were doing their best to make the movie better. And I just really like the scenery, and the the dinosaurs were awesome.', 'segments': [{'startIndex': 0, 'endIndex': 24, 'text': 'I really like the actors', 'annotations': [{'annotationType': 'ENTITY_PREFERENCE', 'entityType': 'MOVIE_OR_SERIES'}]}, {'startIndex': 95, 'endIndex': 125, 'text': 'I just really like the scenery', 'annotations': [{'annotationType': 'ENTITY_PREFERENCE', 'entityType': 'MOVIE_OR_SERIES'}]}, {'startIndex': 135, 'endIndex': 161, 'text': 'the dinosaurs were awesome', 'annotations': [{'annotationType': 'ENTITY_PREFERENCE', 'entityType': 'MOVIE_OR_SERIES'}]}]}]                                                                                                                                                                                                                                                                                                                                                                                                                                                                                                                                                                                                                                                                                                                                                                                                                                                                                                                                                                                                                                                                                                                                                                                                                                                                                                                                                                                                                                                                                                                                                                                                                                                                                                                                                                                                                                                                                                                                                                                                                                                                                                                                                                                                                                                                                                                                                                                                                                                                                                                                                                                                                                                                                                                                                                                                                                                                                                                                                                                                                                                                                                                                                                                                                                                                                                                                                                                                                                                                                                                                                                                                                                                                                                                                                                                                                                                                                                                                                                                                                                                                                                                                                                                                                                                                                                                                                                                                                                                                                                                                                                                                                                                                                                                                                                                                                                                                                                                                                                                                                                                                                                                                                                                                                                                                                                                                                                                                                                                                                                                                                                                                                                                                                                                                                                                                                                                                                                                                                                                                                                                                                                                                                                                                                                                                                                                                                                                                                                                                                                                                                                                                                                                                                                                                                                                                                                                                                                                                                                                                                                                                                                                                                                                                                                                                                                                                                                                                                                                                                                                                                                                                                                                                                                                                                                                                                                                                                                                                                                                                                                                                                                                                                                                                                                                                                                                                                                                                                                                                                                                                                                                                                                                                                                                                     \n",
              "3  CCPE-7b5bd     [{'index': 0, 'speaker': 'ASSISTANT', 'text': 'Hello. What kind of movies do you like?'}, {'index': 1, 'speaker': 'USER', 'text': 'Hello. I like horror movies.', 'segments': [{'startIndex': 14, 'endIndex': 20, 'text': 'horror', 'annotations': [{'annotationType': 'ENTITY_NAME', 'entityType': 'MOVIE_GENRE_OR_CATEGORY'}]}, {'startIndex': 7, 'endIndex': 27, 'text': 'I like horror movies', 'annotations': [{'annotationType': 'ENTITY_PREFERENCE', 'entityType': 'MOVIE_GENRE_OR_CATEGORY'}]}]}, {'index': 2, 'speaker': 'ASSISTANT', 'text': 'can you give two reasons why you like horror movies'}, {'index': 3, 'speaker': 'USER', 'text': 'I like to feel that inside of you that scares you to death, but you still want to continue watching the movie. I like when I feel goosies all over my arms, you know? That's the reason why I like it.', 'segments': [{'startIndex': 0, 'endIndex': 58, 'text': 'I like to feel that inside of you that scares you to death', 'annotations': [{'annotationType': 'ENTITY_PREFERENCE', 'entityType': 'MOVIE_GENRE_OR_CATEGORY'}]}, {'startIndex': 64, 'endIndex': 109, 'text': 'you still want to continue watching the movie', 'annotations': [{'annotationType': 'ENTITY_PREFERENCE', 'entityType': 'MOVIE_GENRE_OR_CATEGORY'}]}, {'startIndex': 111, 'endIndex': 154, 'text': 'I like when I feel goosies all over my arms', 'annotations': [{'annotationType': 'ENTITY_PREFERENCE', 'entityType': 'MOVIE_GENRE_OR_CATEGORY'}]}]}, {'index': 4, 'speaker': 'ASSISTANT', 'text': 'Can you name a particular movie that you like?'}, {'index': 5, 'speaker': 'USER', 'text': 'Saw', 'segments': [{'startIndex': 0, 'endIndex': 3, 'text': 'Saw', 'annotations': [{'annotationType': 'ENTITY_NAME', 'entityType': 'MOVIE_OR_SERIES'}, {'annotationType': 'ENTITY_PREFERENCE', 'entityType': 'MOVIE_OR_SERIES'}]}]}, {'index': 6, 'speaker': 'ASSISTANT', 'text': 'What are the 2 reasons you like Saw?'}, {'index': 7, 'speaker': 'USER', 'text': 'Because it was sad, it was a horror movie and it was like playing a game, you want to play a game with me and they will catch people and put them in a home let's say in a house and they will lock them and they need to find the way to leave. But in order to leave a place they will have to end up dead.', 'segments': [{'startIndex': 46, 'endIndex': 300, 'text': \"it was like playing a game, you want to play a game with me and they will catch people and put them in a home let's say in a house and they will lock them and they need to find the way to leave. But in order to leave a place they will have to end up dead\", 'annotations': [{'annotationType': 'ENTITY_DESCRIPTION', 'entityType': 'MOVIE_OR_SERIES'}]}, {'startIndex': 20, 'endIndex': 41, 'text': 'it was a horror movie', 'annotations': [{'annotationType': 'ENTITY_PREFERENCE', 'entityType': 'MOVIE_OR_SERIES'}]}]}, {'index': 8, 'speaker': 'ASSISTANT', 'text': 'Can you name a movie that you do not like?'}, {'index': 9, 'speaker': 'USER', 'text': 'But I do like all the movies.'}, {'index': 10, 'speaker': 'ASSISTANT', 'text': 'Surely, there must be one movie you can't stand or thought was poorly done'}, {'index': 11, 'speaker': 'USER', 'text': 'Let me think.'}, {'index': 12, 'speaker': 'USER', 'text': 'Well, I don't know. Emily Rose, maybe. Emily Rose.', 'segments': [{'startIndex': 20, 'endIndex': 30, 'text': 'Emily Rose', 'annotations': [{'annotationType': 'ENTITY_NAME', 'entityType': 'MOVIE_OR_SERIES'}]}, {'startIndex': 20, 'endIndex': 37, 'text': 'Emily Rose, maybe', 'annotations': [{'annotationType': 'ENTITY_PREFERENCE', 'entityType': 'MOVIE_OR_SERIES'}]}]}, {'index': 13, 'speaker': 'ASSISTANT', 'text': 'What are the 2 things that you dislike about this movie?'}, {'index': 14, 'speaker': 'USER', 'text': 'It was fake. You could tell that it was poorly made, and I didn't get scared at all.', 'segments': [{'startIndex': 0, 'endIndex': 11, 'text': 'It was fake', 'annotations': [{'annotationType': 'ENTITY_PREFERENCE', 'entityType': 'MOVIE_OR_SERIES'}]}, {'startIndex': 33, 'endIndex': 51, 'text': 'it was poorly made', 'annotations': [{'annotationType': 'ENTITY_PREFERENCE', 'entityType': 'MOVIE_OR_SERIES'}]}, {'startIndex': 57, 'endIndex': 83, 'text': \"I didn't get scared at all\", 'annotations': [{'annotationType': 'ENTITY_PREFERENCE', 'entityType': 'MOVIE_OR_SERIES'}]}]}, {'index': 15, 'speaker': 'ASSISTANT', 'text': 'Do you like the movie Aliens?', 'segments': [{'startIndex': 22, 'endIndex': 28, 'text': 'Aliens', 'annotations': [{'annotationType': 'ENTITY_NAME', 'entityType': 'MOVIE_OR_SERIES'}]}]}, {'index': 16, 'speaker': 'USER', 'text': 'I have not watched that movie.', 'segments': [{'startIndex': 0, 'endIndex': 29, 'text': 'I have not watched that movie', 'annotations': [{'annotationType': 'ENTITY_OTHER', 'entityType': 'MOVIE_OR_SERIES'}]}]}, {'index': 17, 'speaker': 'ASSISTANT', 'text': 'What about Hunger Games?', 'segments': [{'startIndex': 11, 'endIndex': 23, 'text': 'Hunger Games', 'annotations': [{'annotationType': 'ENTITY_NAME', 'entityType': 'MOVIE_OR_SERIES'}]}]}, {'index': 18, 'speaker': 'USER', 'text': 'I have not watched that movie, either.', 'segments': [{'startIndex': 0, 'endIndex': 29, 'text': 'I have not watched that movie', 'annotations': [{'annotationType': 'ENTITY_OTHER', 'entityType': 'MOVIE_OR_SERIES'}]}]}, {'index': 19, 'speaker': 'ASSISTANT', 'text': 'How about the Matrix?', 'segments': [{'startIndex': 10, 'endIndex': 20, 'text': 'the Matrix', 'annotations': [{'annotationType': 'ENTITY_NAME', 'entityType': 'MOVIE_OR_SERIES'}]}]}, {'index': 20, 'speaker': 'USER', 'text': 'I did watch it.', 'segments': [{'startIndex': 0, 'endIndex': 14, 'text': 'I did watch it', 'annotations': [{'annotationType': 'ENTITY_OTHER', 'entityType': 'MOVIE_OR_SERIES'}]}]}, {'index': 21, 'speaker': 'ASSISTANT', 'text': 'How did you feel about it?'}, {'index': 22, 'speaker': 'USER', 'text': 'kind of cool, but not my cup of tea.', 'segments': [{'startIndex': 0, 'endIndex': 12, 'text': 'kind of cool', 'annotations': [{'annotationType': 'ENTITY_PREFERENCE', 'entityType': 'MOVIE_OR_SERIES'}]}, {'startIndex': 18, 'endIndex': 35, 'text': 'not my cup of tea', 'annotations': [{'annotationType': 'ENTITY_PREFERENCE', 'entityType': 'MOVIE_OR_SERIES'}]}]}, {'index': 23, 'speaker': 'ASSISTANT', 'text': 'What 2 things were kinda cool about it?'}, {'index': 24, 'speaker': 'ASSISTANT', 'text': 'Do you like the movie Dunkirk?', 'segments': [{'startIndex': 22, 'endIndex': 29, 'text': 'Dunkirk', 'annotations': [{'annotationType': 'ENTITY_NAME', 'entityType': 'MOVIE_OR_SERIES'}]}]}, {'index': 25, 'speaker': 'USER', 'text': 'I have not watched that movie.', 'segments': [{'startIndex': 0, 'endIndex': 29, 'text': 'I have not watched that movie', 'annotations': [{'annotationType': 'ENTITY_OTHER', 'entityType': 'MOVIE_OR_SERIES'}]}]}, {'index': 26, 'speaker': 'ASSISTANT', 'text': 'How about Wonder Woman?', 'segments': [{'startIndex': 10, 'endIndex': 22, 'text': 'Wonder Woman', 'annotations': [{'annotationType': 'ENTITY_NAME', 'entityType': 'MOVIE_OR_SERIES'}]}]}, {'index': 27, 'speaker': 'USER', 'text': 'Oh yeah. I watched that movie.', 'segments': [{'startIndex': 9, 'endIndex': 29, 'text': 'I watched that movie', 'annotations': [{'annotationType': 'ENTITY_OTHER', 'entityType': 'MOVIE_OR_SERIES'}]}]}, {'index': 28, 'speaker': 'ASSISTANT', 'text': 'How did you feel about it?'}, {'index': 29, 'speaker': 'USER', 'text': 'I loved it because it was a woman, the powerful one in the movie, finally. And it's always just the guy doing everything, you know what I'm saying?', 'segments': [{'startIndex': 0, 'endIndex': 10, 'text': 'I loved it', 'annotations': [{'annotationType': 'ENTITY_PREFERENCE', 'entityType': 'MOVIE_OR_SERIES'}]}, {'startIndex': 19, 'endIndex': 64, 'text': 'it was a woman, the powerful one in the movie', 'annotations': [{'annotationType': 'ENTITY_PREFERENCE', 'entityType': 'MOVIE_OR_SERIES'}]}]}, {'index': 30, 'speaker': 'ASSISTANT', 'text': 'One last question.... what 2 other things do you like about the movie in particular?'}, {'index': 31, 'speaker': 'USER', 'text': 'She was very beautiful, her hair was amazing.', 'segments': [{'startIndex': 0, 'endIndex': 22, 'text': 'She was very beautiful', 'annotations': [{'annotationType': 'ENTITY_PREFERENCE', 'entityType': 'MOVIE_OR_SERIES'}]}, {'startIndex': 24, 'endIndex': 44, 'text': 'her hair was amazing', 'annotations': [{'annotationType': 'ENTITY_PREFERENCE', 'entityType': 'MOVIE_OR_SERIES'}]}]}, {'index': 32, 'speaker': 'ASSISTANT', 'text': 'anything about the plot that you like?'}, {'index': 33, 'speaker': 'USER', 'text': 'The way she will fight it was interesting.', 'segments': [{'startIndex': 0, 'endIndex': 41, 'text': 'The way she will fight it was interesting', 'annotations': [{'annotationType': 'ENTITY_PREFERENCE', 'entityType': 'MOVIE_OR_SERIES'}]}]}]                                                                                                                                                                                                                                                                                                                                                                                                                                                                                                                                                                                                                                                                                                                                                                                                                                                                                                                                                                                                                                                                                                                                                                                                                                                                                                                                                                                                                                                                                                                                                                                                                                                                                                                                                                                                                                                                                                                                                                                                                                                                                                                                                                                                                                                                                                                                                                                                                                                                                                                                                                                                                                                                                                                                                                                                                                                                                                                                                                                                                                                                                                                                                                                                                                                                                                                                                                                                                                                                                                                                                                                                                                                                                                                                                                                                                                                                                                                                                                                                                                                                                                                                                                                                                  \n",
              "4  CCPE-fc882     [{'index': 0, 'speaker': 'ASSISTANT', 'text': 'What kind of movies are you drawn to?'}, {'index': 1, 'speaker': 'USER', 'text': 'I am drawn to romances.', 'segments': [{'startIndex': 14, 'endIndex': 22, 'text': 'romances', 'annotations': [{'annotationType': 'ENTITY_NAME', 'entityType': 'MOVIE_GENRE_OR_CATEGORY'}]}, {'startIndex': 0, 'endIndex': 22, 'text': 'I am drawn to romances', 'annotations': [{'annotationType': 'ENTITY_PREFERENCE', 'entityType': 'MOVIE_GENRE_OR_CATEGORY'}]}]}, {'index': 2, 'speaker': 'ASSISTANT', 'text': 'Have you seen Fifty Shade of Grey?', 'segments': [{'startIndex': 14, 'endIndex': 33, 'text': 'Fifty Shade of Grey', 'annotations': [{'annotationType': 'ENTITY_NAME', 'entityType': 'MOVIE_OR_SERIES'}]}]}, {'index': 3, 'speaker': 'USER', 'text': 'I have not.'}, {'index': 4, 'speaker': 'USER', 'text': 'I know of it very well, but I have not seen it.', 'segments': [{'startIndex': 0, 'endIndex': 46, 'text': 'I know of it very well, but I have not seen it', 'annotations': [{'annotationType': 'ENTITY_OTHER', 'entityType': 'MOVIE_OR_SERIES'}]}]}, {'index': 5, 'speaker': 'ASSISTANT', 'text': 'What was a movie that you last watched that surprised you?'}, {'index': 6, 'speaker': 'USER', 'text': 'Maybe White House Down was surprising for me.', 'segments': [{'startIndex': 6, 'endIndex': 22, 'text': 'White House Down', 'annotations': [{'annotationType': 'ENTITY_NAME', 'entityType': 'MOVIE_OR_SERIES'}]}, {'startIndex': 6, 'endIndex': 44, 'text': 'White House Down was surprising for me', 'annotations': [{'annotationType': 'ENTITY_OTHER', 'entityType': 'MOVIE_OR_SERIES'}]}]}, {'index': 7, 'speaker': 'ASSISTANT', 'text': 'What made you like the movie?'}, {'index': 8, 'speaker': 'USER', 'text': 'I didn't go into it with high expectations at all. I thought it was just going to be I don't know, a lot of blowing up, pretty dumb, but was it It was I think when I watched it, it was summer day or summer night where almost nothing seemed to be on cable, and I was just looking for something to watch, and I thought, oh, okay, it stars Channing Tatum. I'll watch that. Or I'll turn to that. I probably won't be there for too long. It ended up being a ton of fun.', 'segments': [{'startIndex': 337, 'endIndex': 351, 'text': 'Channing Tatum', 'annotations': [{'annotationType': 'ENTITY_NAME', 'entityType': 'PERSON'}]}, {'startIndex': 0, 'endIndex': 49, 'text': \"I didn't go into it with high expectations at all\", 'annotations': [{'annotationType': 'ENTITY_OTHER', 'entityType': 'MOVIE_OR_SERIES'}]}, {'startIndex': 51, 'endIndex': 131, 'text': \"I thought it was just going to be I don't know, a lot of blowing up, pretty dumb\", 'annotations': [{'annotationType': 'ENTITY_OTHER', 'entityType': 'MOVIE_OR_SERIES'}]}, {'startIndex': 432, 'endIndex': 462, 'text': 'It ended up being a ton of fun', 'annotations': [{'annotationType': 'ENTITY_PREFERENCE', 'entityType': 'MOVIE_OR_SERIES'}]}]}, {'index': 9, 'speaker': 'USER', 'text': 'It was like a new version of Die Hard. They had a lot of fun with the movie. And despite it being like unrealistic and they're blowing things up, it was great. It was just a really fun hour and a half.', 'segments': [{'startIndex': 29, 'endIndex': 37, 'text': 'Die Hard', 'annotations': [{'annotationType': 'ENTITY_NAME', 'entityType': 'MOVIE_OR_SERIES'}]}, {'startIndex': 39, 'endIndex': 75, 'text': 'They had a lot of fun with the movie', 'annotations': [{'annotationType': 'ENTITY_PREFERENCE', 'entityType': 'MOVIE_OR_SERIES'}]}, {'startIndex': 81, 'endIndex': 158, 'text': \"despite it being like unrealistic and they're blowing things up, it was great\", 'annotations': [{'annotationType': 'ENTITY_PREFERENCE', 'entityType': 'MOVIE_OR_SERIES'}]}, {'startIndex': 160, 'endIndex': 200, 'text': 'It was just a really fun hour and a half', 'annotations': [{'annotationType': 'ENTITY_PREFERENCE', 'entityType': 'MOVIE_OR_SERIES'}]}]}, {'index': 10, 'speaker': 'ASSISTANT', 'text': 'Have you seen Dawn of the Planet of the Apes?', 'segments': [{'startIndex': 14, 'endIndex': 44, 'text': 'Dawn of the Planet of the Apes', 'annotations': [{'annotationType': 'ENTITY_NAME', 'entityType': 'MOVIE_OR_SERIES'}]}]}, {'index': 11, 'speaker': 'USER', 'text': 'No.'}, {'index': 12, 'speaker': 'ASSISTANT', 'text': 'Have you seen Avatar?', 'segments': [{'startIndex': 14, 'endIndex': 20, 'text': 'Avatar', 'annotations': [{'annotationType': 'ENTITY_NAME', 'entityType': 'MOVIE_OR_SERIES'}]}]}, {'index': 13, 'speaker': 'USER', 'text': 'Yeah.'}, {'index': 14, 'speaker': 'ASSISTANT', 'text': 'What didnt you like about that movie?'}, {'index': 15, 'speaker': 'USER', 'text': 'You know, epics like that are a hard sell for me. It's very long. I wasn't nearly as charmed by the blue people that they were that most other people were. I don't know. It seemed to be lacking in finesse and It just seemed very over the top. It really did seem like an event movie, and maybe if I had seen it in the theater, I would have sort of fallen in love with it like other people did, but', 'segments': [{'startIndex': 10, 'endIndex': 48, 'text': 'epics like that are a hard sell for me', 'annotations': [{'annotationType': 'ENTITY_PREFERENCE', 'entityType': 'MOVIE_OR_SERIES'}]}, {'startIndex': 50, 'endIndex': 64, 'text': \"It's very long\", 'annotations': [{'annotationType': 'ENTITY_PREFERENCE', 'entityType': 'MOVIE_OR_SERIES'}]}, {'startIndex': 66, 'endIndex': 154, 'text': \"I wasn't nearly as charmed by the blue people that they were that most other people were\", 'annotations': [{'annotationType': 'ENTITY_PREFERENCE', 'entityType': 'MOVIE_OR_SERIES'}]}, {'startIndex': 170, 'endIndex': 204, 'text': 'It seemed to be lacking in finesse', 'annotations': [{'annotationType': 'ENTITY_PREFERENCE', 'entityType': 'MOVIE_OR_SERIES'}]}, {'startIndex': 209, 'endIndex': 241, 'text': 'It just seemed very over the top', 'annotations': [{'annotationType': 'ENTITY_PREFERENCE', 'entityType': 'MOVIE_OR_SERIES'}]}, {'startIndex': 257, 'endIndex': 281, 'text': 'seem like an event movie', 'annotations': [{'annotationType': 'ENTITY_PREFERENCE', 'entityType': 'MOVIE_OR_SERIES'}]}]}, {'index': 16, 'speaker': 'USER', 'text': 'It just It was underwhelming. The direction wasn't nearly as good as I thought it was going to be and I just thought it was going to be something more exciting and more appealing that it ended up being for me.', 'segments': [{'startIndex': 8, 'endIndex': 28, 'text': 'It was underwhelming', 'annotations': [{'annotationType': 'ENTITY_PREFERENCE', 'entityType': 'MOVIE_OR_SERIES'}]}, {'startIndex': 30, 'endIndex': 97, 'text': \"The direction wasn't nearly as good as I thought it was going to be\", 'annotations': [{'annotationType': 'ENTITY_PREFERENCE', 'entityType': 'MOVIE_OR_SERIES'}]}, {'startIndex': 102, 'endIndex': 208, 'text': 'I just thought it was going to be something more exciting and more appealing that it ended up being for me', 'annotations': [{'annotationType': 'ENTITY_PREFERENCE', 'entityType': 'MOVIE_OR_SERIES'}]}]}, {'index': 17, 'speaker': 'ASSISTANT', 'text': 'Have you seen John Wick?', 'segments': [{'startIndex': 14, 'endIndex': 23, 'text': 'John Wick', 'annotations': [{'annotationType': 'ENTITY_NAME', 'entityType': 'MOVIE_OR_SERIES'}]}]}, {'index': 18, 'speaker': 'USER', 'text': 'No, but I know I know what that movie is, yeah.', 'segments': [{'startIndex': 15, 'endIndex': 37, 'text': 'I know what that movie', 'annotations': [{'annotationType': 'ENTITY_OTHER', 'entityType': 'MOVIE_OR_SERIES'}]}]}, {'index': 19, 'speaker': 'ASSISTANT', 'text': 'Have you seen Halloween?', 'segments': [{'startIndex': 14, 'endIndex': 23, 'text': 'Halloween', 'annotations': [{'annotationType': 'ENTITY_NAME', 'entityType': 'MOVIE_OR_SERIES'}]}]}, {'index': 20, 'speaker': 'USER', 'text': 'I mean, sure.'}, {'index': 21, 'speaker': 'ASSISTANT', 'text': 'What do you like about the Halloween movies?', 'segments': [{'startIndex': 23, 'endIndex': 36, 'text': 'the Halloween', 'annotations': [{'annotationType': 'ENTITY_NAME', 'entityType': 'MOVIE_OR_SERIES'}]}]}, {'index': 22, 'speaker': 'USER', 'text': 'I don't like the Halloween movies. I don't like scary movies. So, when I watched that that was just like at a party with friends. And that's what they wanted to watch. I just don't enjoy scaring myself like that. So, the first Halloween the one that originally has Jamie Curtis from back in the day, that is a much better movie than the other Halloweens were. But, I still They are still not my favorite. Too scary.', 'segments': [{'startIndex': 48, 'endIndex': 53, 'text': 'scary', 'annotations': [{'annotationType': 'ENTITY_NAME', 'entityType': 'MOVIE_GENRE_OR_CATEGORY'}]}, {'startIndex': 13, 'endIndex': 33, 'text': 'the Halloween movies', 'annotations': [{'annotationType': 'ENTITY_NAME', 'entityType': 'MOVIE_OR_SERIES'}]}, {'startIndex': 217, 'endIndex': 236, 'text': 'the first Halloween', 'annotations': [{'annotationType': 'ENTITY_NAME', 'entityType': 'MOVIE_OR_SERIES'}]}, {'startIndex': 333, 'endIndex': 353, 'text': 'the other Halloweens', 'annotations': [{'annotationType': 'ENTITY_NAME', 'entityType': 'MOVIE_OR_SERIES'}]}, {'startIndex': 265, 'endIndex': 277, 'text': 'Jamie Curtis', 'annotations': [{'annotationType': 'ENTITY_NAME', 'entityType': 'PERSON'}]}, {'startIndex': 35, 'endIndex': 60, 'text': \"I don't like scary movies\", 'annotations': [{'annotationType': 'ENTITY_PREFERENCE', 'entityType': 'MOVIE_GENRE_OR_CATEGORY'}]}, {'startIndex': 168, 'endIndex': 211, 'text': \"I just don't enjoy scaring myself like that\", 'annotations': [{'annotationType': 'ENTITY_PREFERENCE', 'entityType': 'MOVIE_GENRE_OR_CATEGORY'}]}, {'startIndex': 0, 'endIndex': 33, 'text': \"I don't like the Halloween movies\", 'annotations': [{'annotationType': 'ENTITY_PREFERENCE', 'entityType': 'MOVIE_OR_SERIES'}]}, {'startIndex': 217, 'endIndex': 358, 'text': 'the first Halloween the one that originally has Jamie Curtis from back in the day, that is a much better movie than the other Halloweens were', 'annotations': [{'annotationType': 'ENTITY_PREFERENCE', 'entityType': 'MOVIE_OR_SERIES'}]}, {'startIndex': 373, 'endIndex': 403, 'text': 'They are still not my favorite', 'annotations': [{'annotationType': 'ENTITY_PREFERENCE', 'entityType': 'MOVIE_OR_SERIES'}]}, {'startIndex': 405, 'endIndex': 414, 'text': 'Too scary', 'annotations': [{'annotationType': 'ENTITY_PREFERENCE', 'entityType': 'MOVIE_OR_SERIES'}]}]}, {'index': 23, 'speaker': 'USER', 'text': 'and outside of the first one. And apparently I ha I haven't seen up the most recent one that is sort of a direct sequel to the first one. Those That is a lot of gore, a lot of blood, a lot of trying to scare and not a lot of story line in movie.', 'segments': [{'startIndex': 50, 'endIndex': 136, 'text': \"I haven't seen up the most recent one that is sort of a direct sequel to the first one\", 'annotations': [{'annotationType': 'ENTITY_OTHER', 'entityType': 'MOVIE_OR_SERIES'}]}, {'startIndex': 144, 'endIndex': 165, 'text': 'That is a lot of gore', 'annotations': [{'annotationType': 'ENTITY_PREFERENCE', 'entityType': 'MOVIE_OR_SERIES'}]}, {'startIndex': 167, 'endIndex': 181, 'text': 'a lot of blood', 'annotations': [{'annotationType': 'ENTITY_PREFERENCE', 'entityType': 'MOVIE_OR_SERIES'}]}, {'startIndex': 183, 'endIndex': 207, 'text': 'a lot of trying to scare', 'annotations': [{'annotationType': 'ENTITY_PREFERENCE', 'entityType': 'MOVIE_OR_SERIES'}]}, {'startIndex': 212, 'endIndex': 235, 'text': 'not a lot of story line', 'annotations': [{'annotationType': 'ENTITY_PREFERENCE', 'entityType': 'MOVIE_OR_SERIES'}]}]}, {'index': 24, 'speaker': 'ASSISTANT', 'text': 'Thank you for your input, have a great day!'}, {'index': 25, 'speaker': 'USER', 'text': 'Thank you, too.'}]                                                                                                                                                                                                                                                                                                                                                                                                                                                                                                                                                                                                                                                                                                                                                                                                                                                                                                                                                                                                                                                                                                                                                                            "
            ]
          },
          "metadata": {
            "tags": []
          },
          "execution_count": 3
        }
      ]
    },
    {
      "cell_type": "markdown",
      "metadata": {
        "id": "lmJ_zpMHYg-h"
      },
      "source": [
        "## Preprocessing data for model input\r\n",
        "\r\n",
        "#### dataset included different conversation exchanges( can be more than 2 dialogues in a single exchange). So we will be processing dataset such that each consecutive pair of dialogues will be source and target dialogues"
      ]
    },
    {
      "cell_type": "code",
      "metadata": {
        "colab": {
          "base_uri": "https://localhost:8080/",
          "height": 221
        },
        "id": "tOXYxa5UENti",
        "outputId": "a1095f92-9065-429c-c585-b5f8cd1a4804"
      },
      "source": [
        "df['list_txt'] = df.utterances.apply(lambda x : [ sub['text'] for sub in x]) \r\n",
        "df['pairs'] = df['list_txt'].apply(lambda x : list(zip(x, x[1:])))\r\n",
        "df2 = pd.DataFrame(\r\n",
        "      np.concatenate(df['pairs'].values), \r\n",
        "      columns = ['dialogue1','dialogue2'])\r\n",
        "print(df2.shape)\r\n",
        "df2.head()"
      ],
      "execution_count": 4,
      "outputs": [
        {
          "output_type": "stream",
          "text": [
            "(11469, 2)\n"
          ],
          "name": "stdout"
        },
        {
          "output_type": "execute_result",
          "data": {
            "text/html": [
              "<div>\n",
              "<style scoped>\n",
              "    .dataframe tbody tr th:only-of-type {\n",
              "        vertical-align: middle;\n",
              "    }\n",
              "\n",
              "    .dataframe tbody tr th {\n",
              "        vertical-align: top;\n",
              "    }\n",
              "\n",
              "    .dataframe thead th {\n",
              "        text-align: right;\n",
              "    }\n",
              "</style>\n",
              "<table border=\"1\" class=\"dataframe\">\n",
              "  <thead>\n",
              "    <tr style=\"text-align: right;\">\n",
              "      <th></th>\n",
              "      <th>dialogue1</th>\n",
              "      <th>dialogue2</th>\n",
              "    </tr>\n",
              "  </thead>\n",
              "  <tbody>\n",
              "    <tr>\n",
              "      <th>0</th>\n",
              "      <td>generally speaking what type of movies do you watch</td>\n",
              "      <td>I like thrillers a lot.</td>\n",
              "    </tr>\n",
              "    <tr>\n",
              "      <th>1</th>\n",
              "      <td>I like thrillers a lot.</td>\n",
              "      <td>thrillers? for example?</td>\n",
              "    </tr>\n",
              "    <tr>\n",
              "      <th>2</th>\n",
              "      <td>thrillers? for example?</td>\n",
              "      <td>Zodiac's one of my favorite movies.</td>\n",
              "    </tr>\n",
              "    <tr>\n",
              "      <th>3</th>\n",
              "      <td>Zodiac's one of my favorite movies.</td>\n",
              "      <td>Zodiac the movie about a serial killer from the '60s or '70s, around there.</td>\n",
              "    </tr>\n",
              "    <tr>\n",
              "      <th>4</th>\n",
              "      <td>Zodiac the movie about a serial killer from the '60s or '70s, around there.</td>\n",
              "      <td>Zodiac? oh wow ok, what do you like about that movie</td>\n",
              "    </tr>\n",
              "  </tbody>\n",
              "</table>\n",
              "</div>"
            ],
            "text/plain": [
              "                                                                     dialogue1                                                                    dialogue2\n",
              "0  generally speaking what type of movies do you watch                          I like thrillers a lot.                                                    \n",
              "1  I like thrillers a lot.                                                      thrillers? for example?                                                    \n",
              "2  thrillers? for example?                                                      Zodiac's one of my favorite movies.                                        \n",
              "3  Zodiac's one of my favorite movies.                                          Zodiac the movie about a serial killer from the '60s or '70s, around there.\n",
              "4  Zodiac the movie about a serial killer from the '60s or '70s, around there.  Zodiac? oh wow ok, what do you like about that movie                       "
            ]
          },
          "metadata": {
            "tags": []
          },
          "execution_count": 4
        }
      ]
    },
    {
      "cell_type": "markdown",
      "metadata": {
        "id": "wACjr712ZQyZ"
      },
      "source": [
        "### We have divided conversation history into pairs of dialogues(dialogue1 and dialogue2). Now we will input these pairs seq2seq model"
      ]
    },
    {
      "cell_type": "code",
      "metadata": {
        "id": "8ZLNqisHZi6r"
      },
      "source": [
        "SRC = Field(tokenize='spacy', \r\n",
        "            init_token='<sos>', \r\n",
        "            eos_token='<eos>', \r\n",
        "            lower=True)\r\n",
        "\r\n",
        "TRG = Field(tokenize = 'spacy', \r\n",
        "            init_token='<sos>', \r\n",
        "            eos_token='<eos>', \r\n",
        "            lower=True)"
      ],
      "execution_count": 5,
      "outputs": []
    },
    {
      "cell_type": "code",
      "metadata": {
        "id": "9CcE21k5cDnq"
      },
      "source": [
        "fields = [('dialogue1', SRC),('dialogue2',TRG)]"
      ],
      "execution_count": 6,
      "outputs": []
    },
    {
      "cell_type": "code",
      "metadata": {
        "id": "W5318qdvcPqy"
      },
      "source": [
        "example = [data.Example.fromlist([df2.dialogue1[i],df2.dialogue2[i]], fields) for i in range(df2.shape[0])] "
      ],
      "execution_count": 7,
      "outputs": []
    },
    {
      "cell_type": "code",
      "metadata": {
        "id": "w1bSJWqgjzZo"
      },
      "source": [
        "uttranceDataset = data.Dataset(example, fields)"
      ],
      "execution_count": 8,
      "outputs": []
    },
    {
      "cell_type": "code",
      "metadata": {
        "id": "IzJ8ddr1mVdo"
      },
      "source": [
        "(train_data, valid_data, test_data) = uttranceDataset.split(split_ratio=[0.70, 0.10, 0.20], random_state=random.seed(SEED))"
      ],
      "execution_count": 9,
      "outputs": []
    },
    {
      "cell_type": "code",
      "metadata": {
        "colab": {
          "base_uri": "https://localhost:8080/"
        },
        "id": "QDmD0FsdnPIF",
        "outputId": "5bea49e8-dc4b-409b-fef6-a41903c6e8b0"
      },
      "source": [
        "(len(train_data), len(valid_data), len(test_data))"
      ],
      "execution_count": 10,
      "outputs": [
        {
          "output_type": "execute_result",
          "data": {
            "text/plain": [
              "(8028, 2294, 1147)"
            ]
          },
          "metadata": {
            "tags": []
          },
          "execution_count": 10
        }
      ]
    },
    {
      "cell_type": "code",
      "metadata": {
        "colab": {
          "base_uri": "https://localhost:8080/"
        },
        "id": "kXAnEMrInSRN",
        "outputId": "2e0331d2-843b-49f0-cddf-b1669f005d03"
      },
      "source": [
        "print(vars(train_data.examples[1]))\r\n",
        "print(vars(train_data.examples[0]))"
      ],
      "execution_count": 11,
      "outputs": [
        {
          "output_type": "stream",
          "text": [
            "{'dialogue1': ['what', 'do', 'you', 'like', 'about', 'this', 'movie', '?', '2', 'reasons', 'please'], 'dialogue2': ['i', 'thought', 'the', 'special', 'effects', 'were', 'fantastic', ',', 'and', 'i', 'thought', 'the', 'acting', 'overall', 'was', 'very', 'believable', '.']}\n",
            "{'dialogue1': ['just', 'not', 'a', 'fan', 'of', 'it', '.'], 'dialogue2': ['it', 'did', \"n't\", 'really', 'made', 'me', 'feel', 'like', 'wow', ',', 'this', 'is', 'a', 'good', 'movie', '.', 'it', 'just', 'did', \"n't\", 'make', 'me', 'feel', 'excited', 'about', 'it', '.']}\n"
          ],
          "name": "stdout"
        }
      ]
    },
    {
      "cell_type": "code",
      "metadata": {
        "id": "2K6pnaRTnm-V"
      },
      "source": [
        "SRC.build_vocab(train_data, min_freq = 2)\r\n",
        "TRG.build_vocab(train_data, min_freq = 2)"
      ],
      "execution_count": 12,
      "outputs": []
    },
    {
      "cell_type": "code",
      "metadata": {
        "colab": {
          "base_uri": "https://localhost:8080/"
        },
        "id": "iyTO9W0XqLmh",
        "outputId": "ad9cae98-528e-43c8-ca32-cc0386696c3d"
      },
      "source": [
        "print('Size of input vocab : ', len(SRC.vocab))\r\n",
        "print('Size of label vocab : ', len(TRG.vocab))\r\n",
        "print('Top 10 words appreared repeatedly :', list(SRC.vocab.freqs.most_common(10)))"
      ],
      "execution_count": 13,
      "outputs": [
        {
          "output_type": "stream",
          "text": [
            "Size of input vocab :  2326\n",
            "Size of label vocab :  2350\n",
            "Top 10 words appreared repeatedly : [('.', 6863), ('i', 5047), (',', 4535), ('like', 4256), ('the', 4185), ('you', 4141), ('it', 4010), ('?', 3268), ('of', 2930), ('a', 2627)]\n"
          ],
          "name": "stdout"
        }
      ]
    },
    {
      "cell_type": "code",
      "metadata": {
        "colab": {
          "base_uri": "https://localhost:8080/"
        },
        "id": "sWTUdwKXny6D",
        "outputId": "1b42ea51-940d-4372-b357-ea72957c7c49"
      },
      "source": [
        "device = torch.device('cuda' if torch.cuda.is_available() else 'cpu')\r\n",
        "print(device)"
      ],
      "execution_count": 14,
      "outputs": [
        {
          "output_type": "stream",
          "text": [
            "cuda\n"
          ],
          "name": "stdout"
        }
      ]
    },
    {
      "cell_type": "code",
      "metadata": {
        "id": "Ad7f9o7bn4Zo"
      },
      "source": [
        "\r\n",
        "BATCH_SIZE = 128\r\n",
        "\r\n",
        "train_iterator, valid_iterator, test_iterator = BucketIterator.splits((train_data, valid_data, test_data), batch_size = BATCH_SIZE, \r\n",
        "                                                            sort_key = lambda x: len(x.dialogue1),\r\n",
        "                                                            sort_within_batch=True, device = device)\r\n",
        "\r\n"
      ],
      "execution_count": 15,
      "outputs": []
    },
    {
      "cell_type": "code",
      "metadata": {
        "id": "x0DbalMGpAEI"
      },
      "source": [
        "class Encoder(nn.Module):\r\n",
        "    def __init__(self, input_dim, emb_dim, enc_hid_dim, dec_hid_dim, dropout):\r\n",
        "        super().__init__()\r\n",
        "        \r\n",
        "        self.embedding = nn.Embedding(input_dim, emb_dim)\r\n",
        "        \r\n",
        "        self.rnn = nn.GRU(emb_dim, enc_hid_dim, bidirectional = True)\r\n",
        "        \r\n",
        "        self.fc = nn.Linear(enc_hid_dim * 2, dec_hid_dim)\r\n",
        "        \r\n",
        "        self.dropout = nn.Dropout(dropout)\r\n",
        "        \r\n",
        "    def forward(self, src):\r\n",
        "        \r\n",
        "        #src = [src len, batch size]\r\n",
        "        \r\n",
        "        embedded = self.dropout(self.embedding(src))\r\n",
        "        \r\n",
        "        #embedded = [src len, batch size, emb dim]\r\n",
        "        \r\n",
        "        outputs, hidden = self.rnn(embedded)\r\n",
        "                \r\n",
        "        #outputs = [src len, batch size, hid dim * num directions]\r\n",
        "        #hidden = [n layers * num directions, batch size, hid dim]\r\n",
        "        \r\n",
        "        #hidden is stacked [forward_1, backward_1, forward_2, backward_2, ...]\r\n",
        "        #outputs are always from the last layer\r\n",
        "        \r\n",
        "        #hidden [-2, :, : ] is the last of the forwards RNN \r\n",
        "        #hidden [-1, :, : ] is the last of the backwards RNN\r\n",
        "        \r\n",
        "        #initial decoder hidden is final hidden state of the forwards and backwards \r\n",
        "        #  encoder RNNs fed through a linear layer\r\n",
        "        hidden = torch.tanh(self.fc(torch.cat((hidden[-2,:,:], hidden[-1,:,:]), dim = 1)))\r\n",
        "        \r\n",
        "        #outputs = [src len, batch size, enc hid dim * 2]\r\n",
        "        #hidden = [batch size, dec hid dim]\r\n",
        "        \r\n",
        "        return outputs, hidden"
      ],
      "execution_count": 16,
      "outputs": []
    },
    {
      "cell_type": "code",
      "metadata": {
        "id": "YqzfTqwU2jMS"
      },
      "source": [
        "class Attention(nn.Module):\r\n",
        "    def __init__(self, enc_hid_dim, dec_hid_dim):\r\n",
        "        super().__init__()\r\n",
        "        \r\n",
        "        self.attn = nn.Linear((enc_hid_dim * 2) + dec_hid_dim, dec_hid_dim)\r\n",
        "        self.v = nn.Linear(dec_hid_dim, 1, bias = False)\r\n",
        "        \r\n",
        "    def forward(self, hidden, encoder_outputs):\r\n",
        "        \r\n",
        "        #hidden = [batch size, dec hid dim]\r\n",
        "        #encoder_outputs = [src len, batch size, enc hid dim * 2]\r\n",
        "        \r\n",
        "        batch_size = encoder_outputs.shape[1]\r\n",
        "        src_len = encoder_outputs.shape[0]\r\n",
        "        \r\n",
        "        #repeat decoder hidden state src_len times\r\n",
        "        hidden = hidden.unsqueeze(1).repeat(1, src_len, 1)\r\n",
        "        \r\n",
        "        encoder_outputs = encoder_outputs.permute(1, 0, 2)\r\n",
        "        \r\n",
        "        #hidden = [batch size, src len, dec hid dim]\r\n",
        "        #encoder_outputs = [batch size, src len, enc hid dim * 2]\r\n",
        "        \r\n",
        "        energy = torch.tanh(self.attn(torch.cat((hidden, encoder_outputs), dim = 2))) \r\n",
        "        \r\n",
        "        #energy = [batch size, src len, dec hid dim]\r\n",
        "\r\n",
        "        attention = self.v(energy).squeeze(2)\r\n",
        "        \r\n",
        "        #attention= [batch size, src len]\r\n",
        "        \r\n",
        "        return F.softmax(attention, dim=1)"
      ],
      "execution_count": 17,
      "outputs": []
    },
    {
      "cell_type": "code",
      "metadata": {
        "id": "_EXVfU0X2qgZ"
      },
      "source": [
        "class Decoder(nn.Module):\r\n",
        "    def __init__(self, output_dim, emb_dim, enc_hid_dim, dec_hid_dim, dropout, attention):\r\n",
        "        super().__init__()\r\n",
        "\r\n",
        "        self.output_dim = output_dim\r\n",
        "        self.attention = attention\r\n",
        "        \r\n",
        "        self.embedding = nn.Embedding(output_dim, emb_dim)\r\n",
        "        \r\n",
        "        self.rnn = nn.GRU((enc_hid_dim * 2) + emb_dim, dec_hid_dim)\r\n",
        "        \r\n",
        "        self.fc_out = nn.Linear((enc_hid_dim * 2) + dec_hid_dim + emb_dim, output_dim)\r\n",
        "        \r\n",
        "        self.dropout = nn.Dropout(dropout)\r\n",
        "        \r\n",
        "    def forward(self, input, hidden, encoder_outputs):\r\n",
        "             \r\n",
        "        #input = [batch size]\r\n",
        "        #hidden = [batch size, dec hid dim]\r\n",
        "        #encoder_outputs = [src len, batch size, enc hid dim * 2]\r\n",
        "        \r\n",
        "        input = input.unsqueeze(0)\r\n",
        "        \r\n",
        "        #input = [1, batch size]\r\n",
        "        \r\n",
        "        embedded = self.dropout(self.embedding(input))\r\n",
        "        \r\n",
        "        #embedded = [1, batch size, emb dim]\r\n",
        "        \r\n",
        "        a = self.attention(hidden, encoder_outputs)\r\n",
        "                \r\n",
        "        #a = [batch size, src len]\r\n",
        "        \r\n",
        "        a = a.unsqueeze(1)\r\n",
        "        \r\n",
        "        #a = [batch size, 1, src len]\r\n",
        "        \r\n",
        "        encoder_outputs = encoder_outputs.permute(1, 0, 2)\r\n",
        "        \r\n",
        "        #encoder_outputs = [batch size, src len, enc hid dim * 2]\r\n",
        "        \r\n",
        "        weighted = torch.bmm(a, encoder_outputs)\r\n",
        "        \r\n",
        "        #weighted = [batch size, 1, enc hid dim * 2]\r\n",
        "        \r\n",
        "        weighted = weighted.permute(1, 0, 2)\r\n",
        "        \r\n",
        "        #weighted = [1, batch size, enc hid dim * 2]\r\n",
        "        \r\n",
        "        rnn_input = torch.cat((embedded, weighted), dim = 2)\r\n",
        "        \r\n",
        "        #rnn_input = [1, batch size, (enc hid dim * 2) + emb dim]\r\n",
        "            \r\n",
        "        output, hidden = self.rnn(rnn_input, hidden.unsqueeze(0))\r\n",
        "        \r\n",
        "        #output = [seq len, batch size, dec hid dim * n directions]\r\n",
        "        #hidden = [n layers * n directions, batch size, dec hid dim]\r\n",
        "        \r\n",
        "        #seq len, n layers and n directions will always be 1 in this decoder, therefore:\r\n",
        "        #output = [1, batch size, dec hid dim]\r\n",
        "        #hidden = [1, batch size, dec hid dim]\r\n",
        "        #this also means that output == hidden\r\n",
        "        assert (output == hidden).all()\r\n",
        "        \r\n",
        "        embedded = embedded.squeeze(0)\r\n",
        "        output = output.squeeze(0)\r\n",
        "        weighted = weighted.squeeze(0)\r\n",
        "        \r\n",
        "        prediction = self.fc_out(torch.cat((output, weighted, embedded), dim = 1))\r\n",
        "        \r\n",
        "        #prediction = [batch size, output dim]\r\n",
        "        \r\n",
        "        return prediction, hidden.squeeze(0)"
      ],
      "execution_count": 18,
      "outputs": []
    },
    {
      "cell_type": "code",
      "metadata": {
        "id": "vw-yQ2Xg2zZN"
      },
      "source": [
        "class Seq2Seq(nn.Module):\r\n",
        "    def __init__(self, encoder, decoder, device):\r\n",
        "        super().__init__()\r\n",
        "        \r\n",
        "        self.encoder = encoder\r\n",
        "        self.decoder = decoder\r\n",
        "        self.device = device\r\n",
        "        \r\n",
        "    def forward(self, src, trg, teacher_forcing_ratio = 0.5):\r\n",
        "        \r\n",
        "        #src = [src len, batch size]\r\n",
        "        #trg = [trg len, batch size]\r\n",
        "        #teacher_forcing_ratio is probability to use teacher forcing\r\n",
        "        #e.g. if teacher_forcing_ratio is 0.75 we use teacher forcing 75% of the time\r\n",
        "        \r\n",
        "        batch_size = src.shape[1]\r\n",
        "        trg_len = trg.shape[0]\r\n",
        "        trg_vocab_size = self.decoder.output_dim\r\n",
        "        \r\n",
        "        #tensor to store decoder outputs\r\n",
        "        outputs = torch.zeros(trg_len, batch_size, trg_vocab_size).to(self.device)\r\n",
        "        \r\n",
        "        #encoder_outputs is all hidden states of the input sequence, back and forwards\r\n",
        "        #hidden is the final forward and backward hidden states, passed through a linear layer\r\n",
        "        encoder_outputs, hidden = self.encoder(src)\r\n",
        "                \r\n",
        "        #first input to the decoder is the <sos> tokens\r\n",
        "        input = trg[0,:]\r\n",
        "        \r\n",
        "        for t in range(1, trg_len):\r\n",
        "            \r\n",
        "            #insert input token embedding, previous hidden state and all encoder hidden states\r\n",
        "            #receive output tensor (predictions) and new hidden state\r\n",
        "            output, hidden = self.decoder(input, hidden, encoder_outputs)\r\n",
        "            \r\n",
        "            #place predictions in a tensor holding predictions for each token\r\n",
        "            outputs[t] = output\r\n",
        "            \r\n",
        "            #decide if we are going to use teacher forcing or not\r\n",
        "            teacher_force = random.random() < teacher_forcing_ratio\r\n",
        "            \r\n",
        "            #get the highest predicted token from our predictions\r\n",
        "            top1 = output.argmax(1) \r\n",
        "            \r\n",
        "            #if teacher forcing, use actual next token as next input\r\n",
        "            #if not, use predicted token\r\n",
        "            input = trg[t] if teacher_force else top1\r\n",
        "\r\n",
        "        return outputs"
      ],
      "execution_count": 19,
      "outputs": []
    },
    {
      "cell_type": "code",
      "metadata": {
        "id": "FHMGKzKk229T"
      },
      "source": [
        "INPUT_DIM = len(SRC.vocab)\r\n",
        "OUTPUT_DIM = len(TRG.vocab)\r\n",
        "ENC_EMB_DIM = 256\r\n",
        "DEC_EMB_DIM = 256\r\n",
        "ENC_HID_DIM = 512\r\n",
        "DEC_HID_DIM = 512\r\n",
        "ENC_DROPOUT = 0.5\r\n",
        "DEC_DROPOUT = 0.5\r\n",
        "\r\n",
        "attn = Attention(ENC_HID_DIM, DEC_HID_DIM)\r\n",
        "enc = Encoder(INPUT_DIM, ENC_EMB_DIM, ENC_HID_DIM, DEC_HID_DIM, ENC_DROPOUT)\r\n",
        "dec = Decoder(OUTPUT_DIM, DEC_EMB_DIM, ENC_HID_DIM, DEC_HID_DIM, DEC_DROPOUT, attn)\r\n",
        "\r\n",
        "model = Seq2Seq(enc, dec, device).to(device)"
      ],
      "execution_count": 20,
      "outputs": []
    },
    {
      "cell_type": "code",
      "metadata": {
        "id": "1pqD5XFd25-z",
        "colab": {
          "base_uri": "https://localhost:8080/"
        },
        "outputId": "b02a51c9-dcd8-4644-fb53-5c1ac7c2fa18"
      },
      "source": [
        "def init_weights(m):\r\n",
        "    for name, param in m.named_parameters():\r\n",
        "        if 'weight' in name:\r\n",
        "            nn.init.normal_(param.data, mean=0, std=0.01)\r\n",
        "        else:\r\n",
        "            nn.init.constant_(param.data, 0)\r\n",
        "            \r\n",
        "model.apply(init_weights)"
      ],
      "execution_count": 21,
      "outputs": [
        {
          "output_type": "execute_result",
          "data": {
            "text/plain": [
              "Seq2Seq(\n",
              "  (encoder): Encoder(\n",
              "    (embedding): Embedding(2326, 256)\n",
              "    (rnn): GRU(256, 512, bidirectional=True)\n",
              "    (fc): Linear(in_features=1024, out_features=512, bias=True)\n",
              "    (dropout): Dropout(p=0.5, inplace=False)\n",
              "  )\n",
              "  (decoder): Decoder(\n",
              "    (attention): Attention(\n",
              "      (attn): Linear(in_features=1536, out_features=512, bias=True)\n",
              "      (v): Linear(in_features=512, out_features=1, bias=False)\n",
              "    )\n",
              "    (embedding): Embedding(2350, 256)\n",
              "    (rnn): GRU(1280, 512)\n",
              "    (fc_out): Linear(in_features=1792, out_features=2350, bias=True)\n",
              "    (dropout): Dropout(p=0.5, inplace=False)\n",
              "  )\n",
              ")"
            ]
          },
          "metadata": {
            "tags": []
          },
          "execution_count": 21
        }
      ]
    },
    {
      "cell_type": "code",
      "metadata": {
        "id": "oR8MurSj28YH",
        "colab": {
          "base_uri": "https://localhost:8080/"
        },
        "outputId": "1d65e8db-238b-4347-f31f-0c59402bddc6"
      },
      "source": [
        "def count_parameters(model):\r\n",
        "    return sum(p.numel() for p in model.parameters() if p.requires_grad)\r\n",
        "\r\n",
        "print(f'The model has {count_parameters(model):,} trainable parameters')"
      ],
      "execution_count": 22,
      "outputs": [
        {
          "output_type": "stream",
          "text": [
            "The model has 11,843,886 trainable parameters\n"
          ],
          "name": "stdout"
        }
      ]
    },
    {
      "cell_type": "code",
      "metadata": {
        "id": "OzMf5Dsk3EEc"
      },
      "source": [
        "optimizer = optim.Adam(model.parameters())"
      ],
      "execution_count": 23,
      "outputs": []
    },
    {
      "cell_type": "code",
      "metadata": {
        "id": "WSuGVc2u3KNk"
      },
      "source": [
        "TRG_PAD_IDX = TRG.vocab.stoi[TRG.pad_token]\r\n",
        "\r\n",
        "criterion = nn.CrossEntropyLoss(ignore_index = TRG_PAD_IDX)"
      ],
      "execution_count": 24,
      "outputs": []
    },
    {
      "cell_type": "code",
      "metadata": {
        "id": "zSK3yO9v3Mw4"
      },
      "source": [
        "def train(model, iterator, optimizer, criterion, clip):\r\n",
        "    \r\n",
        "    model.train()\r\n",
        "    \r\n",
        "    epoch_loss = 0\r\n",
        "    \r\n",
        "    for i, batch in enumerate(iterator):\r\n",
        "        \r\n",
        "        src = batch.dialogue1\r\n",
        "        trg = batch.dialogue2\r\n",
        "        \r\n",
        "        optimizer.zero_grad()\r\n",
        "        \r\n",
        "        output = model(src, trg)\r\n",
        "        \r\n",
        "        #trg = [trg len, batch size]\r\n",
        "        #output = [trg len, batch size, output dim]\r\n",
        "        \r\n",
        "        output_dim = output.shape[-1]\r\n",
        "        \r\n",
        "        output = output[1:].view(-1, output_dim)\r\n",
        "        trg = trg[1:].view(-1)\r\n",
        "        \r\n",
        "        #trg = [(trg len - 1) * batch size]\r\n",
        "        #output = [(trg len - 1) * batch size, output dim]\r\n",
        "        \r\n",
        "        loss = criterion(output, trg)\r\n",
        "        \r\n",
        "        loss.backward()\r\n",
        "        \r\n",
        "        torch.nn.utils.clip_grad_norm_(model.parameters(), clip)\r\n",
        "        \r\n",
        "        optimizer.step()\r\n",
        "        \r\n",
        "        epoch_loss += loss.item()\r\n",
        "        \r\n",
        "    return epoch_loss / len(iterator)"
      ],
      "execution_count": 25,
      "outputs": []
    },
    {
      "cell_type": "code",
      "metadata": {
        "id": "SOZ3fU2N3UNk"
      },
      "source": [
        "def evaluate(model, iterator, criterion):\r\n",
        "    \r\n",
        "    model.eval()\r\n",
        "    \r\n",
        "    epoch_loss = 0\r\n",
        "    \r\n",
        "    with torch.no_grad():\r\n",
        "    \r\n",
        "        for i, batch in enumerate(iterator):\r\n",
        "\r\n",
        "            src = batch.dialogue1\r\n",
        "            trg = batch.dialogue2\r\n",
        "\r\n",
        "            output = model(src, trg, 0) #turn off teacher forcing\r\n",
        "\r\n",
        "            #trg = [trg len, batch size]\r\n",
        "            #output = [trg len, batch size, output dim]\r\n",
        "\r\n",
        "            output_dim = output.shape[-1]\r\n",
        "            \r\n",
        "            output = output[1:].view(-1, output_dim)\r\n",
        "            trg = trg[1:].view(-1)\r\n",
        "\r\n",
        "            #trg = [(trg len - 1) * batch size]\r\n",
        "            #output = [(trg len - 1) * batch size, output dim]\r\n",
        "\r\n",
        "            loss = criterion(output, trg)\r\n",
        "\r\n",
        "            epoch_loss += loss.item()\r\n",
        "        \r\n",
        "    return epoch_loss / len(iterator)"
      ],
      "execution_count": 26,
      "outputs": []
    },
    {
      "cell_type": "code",
      "metadata": {
        "id": "rkCYO9Dy3dB9"
      },
      "source": [
        "def epoch_time(start_time, end_time):\r\n",
        "    elapsed_time = end_time - start_time\r\n",
        "    elapsed_mins = int(elapsed_time / 60)\r\n",
        "    elapsed_secs = int(elapsed_time - (elapsed_mins * 60))\r\n",
        "    return elapsed_mins, elapsed_secs"
      ],
      "execution_count": 27,
      "outputs": []
    },
    {
      "cell_type": "code",
      "metadata": {
        "id": "ESwSElb83d4E",
        "colab": {
          "base_uri": "https://localhost:8080/"
        },
        "outputId": "3610aa2e-e0d9-4f88-cafe-e7eb54a0d0dc"
      },
      "source": [
        "N_EPOCHS = 10\r\n",
        "CLIP = 1\r\n",
        "\r\n",
        "best_valid_loss = float('inf')\r\n",
        "\r\n",
        "for epoch in range(N_EPOCHS):\r\n",
        "    \r\n",
        "    start_time = time.time()\r\n",
        "    \r\n",
        "    train_loss = train(model, train_iterator, optimizer, criterion, CLIP)\r\n",
        "    valid_loss = evaluate(model, valid_iterator, criterion)\r\n",
        "    \r\n",
        "    end_time = time.time()\r\n",
        "    \r\n",
        "    epoch_mins, epoch_secs = epoch_time(start_time, end_time)\r\n",
        "    \r\n",
        "    if valid_loss < best_valid_loss:\r\n",
        "        best_valid_loss = valid_loss\r\n",
        "        torch.save(model.state_dict(), 'tut3-model.pt')\r\n",
        "    \r\n",
        "    print(f'Epoch: {epoch+1:02} | Time: {epoch_mins}m {epoch_secs}s')\r\n",
        "    print(f'\\tTrain Loss: {train_loss:.3f} | Train PPL: {math.exp(train_loss):7.3f}')\r\n",
        "    print(f'\\t Val. Loss: {valid_loss:.3f} |  Val. PPL: {math.exp(valid_loss):7.3f}')\r\n",
        "\r\n"
      ],
      "execution_count": 28,
      "outputs": [
        {
          "output_type": "stream",
          "text": [
            "Epoch: 01 | Time: 0m 45s\n",
            "\tTrain Loss: 5.469 | Train PPL: 237.146\n",
            "\t Val. Loss: 4.999 |  Val. PPL: 148.338\n",
            "Epoch: 02 | Time: 0m 47s\n",
            "\tTrain Loss: 4.807 | Train PPL: 122.355\n",
            "\t Val. Loss: 4.881 |  Val. PPL: 131.730\n",
            "Epoch: 03 | Time: 0m 48s\n",
            "\tTrain Loss: 4.525 | Train PPL:  92.299\n",
            "\t Val. Loss: 4.884 |  Val. PPL: 132.117\n",
            "Epoch: 04 | Time: 0m 48s\n",
            "\tTrain Loss: 4.375 | Train PPL:  79.475\n",
            "\t Val. Loss: 4.878 |  Val. PPL: 131.343\n",
            "Epoch: 05 | Time: 0m 48s\n",
            "\tTrain Loss: 4.262 | Train PPL:  70.967\n",
            "\t Val. Loss: 4.915 |  Val. PPL: 136.254\n",
            "Epoch: 06 | Time: 0m 49s\n",
            "\tTrain Loss: 4.181 | Train PPL:  65.459\n",
            "\t Val. Loss: 4.999 |  Val. PPL: 148.196\n",
            "Epoch: 07 | Time: 0m 48s\n",
            "\tTrain Loss: 4.150 | Train PPL:  63.406\n",
            "\t Val. Loss: 4.822 |  Val. PPL: 124.179\n",
            "Epoch: 08 | Time: 0m 48s\n",
            "\tTrain Loss: 4.099 | Train PPL:  60.283\n",
            "\t Val. Loss: 4.849 |  Val. PPL: 127.666\n",
            "Epoch: 09 | Time: 0m 48s\n",
            "\tTrain Loss: 3.978 | Train PPL:  53.403\n",
            "\t Val. Loss: 4.952 |  Val. PPL: 141.455\n",
            "Epoch: 10 | Time: 0m 49s\n",
            "\tTrain Loss: 3.947 | Train PPL:  51.781\n",
            "\t Val. Loss: 4.921 |  Val. PPL: 137.116\n"
          ],
          "name": "stdout"
        }
      ]
    },
    {
      "cell_type": "code",
      "metadata": {
        "id": "_U1byTx43mHm",
        "colab": {
          "base_uri": "https://localhost:8080/"
        },
        "outputId": "2c8a8edc-31f5-4158-83e3-a8c1bca630d8"
      },
      "source": [
        "model.load_state_dict(torch.load('tut3-model.pt'))\r\n",
        "\r\n",
        "test_loss = evaluate(model, test_iterator, criterion)\r\n",
        "\r\n",
        "print(f'| Test Loss: {test_loss:.3f} | Test PPL: {math.exp(test_loss):7.3f} |')"
      ],
      "execution_count": 29,
      "outputs": [
        {
          "output_type": "stream",
          "text": [
            "| Test Loss: 4.808 | Test PPL: 122.538 |\n"
          ],
          "name": "stdout"
        }
      ]
    },
    {
      "cell_type": "code",
      "metadata": {
        "id": "lfroOFb3BoNi"
      },
      "source": [
        ""
      ],
      "execution_count": 29,
      "outputs": []
    }
  ]
}