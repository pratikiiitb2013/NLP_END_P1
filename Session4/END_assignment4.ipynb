{
  "nbformat": 4,
  "nbformat_minor": 0,
  "metadata": {
    "accelerator": "GPU",
    "colab": {
      "name": "END_assignment4.ipynb",
      "provenance": [],
      "collapsed_sections": [],
      "authorship_tag": "ABX9TyM5od7CmbEoMxbEIkSllfgj",
      "include_colab_link": true
    },
    "kernelspec": {
      "display_name": "Python 3",
      "name": "python3"
    }
  },
  "cells": [
    {
      "cell_type": "markdown",
      "metadata": {
        "id": "view-in-github",
        "colab_type": "text"
      },
      "source": [
        "<a href=\"https://colab.research.google.com/github/pratikiiitb2013/NLP_END_P1/blob/main/Session4/END_assignment4.ipynb\" target=\"_parent\"><img src=\"https://colab.research.google.com/assets/colab-badge.svg\" alt=\"Open In Colab\"/></a>"
      ]
    },
    {
      "cell_type": "code",
      "metadata": {
        "id": "hiB_dUJM2ANm"
      },
      "source": [
        "import torch\n",
        "from torchtext import data\n",
        "from torchtext import datasets\n",
        "\n",
        "import spacy\n",
        "nlp = spacy.load('en')\n",
        "\n",
        "SEED = 1\n",
        "\n",
        "torch.manual_seed(SEED)\n",
        "torch.backends.cudnn.deterministic = True\n",
        "\n",
        "TEXT = data.Field(tokenize = 'spacy', include_lengths = True)\n",
        "LABEL = data.LabelField(dtype = torch.float)"
      ],
      "execution_count": 1,
      "outputs": []
    },
    {
      "cell_type": "code",
      "metadata": {
        "id": "f90U3XeZ2Ex4",
        "colab": {
          "base_uri": "https://localhost:8080/"
        },
        "outputId": "c88f25b2-ef62-4fb1-9092-1029280c4b3e"
      },
      "source": [
        "from torchtext import datasets\n",
        "\n",
        "train_data, test_data = datasets.IMDB.splits(TEXT, LABEL)"
      ],
      "execution_count": 2,
      "outputs": [
        {
          "output_type": "stream",
          "text": [
            "downloading aclImdb_v1.tar.gz\n"
          ],
          "name": "stdout"
        },
        {
          "output_type": "stream",
          "text": [
            "aclImdb_v1.tar.gz: 100%|██████████| 84.1M/84.1M [00:08<00:00, 9.57MB/s]\n"
          ],
          "name": "stderr"
        }
      ]
    },
    {
      "cell_type": "code",
      "metadata": {
        "id": "W46RyAxU2LOD"
      },
      "source": [
        "import random\n",
        "\n",
        "train_data, valid_data = train_data.split(random_state = random.seed(SEED))"
      ],
      "execution_count": 3,
      "outputs": []
    },
    {
      "cell_type": "code",
      "metadata": {
        "colab": {
          "base_uri": "https://localhost:8080/"
        },
        "id": "hPp9bwm15DZG",
        "outputId": "058e4c1d-74f7-4145-c5b1-168991e9eddd"
      },
      "source": [
        "print(f'Number of training examples: {len(train_data)}')\n",
        "print(f'Number of validation examples: {len(valid_data)}')\n",
        "print(f'Number of testing examples: {len(test_data)}')\n",
        "print(vars(train_data.examples[0]))"
      ],
      "execution_count": 4,
      "outputs": [
        {
          "output_type": "stream",
          "text": [
            "Number of training examples: 17500\n",
            "Number of validation examples: 7500\n",
            "Number of testing examples: 25000\n",
            "{'text': ['I', 'would', 'like', 'to', 'know', 'why', 'John', 'Amos', 'left', 'the', 'show', ',', 'and', 'how', 'did', 'he', 'die', 'off', 'the', 'show', 'again', '?', 'I', 'could', \"n't\", 'relate', 'to', 'everything', ',', 'but', 'sometimes', 'they', 'hit', 'home', 'with', 'the', 'problems', 'they', 'were', 'facing', '.', 'By', 'the', 'way', ',', 'did', 'they', 'ever', 'make', 'it', 'out', 'of', 'the', 'ghetto', '?', 'I', 'think', 'the', 'episode', 'with', 'the', 'black', 'Jesus', 'was', 'my', 'favorite', '.', 'We', 'got', 'to', 'see', 'them', 'experience', 'a', 'few', 'good', 'times', '.', 'something', 'they', 'did', \"n't\", 'have', 'very', 'often', '.', 'I', 'wish', 'they', 'would', 'bring', 'the', 'show', 'back', '.', 'During', 'the', 'daytime', 'so', 'people', 'can', 'actually', 'stay', 'up', 'to', 'watch', '.', 'I', 'do', \"n't\", 'think', 'a', 'movie', 'or', 'a', 'new', 'show', 'would', 'work', '.', 'Especially', 'without', 'the', 'original', 'cast', '.', 'They', 'are', 'really', 'what', 'made', 'Good', 'Times', 'GoodTimes', '.', 'These', 'are', 'my', 'questions', 'and', 'comments', '.', 'Thank', 'You', '!', '!'], 'label': 'pos'}\n"
          ],
          "name": "stdout"
        }
      ]
    },
    {
      "cell_type": "code",
      "metadata": {
        "colab": {
          "base_uri": "https://localhost:8080/"
        },
        "id": "4NNyUwZG4Ajf",
        "outputId": "44b89e8f-814f-4b24-8a2f-b66891a4d6d3"
      },
      "source": [
        "MAX_VOCAB_SIZE = 25000\n",
        "\n",
        "TEXT.build_vocab(train_data, \n",
        "                 max_size = MAX_VOCAB_SIZE, \n",
        "                 vectors = \"glove.6B.100d\", \n",
        "                 unk_init = torch.Tensor.normal_)\n",
        "\n",
        "LABEL.build_vocab(train_data)"
      ],
      "execution_count": 5,
      "outputs": [
        {
          "output_type": "stream",
          "text": [
            ".vector_cache/glove.6B.zip: 862MB [06:30, 2.21MB/s]                           \n",
            " 99%|█████████▉| 397794/400000 [00:17<00:00, 20293.61it/s]"
          ],
          "name": "stderr"
        }
      ]
    },
    {
      "cell_type": "code",
      "metadata": {
        "colab": {
          "base_uri": "https://localhost:8080/"
        },
        "id": "FIfNJnFe4Lns",
        "outputId": "f8155c70-2ee5-43c5-872f-de788ccc5ef3"
      },
      "source": [
        "print(f\"Unique tokens in TEXT vocabulary: {len(TEXT.vocab)}\")\n",
        "print(f\"Unique tokens in LABEL vocabulary: {len(LABEL.vocab)}\")"
      ],
      "execution_count": 6,
      "outputs": [
        {
          "output_type": "stream",
          "text": [
            "Unique tokens in TEXT vocabulary: 25002\n",
            "Unique tokens in LABEL vocabulary: 2\n"
          ],
          "name": "stdout"
        }
      ]
    },
    {
      "cell_type": "code",
      "metadata": {
        "id": "JzfUDBJU7Ih0"
      },
      "source": [
        "BATCH_SIZE = 32\n",
        "\n",
        "device = torch.device('cuda' if torch.cuda.is_available() else 'cpu')\n",
        "\n",
        "train_iterator, valid_iterator, test_iterator = data.BucketIterator.splits(\n",
        "    (train_data, valid_data, test_data), \n",
        "    batch_size = BATCH_SIZE,\n",
        "    sort_within_batch = True,\n",
        "    device = device)"
      ],
      "execution_count": 7,
      "outputs": []
    },
    {
      "cell_type": "code",
      "metadata": {
        "id": "Fe_MKunf7Lbt"
      },
      "source": [
        "import torch.nn as nn\n",
        "\n",
        "class RNN(nn.Module):\n",
        "    def __init__(self, vocab_size, embedding_dim, hidden_dim, output_dim, n_layers, \n",
        "                 bidirectional, dropout, pad_idx):\n",
        "        super().__init__()\n",
        "        self.embedding = nn.Embedding(vocab_size, embedding_dim, padding_idx = pad_idx)\n",
        "\n",
        "        self.rnns = nn.ModuleList()\n",
        "        for i in range(3):\n",
        "            input_size = embedding_dim if i == 0 else hidden_dim\n",
        "            self.rnns.append(nn.LSTM(input_size, hidden_dim, num_layers=1,bidirectional=False,dropout=dropout))\n",
        "\n",
        "        self.fc = nn.Linear(hidden_dim, output_dim)\n",
        "\n",
        "        self.dropout = nn.Dropout(dropout)\n",
        "        \n",
        "    def forward(self, text, text_lengths):\n",
        "        text_lengths = text_lengths.cpu()\n",
        "        embedded = self.dropout(self.embedding(text))\n",
        "        packed_embedded = nn.utils.rnn.pack_padded_sequence(embedded, text_lengths)\n",
        "        o = packed_embedded\n",
        "        for rnn in self.rnns:\n",
        "            packed_output, (o, cell) = rnn(o)\n",
        "        hidden = o\n",
        "        hidden = hidden.squeeze(0)\n",
        "\n",
        "            \n",
        "        return self.fc(hidden)"
      ],
      "execution_count": 8,
      "outputs": []
    },
    {
      "cell_type": "code",
      "metadata": {
        "id": "uElwAJnt7Qa_",
        "colab": {
          "base_uri": "https://localhost:8080/"
        },
        "outputId": "7b1a1ad3-ce6e-4dd7-ec44-13f7caea23b1"
      },
      "source": [
        "INPUT_DIM = len(TEXT.vocab)\n",
        "EMBEDDING_DIM = 100\n",
        "HIDDEN_DIM = 256\n",
        "OUTPUT_DIM = 1\n",
        "N_LAYERS = 2\n",
        "BIDIRECTIONAL = True\n",
        "DROPOUT = 0.2\n",
        "PAD_IDX = TEXT.vocab.stoi[TEXT.pad_token]\n",
        "\n",
        "model = RNN(INPUT_DIM, \n",
        "            EMBEDDING_DIM, \n",
        "            HIDDEN_DIM, \n",
        "            OUTPUT_DIM, \n",
        "            N_LAYERS, \n",
        "            BIDIRECTIONAL, \n",
        "            DROPOUT, \n",
        "            PAD_IDX)"
      ],
      "execution_count": 9,
      "outputs": [
        {
          "output_type": "stream",
          "text": [
            "/usr/local/lib/python3.6/dist-packages/torch/nn/modules/rnn.py:61: UserWarning: dropout option adds dropout after all but last recurrent layer, so non-zero dropout expects num_layers greater than 1, but got dropout=0.2 and num_layers=1\n",
            "  \"num_layers={}\".format(dropout, num_layers))\n"
          ],
          "name": "stderr"
        }
      ]
    },
    {
      "cell_type": "code",
      "metadata": {
        "colab": {
          "base_uri": "https://localhost:8080/"
        },
        "id": "HiGocXawis_y",
        "outputId": "7127bd70-eafa-44f0-c22c-62f3f7430d8f"
      },
      "source": [
        "###### checking to see if 3 LSTM layers are there ##########\n",
        "print(model)"
      ],
      "execution_count": 10,
      "outputs": [
        {
          "output_type": "stream",
          "text": [
            "RNN(\n",
            "  (embedding): Embedding(25002, 100, padding_idx=1)\n",
            "  (rnns): ModuleList(\n",
            "    (0): LSTM(100, 256, dropout=0.2)\n",
            "    (1): LSTM(256, 256, dropout=0.2)\n",
            "    (2): LSTM(256, 256, dropout=0.2)\n",
            "  )\n",
            "  (fc): Linear(in_features=256, out_features=1, bias=True)\n",
            "  (dropout): Dropout(p=0.2, inplace=False)\n",
            ")\n"
          ],
          "name": "stdout"
        }
      ]
    },
    {
      "cell_type": "code",
      "metadata": {
        "colab": {
          "base_uri": "https://localhost:8080/"
        },
        "id": "wACr_E967T91",
        "outputId": "22f52833-313c-44d3-9958-5bc5ea62d0ef"
      },
      "source": [
        "def count_parameters(model):\n",
        "    return sum(p.numel() for p in model.parameters() if p.requires_grad)\n",
        "\n",
        "print(f'The model has {count_parameters(model):,} trainable parameters')"
      ],
      "execution_count": 11,
      "outputs": [
        {
          "output_type": "stream",
          "text": [
            "The model has 3,919,721 trainable parameters\n"
          ],
          "name": "stdout"
        }
      ]
    },
    {
      "cell_type": "code",
      "metadata": {
        "colab": {
          "base_uri": "https://localhost:8080/"
        },
        "id": "U0c7VVPL7Wpa",
        "outputId": "6dae2210-297f-4492-8d50-f21141edf85e"
      },
      "source": [
        "pretrained_embeddings = TEXT.vocab.vectors\n",
        "\n",
        "print(pretrained_embeddings.shape)"
      ],
      "execution_count": 12,
      "outputs": [
        {
          "output_type": "stream",
          "text": [
            "torch.Size([25002, 100])\n"
          ],
          "name": "stdout"
        }
      ]
    },
    {
      "cell_type": "code",
      "metadata": {
        "colab": {
          "base_uri": "https://localhost:8080/"
        },
        "id": "HzLiLmwU7ZaI",
        "outputId": "951f17a7-bdd0-4978-8b23-90e02750cba7"
      },
      "source": [
        "\n",
        "model.embedding.weight.data.copy_(pretrained_embeddings)"
      ],
      "execution_count": 13,
      "outputs": [
        {
          "output_type": "execute_result",
          "data": {
            "text/plain": [
              "tensor([[-1.5256, -0.7502, -0.6540,  ...,  0.3434, -1.0703, -0.8743],\n",
              "        [ 0.2053,  0.3051,  0.5357,  ..., -0.4203,  0.2828,  0.3642],\n",
              "        [-0.0382, -0.2449,  0.7281,  ..., -0.1459,  0.8278,  0.2706],\n",
              "        ...,\n",
              "        [-0.3598, -0.2233, -0.4987,  ..., -0.1588, -0.0903, -0.3353],\n",
              "        [-1.4251, -0.7188,  0.6457,  ...,  1.3513, -1.5572,  0.4356],\n",
              "        [ 0.3276,  0.0985, -0.3828,  ..., -0.3682,  0.1669, -0.1790]])"
            ]
          },
          "metadata": {
            "tags": []
          },
          "execution_count": 13
        }
      ]
    },
    {
      "cell_type": "code",
      "metadata": {
        "colab": {
          "base_uri": "https://localhost:8080/"
        },
        "id": "pqtgo-NZ7buY",
        "outputId": "21f72566-66ae-4d52-e687-20e17561f2e0"
      },
      "source": [
        "UNK_IDX = TEXT.vocab.stoi[TEXT.unk_token]\n",
        "\n",
        "model.embedding.weight.data[UNK_IDX] = torch.zeros(EMBEDDING_DIM)\n",
        "model.embedding.weight.data[PAD_IDX] = torch.zeros(EMBEDDING_DIM)\n",
        "\n",
        "print(model.embedding.weight.data)"
      ],
      "execution_count": 14,
      "outputs": [
        {
          "output_type": "stream",
          "text": [
            "tensor([[ 0.0000,  0.0000,  0.0000,  ...,  0.0000,  0.0000,  0.0000],\n",
            "        [ 0.0000,  0.0000,  0.0000,  ...,  0.0000,  0.0000,  0.0000],\n",
            "        [-0.0382, -0.2449,  0.7281,  ..., -0.1459,  0.8278,  0.2706],\n",
            "        ...,\n",
            "        [-0.3598, -0.2233, -0.4987,  ..., -0.1588, -0.0903, -0.3353],\n",
            "        [-1.4251, -0.7188,  0.6457,  ...,  1.3513, -1.5572,  0.4356],\n",
            "        [ 0.3276,  0.0985, -0.3828,  ..., -0.3682,  0.1669, -0.1790]])\n"
          ],
          "name": "stdout"
        }
      ]
    },
    {
      "cell_type": "code",
      "metadata": {
        "id": "eDsm9kDi7dfO"
      },
      "source": [
        "import torch.optim as optim\n",
        "\n",
        "optimizer = optim.Adam(model.parameters())"
      ],
      "execution_count": 15,
      "outputs": []
    },
    {
      "cell_type": "code",
      "metadata": {
        "id": "30AOk7EJ7fzF"
      },
      "source": [
        "criterion = nn.BCEWithLogitsLoss()\n",
        "\n",
        "model = model.to(device)\n",
        "criterion = criterion.to(device)"
      ],
      "execution_count": 16,
      "outputs": []
    },
    {
      "cell_type": "code",
      "metadata": {
        "id": "VXCDIvlj7hoN"
      },
      "source": [
        "def binary_accuracy(preds, y):\n",
        "    \"\"\"\n",
        "    Returns accuracy per batch, i.e. if you get 8/10 right, this returns 0.8, NOT 8\n",
        "    \"\"\"\n",
        "\n",
        "    #round predictions to the closest integer\n",
        "    rounded_preds = torch.round(torch.sigmoid(preds))\n",
        "    correct = (rounded_preds == y).float() #convert into float for division \n",
        "    acc = correct.sum() / len(correct)\n",
        "    return acc"
      ],
      "execution_count": 17,
      "outputs": []
    },
    {
      "cell_type": "code",
      "metadata": {
        "id": "jV-fPnhQ7kI-"
      },
      "source": [
        "def train(model, iterator, optimizer, criterion):\n",
        "    \n",
        "    epoch_loss = 0\n",
        "    epoch_acc = 0\n",
        "    \n",
        "    model.train()\n",
        "    \n",
        "    for batch in iterator:\n",
        "        \n",
        "        optimizer.zero_grad()\n",
        "        \n",
        "        text, text_lengths = batch.text\n",
        "\n",
        "        ########## reversing the tokens for maiking the model train in reverse order of words(tokens) ############\n",
        "        text = torch.flip(text, [0])\n",
        "        ##############################################\n",
        "\n",
        "        predictions = model(text, text_lengths).squeeze(1)\n",
        "        # print(predictions.shape)\n",
        "        # print(batch.label.shape)\n",
        "        loss = criterion(predictions, batch.label)\n",
        "        \n",
        "        acc = binary_accuracy(predictions, batch.label)\n",
        "        \n",
        "        loss.backward()\n",
        "        \n",
        "        optimizer.step()\n",
        "        \n",
        "        epoch_loss += loss.item()\n",
        "        epoch_acc += acc.item()\n",
        "        \n",
        "    return epoch_loss / len(iterator), epoch_acc / len(iterator)"
      ],
      "execution_count": 18,
      "outputs": []
    },
    {
      "cell_type": "code",
      "metadata": {
        "id": "1FQmY7IM7l9F"
      },
      "source": [
        "def evaluate(model, iterator, criterion):\n",
        "    \n",
        "    epoch_loss = 0\n",
        "    epoch_acc = 0\n",
        "    \n",
        "    model.eval()\n",
        "    \n",
        "    with torch.no_grad():\n",
        "    \n",
        "        for batch in iterator:\n",
        "\n",
        "            text, text_lengths = batch.text\n",
        "            \n",
        "            predictions = model(text, text_lengths).squeeze(1)\n",
        "            \n",
        "            loss = criterion(predictions, batch.label)\n",
        "            \n",
        "            acc = binary_accuracy(predictions, batch.label)\n",
        "\n",
        "            epoch_loss += loss.item()\n",
        "            epoch_acc += acc.item()\n",
        "        \n",
        "    return epoch_loss / len(iterator), epoch_acc / len(iterator)\n"
      ],
      "execution_count": 19,
      "outputs": []
    },
    {
      "cell_type": "code",
      "metadata": {
        "id": "r0ERdc8t7nt9"
      },
      "source": [
        "import time\n",
        "\n",
        "def epoch_time(start_time, end_time):\n",
        "    elapsed_time = end_time - start_time\n",
        "    elapsed_mins = int(elapsed_time / 60)\n",
        "    elapsed_secs = int(elapsed_time - (elapsed_mins * 60))\n",
        "    return elapsed_mins, elapsed_secs"
      ],
      "execution_count": 20,
      "outputs": []
    },
    {
      "cell_type": "code",
      "metadata": {
        "colab": {
          "base_uri": "https://localhost:8080/"
        },
        "id": "rS27OLIC7pTh",
        "outputId": "57f00d33-a6bd-4c3e-9308-746ac1dfa5b7"
      },
      "source": [
        "N_EPOCHS = 20\n",
        "\n",
        "best_valid_loss = float('inf')\n",
        "\n",
        "for epoch in range(N_EPOCHS):\n",
        "\n",
        "    start_time = time.time()\n",
        "    \n",
        "    train_loss, train_acc = train(model, train_iterator, optimizer, criterion)\n",
        "    valid_loss, valid_acc = evaluate(model, valid_iterator, criterion)\n",
        "    \n",
        "    end_time = time.time()\n",
        "\n",
        "    epoch_mins, epoch_secs = epoch_time(start_time, end_time)\n",
        "    \n",
        "    if valid_loss < best_valid_loss:\n",
        "        best_valid_loss = valid_loss\n",
        "        print('saving better model')\n",
        "        torch.save(model.state_dict(), 'tut2-model.pt')\n",
        "    \n",
        "    print(f'Epoch: {epoch+1:02} | Epoch Time: {epoch_mins}m {epoch_secs}s')\n",
        "    print(f'\\tTrain Loss: {train_loss:.3f} | Train Acc: {train_acc*100:.2f}%')\n",
        "    print(f'\\t Val. Loss: {valid_loss:.3f} |  Val. Acc: {valid_acc*100:.2f}%')"
      ],
      "execution_count": 21,
      "outputs": [
        {
          "output_type": "stream",
          "text": [
            "\r 99%|█████████▉| 397794/400000 [00:30<00:00, 20293.61it/s]"
          ],
          "name": "stderr"
        },
        {
          "output_type": "stream",
          "text": [
            "saving better model\n",
            "Epoch: 01 | Epoch Time: 0m 16s\n",
            "\tTrain Loss: 0.687 | Train Acc: 54.57%\n",
            "\t Val. Loss: 0.693 |  Val. Acc: 50.90%\n",
            "saving better model\n",
            "Epoch: 02 | Epoch Time: 0m 16s\n",
            "\tTrain Loss: 0.646 | Train Acc: 61.10%\n",
            "\t Val. Loss: 0.670 |  Val. Acc: 58.40%\n",
            "saving better model\n",
            "Epoch: 03 | Epoch Time: 0m 16s\n",
            "\tTrain Loss: 0.392 | Train Acc: 83.24%\n",
            "\t Val. Loss: 0.312 |  Val. Acc: 86.01%\n",
            "saving better model\n",
            "Epoch: 04 | Epoch Time: 0m 16s\n",
            "\tTrain Loss: 0.236 | Train Acc: 90.95%\n",
            "\t Val. Loss: 0.293 |  Val. Acc: 88.07%\n",
            "Epoch: 05 | Epoch Time: 0m 16s\n",
            "\tTrain Loss: 0.176 | Train Acc: 93.60%\n",
            "\t Val. Loss: 0.299 |  Val. Acc: 88.36%\n",
            "Epoch: 06 | Epoch Time: 0m 16s\n",
            "\tTrain Loss: 0.127 | Train Acc: 95.57%\n",
            "\t Val. Loss: 0.357 |  Val. Acc: 88.51%\n",
            "Epoch: 07 | Epoch Time: 0m 16s\n",
            "\tTrain Loss: 0.094 | Train Acc: 96.92%\n",
            "\t Val. Loss: 0.343 |  Val. Acc: 88.07%\n",
            "Epoch: 08 | Epoch Time: 0m 16s\n",
            "\tTrain Loss: 0.072 | Train Acc: 97.71%\n",
            "\t Val. Loss: 0.401 |  Val. Acc: 87.99%\n",
            "Epoch: 09 | Epoch Time: 0m 16s\n",
            "\tTrain Loss: 0.057 | Train Acc: 98.30%\n",
            "\t Val. Loss: 0.454 |  Val. Acc: 87.49%\n",
            "Epoch: 10 | Epoch Time: 0m 16s\n",
            "\tTrain Loss: 0.042 | Train Acc: 98.79%\n",
            "\t Val. Loss: 0.497 |  Val. Acc: 87.81%\n",
            "Epoch: 11 | Epoch Time: 0m 16s\n",
            "\tTrain Loss: 0.039 | Train Acc: 98.87%\n",
            "\t Val. Loss: 0.484 |  Val. Acc: 88.15%\n",
            "Epoch: 12 | Epoch Time: 0m 16s\n",
            "\tTrain Loss: 0.034 | Train Acc: 99.00%\n",
            "\t Val. Loss: 0.493 |  Val. Acc: 87.55%\n",
            "Epoch: 13 | Epoch Time: 0m 16s\n",
            "\tTrain Loss: 0.029 | Train Acc: 99.15%\n",
            "\t Val. Loss: 0.537 |  Val. Acc: 87.75%\n",
            "Epoch: 14 | Epoch Time: 0m 16s\n",
            "\tTrain Loss: 0.027 | Train Acc: 99.25%\n",
            "\t Val. Loss: 0.547 |  Val. Acc: 87.62%\n",
            "Epoch: 15 | Epoch Time: 0m 16s\n",
            "\tTrain Loss: 0.022 | Train Acc: 99.28%\n",
            "\t Val. Loss: 0.564 |  Val. Acc: 87.45%\n",
            "Epoch: 16 | Epoch Time: 0m 16s\n",
            "\tTrain Loss: 0.019 | Train Acc: 99.45%\n",
            "\t Val. Loss: 0.537 |  Val. Acc: 87.58%\n",
            "Epoch: 17 | Epoch Time: 0m 16s\n",
            "\tTrain Loss: 0.018 | Train Acc: 99.50%\n",
            "\t Val. Loss: 0.612 |  Val. Acc: 87.69%\n",
            "Epoch: 18 | Epoch Time: 0m 16s\n",
            "\tTrain Loss: 0.016 | Train Acc: 99.51%\n",
            "\t Val. Loss: 0.546 |  Val. Acc: 87.55%\n",
            "Epoch: 19 | Epoch Time: 0m 16s\n",
            "\tTrain Loss: 0.013 | Train Acc: 99.61%\n",
            "\t Val. Loss: 0.687 |  Val. Acc: 87.81%\n",
            "Epoch: 20 | Epoch Time: 0m 16s\n",
            "\tTrain Loss: 0.015 | Train Acc: 99.47%\n",
            "\t Val. Loss: 0.658 |  Val. Acc: 87.51%\n"
          ],
          "name": "stdout"
        }
      ]
    },
    {
      "cell_type": "code",
      "metadata": {
        "colab": {
          "base_uri": "https://localhost:8080/"
        },
        "id": "9aAM6Hse7rFM",
        "outputId": "62ef974a-b968-40d5-e768-ef8abd735fca"
      },
      "source": [
        "model.load_state_dict(torch.load('tut2-model.pt'))\n",
        "\n",
        "test_loss, test_acc = evaluate(model, test_iterator, criterion)\n",
        "\n",
        "print(f'Test Loss: {test_loss:.3f} | Test Acc: {test_acc*100:.2f}%')"
      ],
      "execution_count": 22,
      "outputs": [
        {
          "output_type": "stream",
          "text": [
            "Test Loss: 0.315 | Test Acc: 87.25%\n"
          ],
          "name": "stdout"
        }
      ]
    },
    {
      "cell_type": "code",
      "metadata": {
        "id": "x_dNjAo7RQ9u"
      },
      "source": [
        "# import spacy\n",
        "# nlp = spacy.load('en')\n",
        "\n",
        "def predict_sentiment(model, sentence):\n",
        "    model.eval()\n",
        "    tokenized = [tok.text for tok in nlp.tokenizer(sentence)]\n",
        "    indexed = [TEXT.vocab.stoi[t] for t in tokenized]\n",
        "    length = [len(indexed)]\n",
        "    tensor = torch.LongTensor(indexed).to(device)\n",
        "    tensor = tensor.unsqueeze(1)\n",
        "    length_tensor = torch.LongTensor(length)\n",
        "    prediction = torch.sigmoid(model(tensor, length_tensor))\n",
        "    return prediction.item()"
      ],
      "execution_count": 23,
      "outputs": []
    },
    {
      "cell_type": "code",
      "metadata": {
        "colab": {
          "base_uri": "https://localhost:8080/"
        },
        "id": "-BFnvIk3RWJS",
        "outputId": "12fea8e4-4d29-4471-a367-107a1939cc33"
      },
      "source": [
        "predict_sentiment(model, \"This film is good\")"
      ],
      "execution_count": 24,
      "outputs": [
        {
          "output_type": "execute_result",
          "data": {
            "text/plain": [
              "0.9578144550323486"
            ]
          },
          "metadata": {
            "tags": []
          },
          "execution_count": 24
        }
      ]
    },
    {
      "cell_type": "code",
      "metadata": {
        "colab": {
          "base_uri": "https://localhost:8080/"
        },
        "id": "OlQxZtrXRX07",
        "outputId": "6b68516b-b0a7-4538-8335-d250ef7db50e"
      },
      "source": [
        "predict_sentiment(model, \"This film is great\")"
      ],
      "execution_count": 25,
      "outputs": [
        {
          "output_type": "execute_result",
          "data": {
            "text/plain": [
              "0.9846293926239014"
            ]
          },
          "metadata": {
            "tags": []
          },
          "execution_count": 25
        }
      ]
    },
    {
      "cell_type": "code",
      "metadata": {
        "colab": {
          "base_uri": "https://localhost:8080/"
        },
        "id": "Ac3WqDzjRZax",
        "outputId": "38113216-69b2-498c-eef1-5b4395164223"
      },
      "source": [
        "predict_sentiment(model, \"This film is pathetic\")"
      ],
      "execution_count": 26,
      "outputs": [
        {
          "output_type": "execute_result",
          "data": {
            "text/plain": [
              "0.43270018696784973"
            ]
          },
          "metadata": {
            "tags": []
          },
          "execution_count": 26
        }
      ]
    },
    {
      "cell_type": "code",
      "metadata": {
        "id": "OoOH8vfVRbOZ"
      },
      "source": [
        ""
      ],
      "execution_count": null,
      "outputs": []
    }
  ]
}